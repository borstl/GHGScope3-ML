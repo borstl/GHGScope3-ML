{
 "cells": [
  {
   "metadata": {
    "tags": [
     "Initialization"
    ]
   },
   "cell_type": "markdown",
   "source": [
    "# Setup\n",
    "Configuration, Logger, Counter and Downloader"
   ],
   "id": "b2f2a0d6e7bd322b"
  },
  {
   "metadata": {},
   "cell_type": "code",
   "source": [
    "import os\n",
    "import logging\n",
    "\n",
    "import numpy as np\n",
    "import pandas as pd\n",
    "\n",
    "from core.config import Config\n",
    "from data.cleaning import read_all_static_csv, read_all_historic_csv\n",
    "from data.download import LSEGDataDownloader\n",
    "\n",
    "os.environ[\"RD_LIB_CONFIG_PATH\"] = \"/Configuration\"\n",
    "\n",
    "config = Config()\n",
    "logging.basicConfig(\n",
    "        filename=config.log_file,\n",
    "        encoding=\"utf-8\",\n",
    "        level=config.log_level,\n",
    "        format='%(asctime)s %(levelname)-8s %(message)s',\n",
    "        datefmt = '%Y-%m-%d %H:%M:%S'\n",
    "    )\n",
    "logger = logging.getLogger()"
   ],
   "id": "e74ca2369a377986",
   "outputs": [],
   "execution_count": null
  },
  {
   "metadata": {},
   "cell_type": "markdown",
   "source": "## Downloading time series Data",
   "id": "d595c661a33d1b36"
  },
  {
   "metadata": {},
   "cell_type": "code",
   "source": [
    "with (LSEGDataDownloader(config) as downloader):\n",
    "    logger.info(\"Downloading historic frames from LSEG database A-Z\")\n",
    "    for chunk in config.companies_historic_chunks:\n",
    "        historic_result: dict[str, pd.DataFrame] = (\n",
    "            downloader.download_all_historic_chunks(chunk)\n",
    "        )"
   ],
   "id": "8ea3a8e6266ce6f9",
   "outputs": [],
   "execution_count": null
  },
  {
   "metadata": {},
   "cell_type": "markdown",
   "source": "## Downloading static Data",
   "id": "9391c4d8701b8b7e"
  },
  {
   "metadata": {},
   "cell_type": "markdown",
   "source": "## Merging Frames",
   "id": "b73841eeb5c5753c"
  },
  {
   "metadata": {},
   "cell_type": "code",
   "source": [
    "static_dictionary: dict[str, pd.DataFrame] = read_all_static_csv(config.static_dir)\n",
    "all_static_frame: pd.DataFrame = pd.concat(static_dictionary.values())"
   ],
   "id": "7b1b63d6f7badd63",
   "outputs": [],
   "execution_count": null
  },
  {
   "metadata": {},
   "cell_type": "code",
   "source": [
    "historic_dictionary: dict[str, pd.DataFrame] = read_all_historic_csv(config.historic_dir)\n",
    "all_historic_frame: pd.DataFrame = pd.concat(historic_dictionary.values())"
   ],
   "id": "86cb1d6bf1debbc9",
   "outputs": [],
   "execution_count": null
  },
  {
   "metadata": {},
   "cell_type": "markdown",
   "source": "## Analysing Frames",
   "id": "56f904e5c1d0cb40"
  },
  {
   "metadata": {},
   "cell_type": "markdown",
   "source": "### Counting same static columns/features from companys",
   "id": "f9fc4e8205edaa04"
  },
  {
   "metadata": {},
   "cell_type": "code",
   "source": [
    "from collections import Counter\n",
    "static_counter: Counter = Counter()\n",
    "for dataframe in static_dictionary.values():\n",
    "    static_counter.update(dataframe.columns.to_list())\n",
    "most_common_static_columns: list[tuple[str, int]] = static_counter.most_common()"
   ],
   "id": "fefc0caa4dc1af10",
   "outputs": [],
   "execution_count": null
  },
  {
   "metadata": {},
   "cell_type": "code",
   "source": [
    "bar_data: pd.DataFrame = pd.DataFrame(most_common_static_columns, columns=[\"Features\", \"sameFeatureCount\"])\n",
    "bar_data.drop(columns=\"Features\", inplace=True)\n",
    "bar_data[\"sameFeatureCount\"] = bar_data[\"sameFeatureCount\"].apply(lambda x: x/len(static_dictionary) * 100)\n",
    "labels = [\"{0} - {1}\".format(i, i + 10) for i in range(0, 100, 10)]\n",
    "bar_data[\"companyCountIn%\"] = pd.cut(bar_data[1], range(0, 101, 10), labels=labels, right=True)\n",
    "grouped: pd.DataFrame = bar_data.groupby(\"companyCountIn%\").count().reset_index(names=\"companyCountIn%\")\n",
    "grouped[\"companyCountIn%\"] = grouped[\"companyCountIn%\"].astype(str)\n",
    "\n",
    "import plotly.express as px\n",
    "fig = px.bar(grouped, x=\"companyCountIn%\", y=\"sameFeatureCount\", color=\"sameFeatureCount\", color_continuous_scale=\"mint\", text_auto=True)\n",
    "fig.update_traces(cliponaxis=False)\n",
    "fig.update_xaxes(title='Anzahl Unternehmen in %')\n",
    "fig.update_yaxes(title='Anzahl gleicher statischer Features')\n",
    "fig.show()"
   ],
   "id": "7fcb8c5c9e4f51bd",
   "outputs": [],
   "execution_count": null
  },
  {
   "metadata": {},
   "cell_type": "code",
   "source": "# Count NaN in the whole static frame and filter",
   "id": "50a9b9482b3ef6df",
   "outputs": [],
   "execution_count": null
  },
  {
   "metadata": {},
   "cell_type": "markdown",
   "source": "### Counting same time series columns/features from companys",
   "id": "e6abbc7bd7c91467"
  },
  {
   "metadata": {},
   "cell_type": "code",
   "source": [
    "from collections import Counter\n",
    "historic_counter: Counter = Counter()\n",
    "for dataframe in historic_dictionary.values():\n",
    "    column_names: list[str] = dataframe.columns.to_list()\n",
    "    historic_counter.update(column_names)\n",
    "most_common_historic_columns: list[tuple[str, int]] = historic_counter.most_common()\n",
    "filtered_columns: list[str] = [counts[0] for counts in most_common_historic_columns if counts[1] < 100]\n",
    "historic_dictionary_len = len(historic_dictionary)\n",
    "del historic_dictionary"
   ],
   "id": "b01f6782f707116",
   "outputs": [],
   "execution_count": null
  },
  {
   "metadata": {},
   "cell_type": "code",
   "source": [
    "bar_data: pd.DataFrame = pd.DataFrame(most_common_historic_columns, columns=[\"Features\", \"sameFeatureCount\"])\n",
    "bar_data.drop(columns=\"Features\", inplace=True)\n",
    "bar_data[\"sameFeatureCount\"] = bar_data[\"sameFeatureCount\"].apply(lambda x: x/historic_dictionary_len * 100)\n",
    "labels = [\"{0} - {1}\".format(i, i + 10) for i in range(0, 100, 10)]\n",
    "bar_data[\"companyCountIn%\"] = pd.cut(bar_data[\"sameFeatureCount\"], range(0, 101, 10), labels=labels, right=True)\n",
    "grouped: pd.DataFrame = bar_data.groupby(\"companyCountIn%\").count().reset_index(names=\"companyCountIn%\")\n",
    "grouped[\"companyCountIn%\"] = grouped[\"companyCountIn%\"].astype(str)\n",
    "\n",
    "import plotly.express as px\n",
    "fig = px.bar(grouped, x=\"companyCountIn%\", y=\"sameFeatureCount\", color=\"sameFeatureCount\", color_continuous_scale=\"mint\", text_auto=True)\n",
    "fig.update_traces(cliponaxis=False)\n",
    "fig.update_xaxes(title='Anzahl Unternehmen in %')\n",
    "fig.update_yaxes(title='Anzahl gleicher zeitreihen Features')\n",
    "fig.show()"
   ],
   "id": "f7bd7182d208a18c",
   "outputs": [],
   "execution_count": null
  },
  {
   "metadata": {},
   "cell_type": "code",
   "source": "# Count NaN in the whole time series frame and filter",
   "id": "627bdd6fe588f55",
   "outputs": [],
   "execution_count": null
  },
  {
   "metadata": {},
   "cell_type": "code",
   "source": "reduced_historic: pd.DataFrame = all_historic_frame.drop(columns=filtered_columns)",
   "id": "761744c25773bfe2",
   "outputs": [],
   "execution_count": null
  },
  {
   "metadata": {},
   "cell_type": "markdown",
   "source": "# Other Functions",
   "id": "f3b5bc59b70c65a0"
  },
  {
   "metadata": {},
   "cell_type": "code",
   "source": [
    "import re\n",
    "\n",
    "dir1 = config.dataset_dir / \"historic\"\n",
    "dir2 = config.dataset_dir / \"static\"\n",
    "files1: list[str] = [file.name for file in dir1.glob(\"*.csv\")]\n",
    "names1: list[str] = [re.findall(r\"company-+(.*).csv\", file)[0] for file in files1]\n",
    "files2: list[str] = [file.name for file in dir2.glob(\"*.csv\")]\n",
    "names2: list[str] = [re.findall(r\"company-+(.*).csv\", file)[0] for file in files2]\n",
    "not_in1: list[str] = [name for name in names2 if name not in names1]\n",
    "not_in2: list[str] = [name for name in names1 if name not in names2]\n",
    "not_in_both: list[str] = not_in1 + not_in2"
   ],
   "id": "c05e6e49fdb3dfec",
   "outputs": [],
   "execution_count": null
  },
  {
   "metadata": {},
   "cell_type": "code",
   "source": [
    "def is_unique(s: pd.DataFrame):\n",
    "    a: np.ndarray = s.to_numpy()\n",
    "    return (a[0] == a).all()\n",
    "without_same_results: pd.DataFrame = all_static_frame[all_static_frame.apply(is_unique, axis=1)]"
   ],
   "id": "4ba2bfd890724108",
   "outputs": [],
   "execution_count": null
  }
 ],
 "metadata": {
  "kernelspec": {
   "display_name": "Python 3",
   "language": "python",
   "name": "python3"
  },
  "language_info": {
   "codemirror_mode": {
    "name": "ipython",
    "version": 2
   },
   "file_extension": ".py",
   "mimetype": "text/x-python",
   "name": "python",
   "nbconvert_exporter": "python",
   "pygments_lexer": "ipython2",
   "version": "2.7.6"
  }
 },
 "nbformat": 4,
 "nbformat_minor": 5
}
