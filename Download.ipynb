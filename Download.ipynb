{
 "cells": [
  {
   "metadata": {
    "tags": [
     "Initialization"
    ]
   },
   "cell_type": "markdown",
   "source": [
    "# Setup\n",
    "Configuration, Logger, Counter and Downloader"
   ],
   "id": "b2f2a0d6e7bd322b"
  },
  {
   "metadata": {
    "ExecuteTime": {
     "end_time": "2025-09-07T21:20:05.331713Z",
     "start_time": "2025-09-07T21:20:04.961368Z"
    }
   },
   "cell_type": "code",
   "source": [
    "import os\n",
    "import logging\n",
    "\n",
    "import numpy as np\n",
    "import pandas as pd\n",
    "from core.config import Config\n",
    "from data.cleaning import read_all_static_csv, read_all_historic_csv\n",
    "from data.download import LSEGDataDownloader\n",
    "\n",
    "os.environ[\"RD_LIB_CONFIG_PATH\"] = \"/Configuration\"\n",
    "\n",
    "config = Config()\n",
    "logging.basicConfig(\n",
    "        filename=config.log_file,\n",
    "        encoding=\"utf-8\",\n",
    "        level=config.log_level,\n",
    "        format='%(asctime)s %(levelname)-8s %(message)s',\n",
    "        datefmt = '%Y-%m-%d %H:%M:%S'\n",
    "    )\n",
    "logger = logging.getLogger()"
   ],
   "id": "e74ca2369a377986",
   "outputs": [],
   "execution_count": 2
  },
  {
   "metadata": {},
   "cell_type": "markdown",
   "source": "## Downloading time series Data",
   "id": "d595c661a33d1b36"
  },
  {
   "metadata": {},
   "cell_type": "code",
   "source": [
    "with (LSEGDataDownloader(config) as downloader):\n",
    "    logger.info(\"Downloading historic frames from LSEG database A-Z\")\n",
    "    for chunk in config.companies_historic_chunks:\n",
    "        historic_result: dict[str, pd.DataFrame] = (\n",
    "            downloader.download_all_historic_chunks(chunk)\n",
    "        )"
   ],
   "id": "8ea3a8e6266ce6f9",
   "outputs": [],
   "execution_count": null
  },
  {
   "metadata": {},
   "cell_type": "markdown",
   "source": "## Downloading static Data",
   "id": "9391c4d8701b8b7e"
  },
  {
   "metadata": {},
   "cell_type": "markdown",
   "source": "## Merging Frames",
   "id": "b73841eeb5c5753c"
  },
  {
   "metadata": {},
   "cell_type": "code",
   "source": [
    "static_dictionary: dict[str, pd.DataFrame] = read_all_static_csv(config.static_dir)\n",
    "all_static_frame: pd.DataFrame = pd.concat(static_dictionary.values())"
   ],
   "id": "7b1b63d6f7badd63",
   "outputs": [],
   "execution_count": null
  },
  {
   "metadata": {},
   "cell_type": "code",
   "source": [
    "historic_dictionary: dict[str, pd.DataFrame] = read_all_historic_csv(config.historic_dir)\n",
    "all_historic_frame: pd.DataFrame = pd.concat(historic_dictionary.values())"
   ],
   "id": "86cb1d6bf1debbc9",
   "outputs": [],
   "execution_count": null
  },
  {
   "metadata": {},
   "cell_type": "markdown",
   "source": "## Analysing Frames",
   "id": "56f904e5c1d0cb40"
  },
  {
   "metadata": {},
   "cell_type": "markdown",
   "source": "### Counting columns with least occurence",
   "id": "f9fc4e8205edaa04"
  },
  {
   "metadata": {},
   "cell_type": "code",
   "source": [
    "from collections import Counter\n",
    "counter: Counter = Counter()\n",
    "for dataframe in static_dictionary.values():\n",
    "    counter.update(dataframe.columns.to_list())\n",
    "most_common_static_columns: list[tuple[str, int]] = counter.most_common()"
   ],
   "id": "fefc0caa4dc1af10",
   "outputs": [],
   "execution_count": null
  },
  {
   "metadata": {},
   "cell_type": "code",
   "source": [
    "from collections import Counter\n",
    "counter2: Counter = Counter()\n",
    "for dataframe in historic_dictionary.values():\n",
    "    column_names: list[str] = dataframe.columns.to_list()\n",
    "    counter2.update(column_names)\n",
    "most_common_historic_columns: list[tuple[str, int]] = counter.most_common()\n",
    "filtered_columns: list[str] = [counts[0] for counts in most_common_historic_columns if counts[1] < 100]"
   ],
   "id": "b01f6782f707116",
   "outputs": [],
   "execution_count": null
  },
  {
   "metadata": {},
   "cell_type": "code",
   "source": "reduced_historic: pd.DataFrame = all_historic_frame.drop(columns=filtered_columns)",
   "id": "761744c25773bfe2",
   "outputs": [],
   "execution_count": null
  },
  {
   "metadata": {},
   "cell_type": "markdown",
   "source": "# Other Functions",
   "id": "f3b5bc59b70c65a0"
  },
  {
   "metadata": {
    "ExecuteTime": {
     "end_time": "2025-09-07T21:22:47.944699Z",
     "start_time": "2025-09-07T21:22:47.852791Z"
    }
   },
   "cell_type": "code",
   "source": [
    "import re\n",
    "\n",
    "dir1 = config.dataset_dir / \"historic\"\n",
    "dir2 = config.dataset_dir / \"static\"\n",
    "files1: list[str] = [file.name for file in dir1.glob(\"*.csv\")]\n",
    "names1: list[str] = [re.findall(r\"company-+(.*).csv\", file)[0] for file in files1]\n",
    "files2: list[str] = [file.name for file in dir2.glob(\"*.csv\")]\n",
    "names2: list[str] = [re.findall(r\"company-+(.*).csv\", file)[0] for file in files2]\n",
    "not_in1: list[str] = [name for name in names2 if name not in names1]\n",
    "not_in2: list[str] = [name for name in names1 if name not in names2]\n",
    "not_in_both: list[str] = not_in1 + not_in2"
   ],
   "id": "c05e6e49fdb3dfec",
   "outputs": [],
   "execution_count": 5
  },
  {
   "metadata": {},
   "cell_type": "code",
   "source": [
    "def is_unique(s: pd.DataFrame):\n",
    "    a: np.ndarray = s.to_numpy()\n",
    "    return (a[0] == a).all()\n",
    "without_same_results: pd.DataFrame = all_static_frame[all_static_frame.apply(is_unique, axis=1)]"
   ],
   "id": "4ba2bfd890724108",
   "outputs": [],
   "execution_count": null
  }
 ],
 "metadata": {
  "kernelspec": {
   "display_name": "Python 3",
   "language": "python",
   "name": "python3"
  },
  "language_info": {
   "codemirror_mode": {
    "name": "ipython",
    "version": 2
   },
   "file_extension": ".py",
   "mimetype": "text/x-python",
   "name": "python",
   "nbconvert_exporter": "python",
   "pygments_lexer": "ipython2",
   "version": "2.7.6"
  }
 },
 "nbformat": 4,
 "nbformat_minor": 5
}
