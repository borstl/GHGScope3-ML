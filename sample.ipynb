{
 "cells": [
  {
   "metadata": {},
   "cell_type": "markdown",
   "source": [
    "# This is a sample Jupyter Notebook\n",
    "\n",
    "Below is an example of a code cell. \n",
    "Put your cursor into the cell and press Shift+Enter to execute it and select the next one, or click 'Run Cell' button.\n",
    "\n",
    "Press Double Shift to search everywhere for classes, files, tool windows, actions, and settings.\n",
    "\n",
    "To learn more about Jupyter Notebooks in PyCharm, see [help](https://www.jetbrains.com/help/pycharm/ipython-notebook-support.html).\n",
    "For an overview of PyCharm, go to Help -> Learn IDE features or refer to [our documentation](https://www.jetbrains.com/help/pycharm/getting-started.html)."
   ],
   "id": "8a77807f92f26ee"
  },
  {
   "metadata": {
    "ExecuteTime": {
     "end_time": "2025-05-12T14:25:06.388050Z",
     "start_time": "2025-05-12T14:25:06.384653Z"
    }
   },
   "cell_type": "code",
   "source": [
    "import lseg.data as ld\n",
    "import pandas as pd\n",
    "# from lseg.data.content import esg\n",
    "# from lseg.data.discovery import Screener\n",
    "from datetime import datetime\n",
    "\n",
    "from matplotlib.style.core import available"
   ],
   "id": "fbc121e30a2defb3",
   "outputs": [],
   "execution_count": 15
  },
  {
   "metadata": {
    "ExecuteTime": {
     "end_time": "2025-05-12T14:25:08.052753Z",
     "start_time": "2025-05-12T14:25:07.986851Z"
    }
   },
   "cell_type": "code",
   "source": "ld.open_session()",
   "id": "b0301bcff2f64c18",
   "outputs": [
    {
     "data": {
      "text/plain": [
       "<lseg.data.session.Definition object at 0x11610dfa0 {name='workspace'}>"
      ]
     },
     "execution_count": 16,
     "metadata": {},
     "output_type": "execute_result"
    }
   ],
   "execution_count": 16
  },
  {
   "metadata": {
    "ExecuteTime": {
     "end_time": "2025-05-12T14:25:09.788108Z",
     "start_time": "2025-05-12T14:25:09.782282Z"
    }
   },
   "cell_type": "code",
   "source": [
    "with open(\"data/parameter/companies.txt\") as f:\n",
    "    rics = [line.strip() for line in f]\n",
    "    rics.insert(0, 'AAPL.OQ')\n",
    "\n",
    "fields = [\n",
    "    'TR.PrimaryQuote',\n",
    "    'TR.HeadquartersCountry',\n",
    "    # 'TR.UpstreamScope3PurchasedGoodsAndServices(Period=FY0).date',\n",
    "    'TR.UpstreamScope3PurchasedGoodsAndServices(Period=FY0)',\n",
    "    'TR.UpstreamScope3CapitalGoods(Period=FY0)',\n",
    "    'TR.UpstreamScope3FuelAndEnergy(Period=FY0)',\n",
    "    'TR.UpstreamScope3TransportationAndDistribution(Period=FY0)',\n",
    "    'TR.UpstreamScope3WasteGeneratedInOperations(Period=FY0)',\n",
    "    'TR.TRESGScore'\n",
    "    'TR.Revenue',\n",
    "    'TR.TRESGScore',\n",
    "    'TR.CompanyMarketCap',\n",
    "    'TR.IPODate',\n",
    "    'TR.PolicyEmissions',\n",
    "    'TR.EmissionReductionTargetPercentage',\n",
    "    'TR.EmissionReductionTargetYear',\n",
    "    'TR.BiodiversityImpactReduction',\n",
    "    'TR.CO2EstimatedEmissionsTotal',\n",
    "    'TR.CO2EstimationMethod',\n",
    "    'TR.CO2EmissionsTotalToRevenue',\n",
    "    'TR.CO2EquivalentEmissionsTotal',\n",
    "    'TR.CO2EquivalentEmissionsScope1',\n",
    "    'TR.CO2EquivalentEmissionsScope2',\n",
    "    'TR.CO2EquivalentEmissionsScope3ToRevenue',\n",
    "    'TR.CO2EquivalentEmissionsScope3'\n",
    "]\n",
    "\n",
    "params = {\n",
    "    'SDate': '2010-01-01',\n",
    "    'EDate': '2024-12-31',\n",
    "    'FRQ': 'Y'  # Yearly frequency\n",
    "}"
   ],
   "id": "aec485255c20d55c",
   "outputs": [],
   "execution_count": 17
  },
  {
   "metadata": {
    "ExecuteTime": {
     "end_time": "2025-05-12T14:25:13.773363Z",
     "start_time": "2025-05-12T14:25:12.801312Z"
    }
   },
   "cell_type": "code",
   "source": [
    "# Chunk requests to avoid API limits\n",
    "chunk_size = 1\n",
    "dataframes = []\n",
    "smallUniverse = rics[0:chunk_size]\n",
    "\n",
    "df = ld.get_history(\n",
    "    universe=smallUniverse,\n",
    "    fields=fields,\n",
    "    interval='1Y',\n",
    "    start='2020-01-01',\n",
    "    end='2024-12-31')\n",
    "dataframes.append(df)\n",
    "\n",
    "full_data = pd.concat(dataframes)\n",
    "full_data.to_csv(\"apple_esg_time_series.csv\")"
   ],
   "id": "2ee306e15060c3ba",
   "outputs": [
    {
     "name": "stderr",
     "output_type": "stream",
     "text": [
      "/Users/sebastianbecker/miniconda3/lib/python3.12/site-packages/lseg/data/_tools/_dataframe.py:192:FutureWarning: Downcasting behavior in `replace` is deprecated and will be removed in a future version. To retain the old behavior, explicitly call `result.infer_objects(copy=False)`. To opt-in to the future behavior, set `pd.set_option('future.no_silent_downcasting', True)`\n",
      "/Users/sebastianbecker/miniconda3/lib/python3.12/site-packages/lseg/data/_tools/_dataframe.py:192:FutureWarning: Downcasting behavior in `replace` is deprecated and will be removed in a future version. To retain the old behavior, explicitly call `result.infer_objects(copy=False)`. To opt-in to the future behavior, set `pd.set_option('future.no_silent_downcasting', True)`\n",
      "/Users/sebastianbecker/miniconda3/lib/python3.12/site-packages/lseg/data/_tools/_dataframe.py:192:FutureWarning: Downcasting behavior in `replace` is deprecated and will be removed in a future version. To retain the old behavior, explicitly call `result.infer_objects(copy=False)`. To opt-in to the future behavior, set `pd.set_option('future.no_silent_downcasting', True)`\n",
      "/Users/sebastianbecker/miniconda3/lib/python3.12/site-packages/lseg/data/_tools/_dataframe.py:192:FutureWarning: Downcasting behavior in `replace` is deprecated and will be removed in a future version. To retain the old behavior, explicitly call `result.infer_objects(copy=False)`. To opt-in to the future behavior, set `pd.set_option('future.no_silent_downcasting', True)`\n",
      "/Users/sebastianbecker/miniconda3/lib/python3.12/site-packages/lseg/data/_tools/_dataframe.py:192:FutureWarning: Downcasting behavior in `replace` is deprecated and will be removed in a future version. To retain the old behavior, explicitly call `result.infer_objects(copy=False)`. To opt-in to the future behavior, set `pd.set_option('future.no_silent_downcasting', True)`\n"
     ]
    }
   ],
   "execution_count": 18
  },
  {
   "metadata": {
    "ExecuteTime": {
     "end_time": "2025-05-12T14:23:39.321395Z",
     "start_time": "2025-05-12T14:23:36.038974Z"
    }
   },
   "cell_type": "code",
   "source": [
    "\n",
    "# Chunk requests to avoid API limits\n",
    "chunk_size = 1\n",
    "dataframes = []\n",
    "\n",
    "for i in range(0, 2, chunk_size):\n",
    "    chunk = rics[i:i+chunk_size]\n",
    "    df = ld.get_data(\n",
    "        universe=chunk,\n",
    "        fields=fields,\n",
    "        parameters=params\n",
    "    )\n",
    "    dataframes.append(df)\n",
    "\n",
    "full_data = pd.concat(dataframes)\n",
    "full_data.to_csv(\"lseg_full_dataset.csv\")\n"
   ],
   "id": "327a0c8358e1ad73",
   "outputs": [
    {
     "name": "stderr",
     "output_type": "stream",
     "text": [
      "/Users/sebastianbecker/miniconda3/lib/python3.12/site-packages/lseg/data/_tools/_dataframe.py:192:FutureWarning: Downcasting behavior in `replace` is deprecated and will be removed in a future version. To retain the old behavior, explicitly call `result.infer_objects(copy=False)`. To opt-in to the future behavior, set `pd.set_option('future.no_silent_downcasting', True)`\n",
      "/Users/sebastianbecker/miniconda3/lib/python3.12/site-packages/lseg/data/_tools/_dataframe.py:192:FutureWarning: Downcasting behavior in `replace` is deprecated and will be removed in a future version. To retain the old behavior, explicitly call `result.infer_objects(copy=False)`. To opt-in to the future behavior, set `pd.set_option('future.no_silent_downcasting', True)`\n",
      "/Users/sebastianbecker/miniconda3/lib/python3.12/site-packages/lseg/data/_tools/_dataframe.py:192:FutureWarning: Downcasting behavior in `replace` is deprecated and will be removed in a future version. To retain the old behavior, explicitly call `result.infer_objects(copy=False)`. To opt-in to the future behavior, set `pd.set_option('future.no_silent_downcasting', True)`\n",
      "/Users/sebastianbecker/miniconda3/lib/python3.12/site-packages/lseg/data/_tools/_dataframe.py:192:FutureWarning: Downcasting behavior in `replace` is deprecated and will be removed in a future version. To retain the old behavior, explicitly call `result.infer_objects(copy=False)`. To opt-in to the future behavior, set `pd.set_option('future.no_silent_downcasting', True)`\n",
      "/Users/sebastianbecker/miniconda3/lib/python3.12/site-packages/lseg/data/_tools/_dataframe.py:192:FutureWarning: Downcasting behavior in `replace` is deprecated and will be removed in a future version. To retain the old behavior, explicitly call `result.infer_objects(copy=False)`. To opt-in to the future behavior, set `pd.set_option('future.no_silent_downcasting', True)`\n",
      "/Users/sebastianbecker/miniconda3/lib/python3.12/site-packages/lseg/data/_tools/_dataframe.py:192:FutureWarning: Downcasting behavior in `replace` is deprecated and will be removed in a future version. To retain the old behavior, explicitly call `result.infer_objects(copy=False)`. To opt-in to the future behavior, set `pd.set_option('future.no_silent_downcasting', True)`\n",
      "/Users/sebastianbecker/miniconda3/lib/python3.12/site-packages/lseg/data/_tools/_dataframe.py:192:FutureWarning: Downcasting behavior in `replace` is deprecated and will be removed in a future version. To retain the old behavior, explicitly call `result.infer_objects(copy=False)`. To opt-in to the future behavior, set `pd.set_option('future.no_silent_downcasting', True)`\n",
      "/Users/sebastianbecker/miniconda3/lib/python3.12/site-packages/lseg/data/_tools/_dataframe.py:192:FutureWarning: Downcasting behavior in `replace` is deprecated and will be removed in a future version. To retain the old behavior, explicitly call `result.infer_objects(copy=False)`. To opt-in to the future behavior, set `pd.set_option('future.no_silent_downcasting', True)`\n",
      "/Users/sebastianbecker/miniconda3/lib/python3.12/site-packages/lseg/data/_tools/_dataframe.py:192:FutureWarning: Downcasting behavior in `replace` is deprecated and will be removed in a future version. To retain the old behavior, explicitly call `result.infer_objects(copy=False)`. To opt-in to the future behavior, set `pd.set_option('future.no_silent_downcasting', True)`\n",
      "/Users/sebastianbecker/miniconda3/lib/python3.12/site-packages/lseg/data/_tools/_dataframe.py:192:FutureWarning: Downcasting behavior in `replace` is deprecated and will be removed in a future version. To retain the old behavior, explicitly call `result.infer_objects(copy=False)`. To opt-in to the future behavior, set `pd.set_option('future.no_silent_downcasting', True)`\n"
     ]
    }
   ],
   "execution_count": 11
  },
  {
   "metadata": {
    "ExecuteTime": {
     "end_time": "2025-05-12T14:23:39.347894Z",
     "start_time": "2025-05-12T14:23:39.344369Z"
    }
   },
   "cell_type": "code",
   "source": "ld.close_session()",
   "id": "d171123cb5e5ccd2",
   "outputs": [],
   "execution_count": 12
  }
 ],
 "metadata": {
  "kernelspec": {
   "display_name": "Python 3",
   "language": "python",
   "name": "python3"
  },
  "language_info": {
   "codemirror_mode": {
    "name": "ipython",
    "version": 2
   },
   "file_extension": ".py",
   "mimetype": "text/x-python",
   "name": "python",
   "nbconvert_exporter": "python",
   "pygments_lexer": "ipython2",
   "version": "2.7.6"
  }
 },
 "nbformat": 4,
 "nbformat_minor": 5
}
