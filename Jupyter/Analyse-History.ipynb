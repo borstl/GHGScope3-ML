{
 "cells": [
  {
   "cell_type": "code",
   "id": "initial_id",
   "metadata": {
    "collapsed": true
   },
   "source": [
    "from numpy.conftest import dtype\n",
    "\n",
    "from data.cleaning import read_all_historic_csv\n",
    "from core import Config\n",
    "import pandas as pd\n",
    "\n",
    "config = Config()\n",
    "historic_dictionary: dict[str, pd.DataFrame] = read_all_historic_csv(config.historic_dir)\n",
    "all_historic_frame: pd.DataFrame = pd.concat(historic_dictionary.values())"
   ],
   "outputs": [],
   "execution_count": null
  },
  {
   "metadata": {},
   "cell_type": "code",
   "source": [
    "from collections import Counter\n",
    "historic_counter: Counter = Counter()\n",
    "for dataframe in historic_dictionary.values():\n",
    "    historic_counter.update(dataframe.columns.to_list())\n",
    "most_common_historic_columns: list[tuple[str, int]] = historic_counter.most_common()\n",
    "historic_dictionary_len = len(historic_dictionary)\n",
    "del historic_dictionary"
   ],
   "id": "dbbebf967e6edc4b",
   "outputs": [],
   "execution_count": null
  },
  {
   "metadata": {},
   "cell_type": "code",
   "source": [
    "bar_data: pd.DataFrame = pd.DataFrame(most_common_historic_columns, columns=[\"Features\", \"sameFeatureCount\"])\n",
    "bar_data[\"sameFeatureCount\"] = bar_data[\"sameFeatureCount\"].apply(lambda x: x/historic_dictionary_len * 100)\n",
    "labels = [\"{0} - {1}\".format(i, i + 10) for i in range(0, 100, 10)]\n",
    "bar_data[\"companyCountIn%\"] = pd.cut(bar_data[\"sameFeatureCount\"], range(0, 101, 10), labels=labels, right=True)\n",
    "grouped: pd.DataFrame = bar_data.groupby(\"companyCountIn%\").count().reset_index(names=\"companyCountIn%\")\n",
    "grouped[\"companyCountIn%\"] = grouped[\"companyCountIn%\"].astype(str)\n",
    "mask = bar_data.loc[bar_data[\"sameFeatureCount\"] < 90, \"Features\"]\n",
    "all_historic_frame.drop(columns=mask, inplace=True)"
   ],
   "id": "bf1e937ac3360c97",
   "outputs": [],
   "execution_count": null
  },
  {
   "metadata": {},
   "cell_type": "code",
   "source": [
    "import plotly.express as px\n",
    "fig = px.bar(\n",
    "    grouped,\n",
    "    x=\"companyCountIn%\",\n",
    "    y=\"sameFeatureCount\",\n",
    "    color=\"sameFeatureCount\",\n",
    "    color_continuous_scale=\"mint\",\n",
    "    text_auto=True,\n",
    "    labels={\n",
    "        \"companyCountIn%\": \"Anzahl Unternehmen in %\",\n",
    "        \"sameFeatureCount\": \"Anzahl überschneidender zeitreihen Features\",\n",
    "    }\n",
    ")\n",
    "fig.update_coloraxes(showscale=False)\n",
    "fig.write_image(config.data_dir / \"figures\" / \"historic-same-features-count.png\")\n",
    "fig.show()"
   ],
   "id": "8f617be0aa83f13c",
   "outputs": [],
   "execution_count": null
  },
  {
   "metadata": {},
   "cell_type": "code",
   "source": [
    "# figure out the desired Scope 3.1 purchased goods and services value and how it was reported\n",
    "scope3_1_count_per_year: pd.Series = (\n",
    "    all_historic_frame[\"TR.UpstreamScope3PurchasedGoodsAndServices\"].notna().groupby(level=1).sum()\n",
    ")\n",
    "fig = px.bar(\n",
    "    scope3_1_count_per_year,\n",
    "    x=scope3_1_count_per_year.index,\n",
    "    y=\"TR.UpstreamScope3PurchasedGoodsAndServices\",\n",
    "    color=\"TR.UpstreamScope3PurchasedGoodsAndServices\",\n",
    "    color_continuous_scale=\"mint\",\n",
    "    text_auto=True,\n",
    "    labels={\n",
    "        \"TR.UpstreamScope3PurchasedGoodsAndServices\": \"Anzahl Reports von Scope 3.1\",\n",
    "        \"Date\": \"Jahr\",\n",
    "    }\n",
    ")\n",
    "fig.update_coloraxes(showscale=False)\n",
    "fig.write_image(config.data_dir / \"figures\" / \"scope3_1_count_per_year.png\")\n",
    "fig.show()"
   ],
   "id": "30255e84b90cace9",
   "outputs": [],
   "execution_count": null
  },
  {
   "metadata": {},
   "cell_type": "markdown",
   "source": "## Working with filtered Dataset",
   "id": "6996d59472d57517"
  },
  {
   "metadata": {
    "ExecuteTime": {
     "end_time": "2025-09-25T15:01:51.328372Z",
     "start_time": "2025-09-25T15:01:49.987333Z"
    }
   },
   "cell_type": "code",
   "source": [
    "from data.cleaning import read_all_historic_csv\n",
    "from core import Config\n",
    "import pandas as pd\n",
    "\n",
    "config = Config()\n",
    "filtered_historic_frame = pd.read_csv(config.filtered_dir / \"filtered_historic.csv\", index_col=[0, 1])"
   ],
   "id": "ee465c9135153ca4",
   "outputs": [],
   "execution_count": 1
  },
  {
   "metadata": {
    "ExecuteTime": {
     "end_time": "2025-09-25T15:04:19.804257Z",
     "start_time": "2025-09-25T15:04:18.446344Z"
    }
   },
   "cell_type": "code",
   "source": [
    "# convert dtypes\n",
    "converted = filtered_historic_frame.convert_dtypes()\n",
    "g = converted.columns.to_series().groupby(converted.dtypes.apply(lambda x: x.name))\n",
    "converted[g.get_group(\"string\")] = converted[g.get_group(\"string\")].astype(\"category\")\n",
    "my_list = list(converted.select_dtypes(include='boolean').columns)\n",
    "types = list(converted.dtypes.values)"
   ],
   "id": "f657a3a9454675d1",
   "outputs": [],
   "execution_count": 4
  },
  {
   "metadata": {},
   "cell_type": "markdown",
   "source": "## Impute values",
   "id": "b46aeb508f0bf34a"
  },
  {
   "metadata": {
    "ExecuteTime": {
     "end_time": "2025-09-25T14:34:44.371799Z",
     "start_time": "2025-09-25T14:34:43.850955Z"
    }
   },
   "cell_type": "code",
   "source": [
    "#remove values with only one unique value\n",
    "boolean_columns = converted.select_dtypes('bool').columns\n",
    "is_single_value = [\n",
    "    col for col in boolean_columns\n",
    "    if converted[col].dropna().nunique() == 1\n",
    "]\n",
    "for col in is_single_value:\n",
    "    print(f\"{converted[col].value_counts()}\")\n",
    "#is_single_value_df: pd.DataFrame = filtered_historic_frame_converted.loc[:, is_single_value]\n",
    "#filtered_historic_frame_converted.columns[is_single_value].dtype\n",
    "#filtered_historic_frame_converted.drop(columns=is_single_value_df.columns, inplace=True)"
   ],
   "id": "438d531eaa7cb711",
   "outputs": [
    {
     "name": "stdout",
     "output_type": "stream",
     "text": [
      "TR.AntiPersonnelLandmines\n",
      "False    17203\n",
      "Name: count, dtype: int64\n",
      "TR.ChemicalBiologicalWeapons\n",
      "False    14672\n",
      "Name: count, dtype: int64\n"
     ]
    }
   ],
   "execution_count": 65
  },
  {
   "metadata": {
    "ExecuteTime": {
     "end_time": "2025-09-25T14:35:22.083442Z",
     "start_time": "2025-09-25T14:35:21.969588Z"
    }
   },
   "cell_type": "code",
   "source": [
    "boolean_cols = converted.select_dtypes('bool')\n",
    "summary = pd.DataFrame({\n",
    "    'True': boolean_cols.sum(),\n",
    "    'False': (~boolean_cols).sum()\n",
    "})"
   ],
   "id": "36506c04db666115",
   "outputs": [],
   "execution_count": 66
  },
  {
   "metadata": {},
   "cell_type": "code",
   "source": [
    "# Count NaN in the whole time series frame and filter\n",
    "nan_count: pd.Series = filtered_historic_frame.isna().sum()\n",
    "# filter how many NaN per year\n",
    "nan_per_year: pd.DataFrame = filtered_historic_frame.isna().groupby(level=1).sum()\n",
    "nan_per_year_and_column: pd.Series = nan_per_year.sum(axis=1)\n",
    "# filter features with threshold NaNs\n",
    "filtered: pd.DataFrame = filtered_historic_frame.drop(nan_count.index[nan_count > 15000], axis=1)"
   ],
   "id": "d462b40813c82363",
   "outputs": [],
   "execution_count": null
  },
  {
   "metadata": {},
   "cell_type": "markdown",
   "source": "### Write List of filterted features",
   "id": "c6c0b49ad70344d3"
  },
  {
   "metadata": {},
   "cell_type": "code",
   "source": [
    "filtered_time_series_feature_list: list[str] = all_historic_frame.columns.to_list()\n",
    "filtered_time_series_feature_list.sort()\n",
    "with open(config.historic_features_file, \"w\") as file:\n",
    "    file.write(\"\\n\".join(str(i) for i in filtered_time_series_feature_list))"
   ],
   "id": "353b7465d6d00954",
   "outputs": [],
   "execution_count": null
  },
  {
   "metadata": {},
   "cell_type": "markdown",
   "source": [
    "# TODO\n",
    "- convert categorical data to category\n",
    "- Check how balanced categorical data is"
   ],
   "id": "ed8760764d378988"
  }
 ],
 "metadata": {
  "kernelspec": {
   "display_name": "Python 3",
   "language": "python",
   "name": "python3"
  },
  "language_info": {
   "codemirror_mode": {
    "name": "ipython",
    "version": 2
   },
   "file_extension": ".py",
   "mimetype": "text/x-python",
   "name": "python",
   "nbconvert_exporter": "python",
   "pygments_lexer": "ipython2",
   "version": "2.7.6"
  }
 },
 "nbformat": 4,
 "nbformat_minor": 5
}
