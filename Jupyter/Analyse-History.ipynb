{
 "cells": [
  {
   "cell_type": "code",
   "id": "initial_id",
   "metadata": {
    "collapsed": true
   },
   "source": [
    "from data.cleaning import read_all_historic_csv\n",
    "from core import Config\n",
    "import pandas as pd\n",
    "\n",
    "config = Config()\n",
    "historic_dictionary: dict[str, pd.DataFrame] = read_all_historic_csv(config.historic_dir)\n",
    "all_historic_frame: pd.DataFrame = pd.concat(historic_dictionary.values(), names=[0, 1])"
   ],
   "outputs": [],
   "execution_count": null
  },
  {
   "metadata": {},
   "cell_type": "markdown",
   "source": "# Explorative Data Analysis",
   "id": "bf7e3c671bdc43ae"
  },
  {
   "metadata": {},
   "cell_type": "code",
   "source": "all_historic_frame.info()",
   "id": "a31b34be6a2505d1",
   "outputs": [],
   "execution_count": null
  },
  {
   "metadata": {},
   "cell_type": "markdown",
   "source": "## Detect all features that have most companies in common",
   "id": "21f243edf4215a40"
  },
  {
   "metadata": {},
   "cell_type": "code",
   "source": [
    "from collections import Counter\n",
    "\n",
    "historic_counter: Counter = Counter()\n",
    "for dataframe in historic_dictionary.values():\n",
    "    historic_counter.update(dataframe.columns.to_list())\n",
    "most_common_historic_columns: list[tuple[str, int]] = historic_counter.most_common()\n",
    "historic_dictionary_len = len(historic_dictionary)\n",
    "del historic_dictionary"
   ],
   "id": "dbbebf967e6edc4b",
   "outputs": [],
   "execution_count": null
  },
  {
   "metadata": {},
   "cell_type": "code",
   "source": [
    "import plotly.express as px\n",
    "\n",
    "# figure out the desired Scope 3.1 purchased goods and services value and how it was reported\n",
    "scope3_1_count_per_year: pd.Series = (\n",
    "    all_historic_frame[\"TR.UpstreamScope3PurchasedGoodsAndServices\"].notna().groupby(level=1).sum()\n",
    ")\n",
    "fig = px.bar(\n",
    "    scope3_1_count_per_year,\n",
    "    x=scope3_1_count_per_year.index,\n",
    "    y=\"TR.UpstreamScope3PurchasedGoodsAndServices\",\n",
    "    color=\"TR.UpstreamScope3PurchasedGoodsAndServices\",\n",
    "    color_continuous_scale=\"mint\",\n",
    "    text_auto=True,\n",
    "    labels={\n",
    "        \"TR.UpstreamScope3PurchasedGoodsAndServices\": \"Anzahl Reports von Scope 3.1\",\n",
    "        \"Date\": \"Jahr\",\n",
    "    }\n",
    ")\n",
    "fig.update_coloraxes(showscale=False)\n",
    "fig.write_image(config.data_dir / \"figures\" / \"scope3_1_count_per_year.png\")\n",
    "fig.show()"
   ],
   "id": "a6762126bb43123b",
   "outputs": [],
   "execution_count": null
  },
  {
   "metadata": {},
   "cell_type": "markdown",
   "source": "When inspecting the Data for how many companies reported Scope 3.1, then we can see that only from 2016 the first values are reported. This gradually rises up to 2023 with 2390 companies and falls down to 674 in 2024, probably because they didn't have the time to disclose the value yet. This leads to many data to be properly imputed, because this is our targed value.",
   "id": "565f0d64ae3b2087"
  },
  {
   "metadata": {},
   "cell_type": "code",
   "source": [
    "start_date = pd.Timestamp('2016-01-01')\n",
    "end_date = pd.Timestamp('2024-12-31')\n",
    "mask = (all_historic_frame.index.get_level_values('Date') >= start_date) & (\n",
    "            all_historic_frame.index.get_level_values('Date') <= end_date)\n",
    "all_historic_frame = all_historic_frame[mask]"
   ],
   "id": "f0e3e87d6bb97197",
   "outputs": [],
   "execution_count": null
  },
  {
   "metadata": {},
   "cell_type": "code",
   "source": [
    "bar_data: pd.DataFrame = pd.DataFrame(most_common_historic_columns, columns=[\"Features\", \"sameFeatureCount\"])\n",
    "bar_data[\"sameFeatureCount\"] = bar_data[\"sameFeatureCount\"].apply(lambda x: x / historic_dictionary_len * 100)\n",
    "labels = [\"{0} - {1}\".format(i, i + 10) for i in range(0, 100, 10)]\n",
    "bar_data[\"companyCountIn%\"] = pd.cut(bar_data[\"sameFeatureCount\"], range(0, 101, 10), labels=labels, right=True)\n",
    "grouped: pd.DataFrame = bar_data.groupby(\"companyCountIn%\").count().reset_index(names=\"companyCountIn%\")\n",
    "grouped[\"companyCountIn%\"] = grouped[\"companyCountIn%\"].astype(str)\n",
    "mask = bar_data.loc[bar_data[\"sameFeatureCount\"] < 90, \"Features\"]"
   ],
   "id": "8a957522283125fa",
   "outputs": [],
   "execution_count": null
  },
  {
   "metadata": {},
   "cell_type": "code",
   "source": [
    "fig = px.bar(\n",
    "    grouped,\n",
    "    x=\"companyCountIn%\",\n",
    "    y=\"sameFeatureCount\",\n",
    "    color=\"sameFeatureCount\",\n",
    "    color_continuous_scale=\"mint\",\n",
    "    text_auto=True,\n",
    "    labels={\n",
    "        \"companyCountIn%\": \"Anzahl Unternehmen in %\",\n",
    "        \"sameFeatureCount\": \"Anzahl überschneidender zeitreihen Features\",\n",
    "    }\n",
    ")\n",
    "fig.update_coloraxes(showscale=False)\n",
    "fig.write_image(config.data_dir / \"figures\" / \"historic-same-features-count.png\")\n",
    "fig.show()"
   ],
   "id": "bd5eb12b379e8552",
   "outputs": [],
   "execution_count": null
  },
  {
   "metadata": {},
   "cell_type": "code",
   "source": [
    "bar_data: pd.DataFrame = pd.DataFrame(most_common_historic_columns, columns=[\"Features\", \"sameFeatureCount\"])\n",
    "bar_data[\"sameFeatureCount\"] = bar_data[\"sameFeatureCount\"].apply(lambda x: int(x / historic_dictionary_len * 100))\n",
    "labels = [\"{0}\".format(i) for i in range(91, 101, 1)]\n",
    "bar_data[\"companyCountIn%\"] = pd.cut(bar_data[\"sameFeatureCount\"], range(90, 101, 1), labels=labels)\n",
    "grouped: pd.DataFrame = bar_data.groupby(\"companyCountIn%\").count().reset_index(names=\"companyCountIn%\")\n",
    "grouped[\"companyCountIn%\"] = grouped[\"companyCountIn%\"].astype(str)\n",
    "mask_under_90 = bar_data.loc[bar_data[\"sameFeatureCount\"] < 90, \"Features\"]\n",
    "mask_90_97 = bar_data.loc[(bar_data[\"sameFeatureCount\"] >= 90) & (bar_data[\"sameFeatureCount\"] < 98), \"Features\"]"
   ],
   "id": "5a4d97147dbc3aea",
   "outputs": [],
   "execution_count": null
  },
  {
   "metadata": {},
   "cell_type": "code",
   "source": [
    "fig = px.bar(\n",
    "    grouped,\n",
    "    x=\"companyCountIn%\",\n",
    "    y=\"sameFeatureCount\",\n",
    "    color=\"sameFeatureCount\",\n",
    "    color_continuous_scale=\"mint\",\n",
    "    text_auto=True,\n",
    "    labels={\n",
    "        \"sameFeatureCount\": \"Anzahl überschneidender statischer Features\",\n",
    "        \"companyCountIn%\": \"Anzahl Unternehmen in %\"\n",
    "    },\n",
    ")\n",
    "fig.update_traces(cliponaxis=False)\n",
    "fig.update_coloraxes(showscale=False)\n",
    "fig.show()"
   ],
   "id": "ef75f2fbb9717c0d",
   "outputs": [],
   "execution_count": null
  },
  {
   "metadata": {},
   "cell_type": "markdown",
   "source": "The companies are not reporting a lot of Features equally. 623 Features are only reported by less than 10% of the companies, and the next high is with 710 Features reported by over 90% of all companies. Of these 710, the majority of data remains also in the region of 99–100% with 570 features.",
   "id": "2e84210875830f5c"
  },
  {
   "metadata": {},
   "cell_type": "code",
   "source": "all_historic_frame.drop(columns=mask_under_90, inplace=True)",
   "id": "4efd15a76e5a3f0f",
   "outputs": [],
   "execution_count": null
  },
  {
   "metadata": {},
   "cell_type": "markdown",
   "source": "## Domain Knowledge Filtering",
   "id": "7fcebb330c767d0d"
  },
  {
   "metadata": {},
   "cell_type": "code",
   "source": "all_historic_frame2 = all_historic_frame[mask_90_97]",
   "id": "7b01149f9d4d129a",
   "outputs": [],
   "execution_count": null
  },
  {
   "metadata": {},
   "cell_type": "code",
   "source": [
    "all_historic_frame = all_historic_frame.convert_dtypes()\n",
    "all_historic_frame.to_csv(config.filtered_dir / \"eda_filtered_historic.csv\")\n",
    "#safe dtypes as files to make it possible to know the dtypes of the file while reading\n",
    "dlist = all_historic_frame.dtypes.to_csv(config.filtered_dir / \"eda_filtered_historic_dtypes.csv\", index=False)"
   ],
   "id": "5b95f301b1476b91",
   "outputs": [],
   "execution_count": null
  },
  {
   "metadata": {},
   "cell_type": "markdown",
   "source": "## Working with filtered Dataset",
   "id": "6996d59472d57517"
  },
  {
   "metadata": {},
   "cell_type": "code",
   "source": [
    "from core import Config\n",
    "import pandas as pd\n",
    "\n",
    "config = Config()\n",
    "dlist = pd.read_csv(config.filtered_dir / \"eda_filtered_historic_dtypes.csv\")\n",
    "all_historic_frame = pd.read_csv(config.filtered_dir / \"eda_filtered_historic.csv\", dtype=dlist.values, index_col=[0, 1])"
   ],
   "id": "970ee120754c8d07",
   "outputs": [],
   "execution_count": null
  },
  {
   "metadata": {},
   "cell_type": "markdown",
   "source": "## Impute values",
   "id": "eebb46fdadc3f725"
  },
  {
   "metadata": {},
   "cell_type": "code",
   "source": "historic_dictionary: dict[str, pd.DataFrame] = {id_key: all_historic_frame.droplevel(level=0) for id_key, all_historic_frame in all_historic_frame.groupby(level=0)}",
   "id": "dd83e13da9bc8780",
   "outputs": [],
   "execution_count": null
  },
  {
   "metadata": {},
   "cell_type": "markdown",
   "source": "If only one distinct value in the dataframe column is reported, fill NaN values with that one value per column. A change in previous years is unlikely.",
   "id": "6a0d5cb4ac181cfb"
  },
  {
   "metadata": {},
   "cell_type": "code",
   "source": [
    "for key, df in historic_dictionary.items():\n",
    "    columns_with_one_unique_value = (df.nunique(dropna=True) == 1)\n",
    "    for column in df.columns[columns_with_one_unique_value]:\n",
    "        single_value = df[column].dropna().iloc[0]\n",
    "        df[column] = df[column].fillna(single_value)\n",
    "    historic_dictionary[key] = df"
   ],
   "id": "7c62c7a46facd0ec",
   "outputs": [],
   "execution_count": null
  },
  {
   "metadata": {},
   "cell_type": "code",
   "source": "all_historic_frame = pd.concat(historic_dictionary, names=[0, 1])",
   "id": "6a7cf69220a7ae5f",
   "outputs": [],
   "execution_count": null
  },
  {
   "metadata": {},
   "cell_type": "code",
   "source": [
    "# Detect columns with only boolean-like strings and convert dtype to boolean\n",
    "bool_strings = [{'true', 'false'}, {'True', 'False'}, {'yes', 'no'}, {'Yes', 'No'}, {'1', '0'}]\n",
    "def is_bool_string_col(series):\n",
    "    values = set(series.dropna().unique())\n",
    "    return any(values <= s for s in bool_strings)\n",
    "\n",
    "for col in all_historic_frame.select_dtypes(include=['object', 'string']):\n",
    "    if is_bool_string_col(all_historic_frame[col]):\n",
    "        all_historic_frame[col] = all_historic_frame[col].replace({'true': True, 'True': True, 'yes': True, 'Yes': True, '1': True,\n",
    "                                  'false': False, 'False': False, 'no': False, 'No': False, '0': False}).astype('boolean')\n",
    "        all_historic_frame[col] = all_historic_frame[col].astype('boolean')  # use 'bool' for non-nullable booleans"
   ],
   "id": "22580dcc30f765da",
   "outputs": [],
   "execution_count": null
  },
  {
   "metadata": {},
   "cell_type": "code",
   "source": [
    "g = all_historic_frame.columns.to_series().groupby(all_historic_frame.dtypes.apply(lambda x: x.name))\n",
    "boolean_cols = all_historic_frame.select_dtypes('bool')"
   ],
   "id": "a57966522e5f889d",
   "outputs": [],
   "execution_count": null
  },
  {
   "metadata": {},
   "cell_type": "code",
   "source": [
    "#remove values with only one unique value\n",
    "is_single_value = [\n",
    "    col for col in all_historic_frame\n",
    "    if all_historic_frame[col].nunique(dropna=True) == 1\n",
    "]\n",
    "all_historic_frame.drop(is_single_value, axis=1, inplace=True)"
   ],
   "id": "438d531eaa7cb711",
   "outputs": [],
   "execution_count": null
  },
  {
   "metadata": {},
   "cell_type": "code",
   "source": [
    "import core.config as config\n",
    "config = config.Config()\n",
    "column_names = all_historic_frame.columns.values\n",
    "column_names.sort()\n",
    "with open(config.historic_eda_features_file, \"w\") as file:\n",
    "    file.write(\"\\n\".join(str(i) for i in column_names))"
   ],
   "id": "ebd2bed9ee2d75fc",
   "outputs": [],
   "execution_count": null
  },
  {
   "metadata": {},
   "cell_type": "code",
   "source": "object_cols = all_historic_frame.select_dtypes('object')",
   "id": "9fe237263259cbf5",
   "outputs": [],
   "execution_count": null
  },
  {
   "metadata": {},
   "cell_type": "code",
   "source": [
    "# Count NaN for every column of object cols and safe it as a series.\n",
    "nan_count: pd.Series = object_cols.isna().sum()"
   ],
   "id": "570ed8369593da0b",
   "outputs": [],
   "execution_count": null
  },
  {
   "metadata": {},
   "cell_type": "code",
   "source": [
    "# Count NaN in the whole time series frame and filter\n",
    "nan_count: pd.Series = all_historic_frame.isna().sum()\n",
    "# filter how many NaN per year\n",
    "nan_per_year: pd.DataFrame = all_historic_frame.isna().groupby(level=1).sum()\n",
    "nan_per_year_and_column: pd.Series = nan_per_year.sum(axis=1)\n",
    "# filter features with threshold NaNs\n",
    "filtered: pd.DataFrame = all_historic_frame.drop(nan_count.index[nan_count > 15000], axis=1)"
   ],
   "id": "d462b40813c82363",
   "outputs": [],
   "execution_count": null
  },
  {
   "metadata": {},
   "cell_type": "code",
   "source": [
    "# a series of every company with the number of distinct values in the TR.UpstreamScope3PurchasedGoodsAndServices column.\n",
    "scope31_count: list[int] = []\n",
    "for key, df in historic_dictionary.items():\n",
    "    scope31_count.append(df[\"TR.UpstreamScope3PurchasedGoodsAndServices\"].nunique())"
   ],
   "id": "3d9398a47f13c736",
   "outputs": [],
   "execution_count": null
  },
  {
   "metadata": {},
   "cell_type": "markdown",
   "source": "##  Impute Scope 3.1",
   "id": "3a1142c4e55ea89b"
  },
  {
   "metadata": {},
   "cell_type": "code",
   "source": [
    "from data.cleaning import read_all_historic_csv\n",
    "from core import Config\n",
    "import pandas as pd\n",
    "\n",
    "config = Config()\n",
    "historic_dictionary: dict[str, pd.DataFrame] = read_all_historic_csv(config.eda_filtered_historic_dir)\n",
    "all_historic_frame: pd.DataFrame = pd.concat(historic_dictionary.values(), names=[0, 1])"
   ],
   "id": "65f4a8b15957b7a4",
   "outputs": [],
   "execution_count": null
  },
  {
   "metadata": {},
   "cell_type": "code",
   "source": "scope31: pd.Series = all_historic_frame[\"TR.UpstreamScope3PurchasedGoodsAndServices\"]",
   "id": "8561b5f1f6b4106c",
   "outputs": [],
   "execution_count": null
  },
  {
   "metadata": {
    "ExecuteTime": {
     "end_time": "2025-10-20T14:21:06.345803Z",
     "start_time": "2025-10-20T14:21:06.259728Z"
    }
   },
   "cell_type": "code",
   "source": [
    "# list every index that has only NaN values\n",
    "nan_index = scope31.groupby(level=0).filter(lambda x: x.isna().sum() == 1)"
   ],
   "id": "1a23f4a6522302e6",
   "outputs": [],
   "execution_count": 13
  },
  {
   "metadata": {},
   "cell_type": "markdown",
   "source": "### Write List of filterted features",
   "id": "c6c0b49ad70344d3"
  },
  {
   "metadata": {},
   "cell_type": "code",
   "source": [
    "filtered_time_series_feature_list: list[str] = all_historic_frame.columns.to_list()\n",
    "filtered_time_series_feature_list.sort()\n",
    "with open(config.historic_features_file, \"w\") as file:\n",
    "    file.write(\"\\n\".join(str(i) for i in filtered_time_series_feature_list))"
   ],
   "id": "353b7465d6d00954",
   "outputs": [],
   "execution_count": null
  },
  {
   "metadata": {},
   "cell_type": "markdown",
   "source": [
    "# TODO\n",
    "- convert categorical data to category\n",
    "- Check how balanced categorical data is"
   ],
   "id": "ed8760764d378988"
  }
 ],
 "metadata": {
  "kernelspec": {
   "display_name": "Python 3",
   "language": "python",
   "name": "python3"
  },
  "language_info": {
   "codemirror_mode": {
    "name": "ipython",
    "version": 2
   },
   "file_extension": ".py",
   "mimetype": "text/x-python",
   "name": "python",
   "nbconvert_exporter": "python",
   "pygments_lexer": "ipython2",
   "version": "2.7.6"
  }
 },
 "nbformat": 4,
 "nbformat_minor": 5
}
