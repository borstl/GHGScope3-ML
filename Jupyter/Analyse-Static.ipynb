{
 "cells": [
  {
   "cell_type": "code",
   "execution_count": null,
   "id": "initial_id",
   "metadata": {
    "collapsed": true
   },
   "outputs": [],
   "source": [
    "from core import Config\n",
    "from data.cleaning import read_all_static_csv\n",
    "import pandas as pd\n",
    "\n",
    "config = Config()\n",
    "static_dictionary: dict[str, pd.DataFrame] = read_all_static_csv(config.static_dir)\n",
    "all_static_frame: pd.DataFrame = pd.concat(static_dictionary.values())"
   ]
  },
  {
   "metadata": {},
   "cell_type": "code",
   "outputs": [],
   "execution_count": null,
   "source": [
    "from collections import Counter\n",
    "static_counter: Counter = Counter()\n",
    "for dataframe in static_dictionary.values():\n",
    "    static_counter.update(dataframe.columns.to_list())\n",
    "static_dictionary_len = len(static_dictionary)\n",
    "most_common_static_columns: list[tuple[str, int]] = static_counter.most_common()"
   ],
   "id": "8a05e78232d02db6"
  },
  {
   "metadata": {},
   "cell_type": "code",
   "outputs": [],
   "execution_count": null,
   "source": [
    "bar_data: pd.DataFrame = pd.DataFrame(most_common_static_columns, columns=[\"Features\", \"sameFeatureCount\"])\n",
    "bar_data[\"sameFeatureCount\"] = bar_data[\"sameFeatureCount\"].apply(lambda x: int(x/static_dictionary_len * 100))\n",
    "labels = [\"{0} - {1}\".format(i, i + 10) for i in range(0, 100, 10)]\n",
    "bar_data[\"companyCountIn%\"] = pd.cut(bar_data[\"sameFeatureCount\"], range(0, 101, 10), labels=labels)\n",
    "grouped: pd.DataFrame = bar_data.groupby(\"companyCountIn%\").count().reset_index(names=\"companyCountIn%\")\n",
    "grouped[\"companyCountIn%\"] = grouped[\"companyCountIn%\"].astype(str)\n",
    "mask = bar_data.loc[bar_data[\"sameFeatureCount\"] < 90, \"Features\"]\n",
    "all_static_frame.drop(columns=mask, inplace=True)"
   ],
   "id": "58dfbd25abdfa396"
  },
  {
   "metadata": {},
   "cell_type": "code",
   "outputs": [],
   "execution_count": null,
   "source": [
    "import plotly.express as px\n",
    "\n",
    "fig = px.bar(\n",
    "    grouped,\n",
    "    x=\"companyCountIn%\",\n",
    "    y=\"sameFeatureCount\",\n",
    "    color=\"sameFeatureCount\",\n",
    "    color_continuous_scale=\"mint\",\n",
    "    text_auto=True\n",
    ")\n",
    "fig.update_traces(cliponaxis=False)\n",
    "fig.update_xaxes(title='Anzahl Unternehmen in %')\n",
    "fig.update_yaxes(title='Anzahl gleicher statischer Features')\n",
    "fig.show()"
   ],
   "id": "72968bfa21998736"
  },
  {
   "metadata": {},
   "cell_type": "code",
   "outputs": [],
   "execution_count": null,
   "source": [
    "# Count NaN in the whole static frame and filter\n",
    "nan_count: pd.Series = all_static_frame.isna().sum()\n",
    "filtered: pd.DataFrame = all_static_frame.filter(nan_count[nan_count == 0].index)\n",
    "all_static_frame.isna().sum()\n",
    "filtered_static_feature_list: list[str] = all_static_frame.columns.to_list()\n",
    "filtered_static_feature_list.sort()\n",
    "with open(config.static_features_file, \"w\") as file:\n",
    "    file.write(\"\\n\".join(str(i) for i in filtered_static_feature_list))"
   ],
   "id": "3da7687ed7ebe9a3"
  }
 ],
 "metadata": {
  "kernelspec": {
   "display_name": "Python 3",
   "language": "python",
   "name": "python3"
  },
  "language_info": {
   "codemirror_mode": {
    "name": "ipython",
    "version": 2
   },
   "file_extension": ".py",
   "mimetype": "text/x-python",
   "name": "python",
   "nbconvert_exporter": "python",
   "pygments_lexer": "ipython2",
   "version": "2.7.6"
  }
 },
 "nbformat": 4,
 "nbformat_minor": 5
}
