{
 "cells": [
  {
   "cell_type": "code",
   "id": "initial_id",
   "metadata": {
    "collapsed": true
   },
   "source": [
    "from core import Config\n",
    "from data.cleaning import read_all_static_csv\n",
    "import pandas as pd\n",
    "\n",
    "config = Config()\n",
    "static_dictionary: dict[str, pd.DataFrame] = read_all_static_csv(config.static_dir)\n",
    "all_static_frame: pd.DataFrame = pd.concat(static_dictionary.values())"
   ],
   "outputs": [],
   "execution_count": null
  },
  {
   "metadata": {},
   "cell_type": "code",
   "source": [
    "from collections import Counter\n",
    "static_counter: Counter = Counter()\n",
    "for dataframe in static_dictionary.values():\n",
    "    static_counter.update(dataframe.columns.to_list())\n",
    "static_dictionary_len = len(static_dictionary)\n",
    "del static_dictionary\n",
    "most_common_static_columns: list[tuple[str, int]] = static_counter.most_common()"
   ],
   "id": "fa01591c0b432091",
   "outputs": [],
   "execution_count": null
  },
  {
   "metadata": {},
   "cell_type": "code",
   "source": [
    "bar_data: pd.DataFrame = pd.DataFrame(most_common_static_columns, columns=[\"Features\", \"sameFeatureCount\"])\n",
    "bar_data[\"sameFeatureCount\"] = bar_data[\"sameFeatureCount\"].apply(lambda x: int(x/static_dictionary_len * 100))\n",
    "labels = [\"{0} - {1}\".format(i, i + 10) for i in range(0, 100, 10)]\n",
    "bar_data[\"companyCountIn%\"] = pd.cut(bar_data[\"sameFeatureCount\"], range(0, 101, 10), labels=labels)\n",
    "grouped: pd.DataFrame = bar_data.groupby(\"companyCountIn%\").count().reset_index(names=\"companyCountIn%\")\n",
    "grouped[\"companyCountIn%\"] = grouped[\"companyCountIn%\"].astype(str)\n",
    "mask = bar_data.loc[bar_data[\"sameFeatureCount\"] < 90, \"Features\"]\n",
    "all_static_frame.drop(columns=mask, inplace=True)"
   ],
   "id": "1a30ff934550de56",
   "outputs": [],
   "execution_count": null
  },
  {
   "metadata": {},
   "cell_type": "code",
   "source": [
    "import plotly.express as px\n",
    "\n",
    "fig = px.bar(\n",
    "    grouped,\n",
    "    x=\"companyCountIn%\",\n",
    "    y=\"sameFeatureCount\",\n",
    "    color=\"sameFeatureCount\",\n",
    "    color_continuous_scale=\"mint\",\n",
    "    text_auto=True,\n",
    "    labels={\n",
    "        \"sameFeatureCount\": \"Anzahl überschneidender statischer Features\",\n",
    "        \"companyCountIn%\": \"Anzahl Unternehmen in %\"\n",
    "    },\n",
    ")\n",
    "fig.update_traces(cliponaxis=False)\n",
    "fig.update_coloraxes(showscale=False)\n",
    "fig.write_image(config.data_dir / \"figures\" / \"static-same-features-count.png\")\n",
    "fig.show()"
   ],
   "id": "c05910ec1970d7cd",
   "outputs": [],
   "execution_count": null
  },
  {
   "metadata": {},
   "cell_type": "code",
   "source": [
    "#manually removed columns\n",
    "# identifier are not good, 'cause they don't hold any new information than the instrument id\n",
    "# too many distinctions are not good, 'cause when everything is different, how should the model know that this value cause high or low Scope 3.1\n",
    "remove_cols: list[str] = [\n",
    "    'TR.TickerSymbolCode', #identifier\n",
    "    'TR.TickerSymbolOld', #identifier\n",
    "    'TR.IssuerTickerCode', #identifier\n",
    "    'CUSIP (extended)', #identifier\n",
    "    'Main Phone Number', #useless information\n",
    "    'Ticker Symbol', #identifier\n",
    "    'TR.SEDOLCode', #identifier\n",
    "    'Contact Postal Code', #too many distinctions\n",
    "    'TR.WertCode', #identifier\n",
    "    'TR.RegistrationNumber', #identifier\n",
    "    'TR.OrgFoundedDay',\n",
    "    'Primary Issue RIC',\n",
    "    'TR.ExchangeName',\n",
    "    'TR.PrimaryInstrument',\n",
    "    'TR.PrimaryRICCode',\n",
    "    'TR.InstrumentName',\n",
    "    'Contact Title',\n",
    "    'TR.ExchangeRegion',\n",
    "    'TR.InstrumentCommonName',\n",
    "    'Web Link to Home Page',\n",
    "    'TR.RelatedOrgName',\n",
    "    'Co. Business Summary',\n",
    "    'Contact Street Address',\n",
    "    'TR.FormerlyKnownAsName',\n",
    "    'TR.CmnLegalAddressLine1',\n",
    "    'TR.HQAddressLine1',\n",
    "    'TR.AlsoKnownAsName',\n",
    "    'TR.PrimaryIssueRICCode',\n",
    "    'TR.BusinessSummary',\n",
    "    'TR.PrimaryQuote',\n",
    "    'TR.CommonName',\n",
    "    'Contact Name',\n",
    "    'TR.RegistrationNumber',\n",
    "    'TR.LegalAddressLine1',\n",
    "    'TR.SegmentRevenueEstBrokerName',\n",
    "    'Contact Email Address',\n",
    "    'TR.OrganizationWebsite',\n",
    "    'Contact Phone Number',\n",
    "    'TR.CommonHQAddressLine2',\n",
    "    'TR.ShortExchangeName',\n",
    "    'Main Fax Number',\n",
    "    'TR.LegalAddressLine2',\n",
    "    'TR.CompanyEmail'\n",
    "]"
   ],
   "id": "d6825c98d7e66467",
   "outputs": [],
   "execution_count": null
  },
  {
   "metadata": {},
   "cell_type": "code",
   "source": [
    "all_static_frame.drop(columns=remove_cols, inplace=True)\n",
    "converted: pd.DataFrame = all_static_frame.convert_dtypes()\n",
    "g = converted.columns.to_series().groupby(converted.dtypes.apply(lambda x: x.name))\n",
    "converted[g.get_group('string')] = converted[g.get_group('string')].astype('category')\n",
    "list_of_type = list(converted.select_dtypes(include=['object']).columns)\n",
    "sub_df = converted[list_of_type]"
   ],
   "id": "7d3ba2388d77fc11",
   "outputs": [],
   "execution_count": null
  },
  {
   "metadata": {},
   "cell_type": "code",
   "source": "converted.to_csv(config.filtered_dir / \"manually_filtered_static.csv\")",
   "id": "20715a6f25c41f78",
   "outputs": [],
   "execution_count": null
  },
  {
   "metadata": {
    "ExecuteTime": {
     "end_time": "2025-09-29T20:50:33.557174Z",
     "start_time": "2025-09-29T20:50:33.550519Z"
    }
   },
   "cell_type": "code",
   "source": [
    "#safe dtypes as files to make it possible to know the dtypes of the file while reading\n",
    "dlist = converted.dtypes.to_csv(config.filtered_dir / \"static_dtypes.csv\", index=False)"
   ],
   "id": "47c7ff3f57fc376f",
   "outputs": [],
   "execution_count": 11
  },
  {
   "metadata": {
    "ExecuteTime": {
     "end_time": "2025-09-29T20:52:27.571481Z",
     "start_time": "2025-09-29T20:52:27.226176Z"
    }
   },
   "cell_type": "code",
   "source": [
    "import pandas as pd\n",
    "from core import Config\n",
    "\n",
    "config = Config()\n",
    "dlist = pd.read_csv(config.filtered_dir / \"static_dtypes.csv\")\n",
    "filtered_static_frame: pd.DataFrame = pd.read_csv(config.filtered_dir / \"manually_filtered_static.csv\", index_col=0, dtype=dlist.values)"
   ],
   "id": "97fbccf972467687",
   "outputs": [],
   "execution_count": 15
  },
  {
   "metadata": {},
   "cell_type": "code",
   "source": [
    "# Count NaN in the whole static frame and filter\n",
    "nan_count: pd.Series = all_static_frame.isna().sum()\n",
    "filtered: pd.DataFrame = all_static_frame.filter(nan_count[nan_count == 0].index)\n",
    "filtered_static_feature_list: list[str] = all_static_frame.columns.to_list()\n",
    "filtered_static_feature_list.sort()"
   ],
   "id": "3da7687ed7ebe9a3",
   "outputs": [],
   "execution_count": null
  },
  {
   "metadata": {},
   "cell_type": "markdown",
   "source": "## Write list of features",
   "id": "92a3f23962045711"
  },
  {
   "metadata": {},
   "cell_type": "code",
   "source": [
    "with open(config.static_features_file, \"w\") as file:\n",
    "    file.write(\"\\n\".join(str(i) for i in filtered_static_feature_list))"
   ],
   "id": "1fa94d8ad89be067",
   "outputs": [],
   "execution_count": null
  }
 ],
 "metadata": {
  "kernelspec": {
   "display_name": "Python 3",
   "language": "python",
   "name": "python3"
  },
  "language_info": {
   "codemirror_mode": {
    "name": "ipython",
    "version": 2
   },
   "file_extension": ".py",
   "mimetype": "text/x-python",
   "name": "python",
   "nbconvert_exporter": "python",
   "pygments_lexer": "ipython2",
   "version": "2.7.6"
  }
 },
 "nbformat": 4,
 "nbformat_minor": 5
}
