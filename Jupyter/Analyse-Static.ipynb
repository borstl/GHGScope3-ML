{
 "cells": [
  {
   "cell_type": "code",
   "id": "initial_id",
   "metadata": {
    "collapsed": true,
    "ExecuteTime": {
     "end_time": "2025-10-09T15:19:43.987699Z",
     "start_time": "2025-10-09T15:19:09.538100Z"
    }
   },
   "source": [
    "from core import Config\n",
    "from data.cleaning import read_all_static_csv\n",
    "import pandas as pd\n",
    "\n",
    "config = Config()\n",
    "static_dictionary: dict[str, pd.DataFrame] = read_all_static_csv(config.static_dir)\n",
    "all_static_frame: pd.DataFrame = pd.concat(static_dictionary.values())"
   ],
   "outputs": [],
   "execution_count": 1
  },
  {
   "metadata": {},
   "cell_type": "markdown",
   "source": "# Detect all columns that have most companies in common (>90%)",
   "id": "286f38643c83d8c6"
  },
  {
   "metadata": {},
   "cell_type": "code",
   "source": [
    "from collections import Counter\n",
    "static_counter: Counter = Counter()\n",
    "for dataframe in static_dictionary.values():\n",
    "    static_counter.update(dataframe.columns.to_list())\n",
    "static_dictionary_len = len(static_dictionary)\n",
    "del static_dictionary\n",
    "most_common_static_columns: list[tuple[str, int]] = static_counter.most_common()"
   ],
   "id": "fa01591c0b432091",
   "outputs": [],
   "execution_count": null
  },
  {
   "metadata": {},
   "cell_type": "code",
   "source": [
    "bar_data: pd.DataFrame = pd.DataFrame(most_common_static_columns, columns=[\"Features\", \"sameFeatureCount\"])\n",
    "bar_data[\"sameFeatureCount\"] = bar_data[\"sameFeatureCount\"].apply(lambda x: int(x/static_dictionary_len * 100))\n",
    "labels = [\"{0} - {1}\".format(i, i + 10) for i in range(0, 100, 10)]\n",
    "bar_data[\"companyCountIn%\"] = pd.cut(bar_data[\"sameFeatureCount\"], range(0, 101, 10), labels=labels)\n",
    "grouped: pd.DataFrame = bar_data.groupby(\"companyCountIn%\").count().reset_index(names=\"companyCountIn%\")\n",
    "grouped[\"companyCountIn%\"] = grouped[\"companyCountIn%\"].astype(str)\n",
    "mask = bar_data.loc[bar_data[\"sameFeatureCount\"] < 90, \"Features\"]\n",
    "all_static_frame.drop(columns=mask, inplace=True)"
   ],
   "id": "1a30ff934550de56",
   "outputs": [],
   "execution_count": null
  },
  {
   "metadata": {},
   "cell_type": "code",
   "source": [
    "import plotly.express as px\n",
    "\n",
    "fig = px.bar(\n",
    "    grouped,\n",
    "    x=\"companyCountIn%\",\n",
    "    y=\"sameFeatureCount\",\n",
    "    color=\"sameFeatureCount\",\n",
    "    color_continuous_scale=\"mint\",\n",
    "    text_auto=True,\n",
    "    labels={\n",
    "        \"sameFeatureCount\": \"Anzahl überschneidender statischer Features\",\n",
    "        \"companyCountIn%\": \"Anzahl Unternehmen in %\"\n",
    "    },\n",
    ")\n",
    "fig.update_traces(cliponaxis=False)\n",
    "fig.update_coloraxes(showscale=False)\n",
    "fig.write_image(config.data_dir / \"figures\" / \"static-same-features-count.png\")\n",
    "fig.show()"
   ],
   "id": "c05910ec1970d7cd",
   "outputs": [],
   "execution_count": null
  },
  {
   "metadata": {
    "ExecuteTime": {
     "end_time": "2025-10-09T15:35:54.173396Z",
     "start_time": "2025-10-09T15:35:54.171329Z"
    }
   },
   "cell_type": "code",
   "source": "columns_contain = all_static_frame.columns[all_static_frame.columns.str.contains(\"CUSIP\")]",
   "id": "4a9f580e1744afd0",
   "outputs": [],
   "execution_count": 19
  },
  {
   "metadata": {},
   "cell_type": "markdown",
   "source": "# Domain Knowledge Filtering",
   "id": "86fb8537a655f65b"
  },
  {
   "metadata": {
    "ExecuteTime": {
     "end_time": "2025-10-09T15:37:18.418018Z",
     "start_time": "2025-10-09T15:37:18.410605Z"
    }
   },
   "cell_type": "code",
   "source": [
    "remove_cols: list[str] = [\n",
    "    # Contact - HQ address is more important than contact address\n",
    "    'Contact Postal Code', #TR.CompanyCntPostalCodeAddr\n",
    "    'Contact Country Name', #TR.CompanyCntName, TR.CompanyCntCountryAddr\n",
    "    'Contact Street Address', #TR.CompanyCntStreetAddr\n",
    "    'Contact City Address', #TR.CompanyCntCityAddr\n",
    "    'Contact Email Address', #TR.CompanyCntEmail\n",
    "    'Contact Title', #TR.CompanyCntTitle\n",
    "    'Contact Phone Number', #TR.CompanyPhoneCnt\n",
    "\n",
    "    # Mail, Telephone, etc. - Unnecessary information\n",
    "    'Main Fax Number', #TR.CompanyPhoneFax\n",
    "    'Main Phone Number', #TR.CompanyPhoneMain\n",
    "    'TR.HeadquartersPhone',\n",
    "    'Web Link to Home Page', #TR.CompanyLinkHome\n",
    "    'TR.CompanyEmail',\n",
    "    'TR.OrganizationWebsite',\n",
    "\n",
    "    # Identifier - Redundant information, because we use the RIC (Refinitiv instrument code) as id for financial instruments\n",
    "    'TR.CommonName',\n",
    "    'Company Name', #TR.CompanyName\n",
    "    'TR.AlsoKnownAsName',\n",
    "    'TR.FormerlyKnownAsName',\n",
    "    'TR.InstrumentName',\n",
    "    'TR.InstrumentCommonName',\n",
    "    'TR.ExchangeName',\n",
    "    'TR.ShortExchangeName',\n",
    "    'TR.OrganizationName',\n",
    "    'TR.RelatedOrgName',\n",
    "    'TR.RICCode',\n",
    "    'Primary Issue RIC', #TR.PrimaryRIC\n",
    "    'TR.PrimaryQuote',\n",
    "    'TR.PrimaryRICCode',\n",
    "    'TR.PrimaryInstrument',\n",
    "    'TR.PrimaryIssueRICCode',\n",
    "    'Ticker Symbol', #TR.TickerSymbol\n",
    "    'TR.TickerSymbolOld',\n",
    "    'TR.TickerSymbolCode',\n",
    "    'TR.IssuerTickerCode',\n",
    "    'TR.WertCode',\n",
    "    'TR.SEDOLCode',\n",
    "    'CUSIP (extended)', #TR.CUSIPExtended\n",
    "    'TR.RegistrationNumber',\n",
    "    'TR.InstrumentTypeCode',\n",
    "    'TR.ISINCode',\n",
    "    'TR.SEDOLCode',\n",
    "    'TR.IssuerPICode',\n",
    "    'TR.ExchangeMarketIdCode',\n",
    "    'TR.ValorenCode',\n",
    "    'TR.LipperRICCode',\n",
    "    'TR.CommonCode',\n",
    "\n",
    "    # Data that can't be put into categorical variables\n",
    "    'Co. Business Summary', #TR.CompanyInfoBusSummary\n",
    "    'TR.BusinessSummary',\n",
    "\n",
    "    # Data that is too specific\n",
    "    'TR.CmnLegalAddressLine1',\n",
    "    'TR.CommonHQAddressLine2',\n",
    "    'TR.LegalAddressLine1',\n",
    "    'TR.LegalAddressLine2',\n",
    "    'TR.HQAddressLine1',\n",
    "    'TR.OrgFoundedDay',\n",
    "\n",
    "    # Redundant information\n",
    "    'TR.RegCountryCode', #instead, use TR.HQCountryCode\n",
    "    'TR.ExchangeRegion', #instead, use TR.HQCountryCode\n",
    "    'TR.HeadquartersRegion', #instead, use TR.HQCountryCode\n",
    "    'TR.NAICSSectorCode', #instead, use TR.NAICSSectorAllCode\n",
    "    'TR.LegalAddressPostalCode', #instead, use TR.HQAddressPostalCode\n",
    "\n",
    "    # Other\n",
    "    'TR.SegmentRevenueEstBrokerName', #The name of the broker forecasting the estimate.\n",
    "    'TR.MICName', #MIC name\n",
    "    'TR.TaxAuthorityName', #The authority to which the respective Organization pays taxes.\n",
    "    'TR.PriceMainIndexRIC', #The main Index RIC applicable to the entity in question and used as the benchmark in values like Dividend Yield Relative to Primary Index.\n",
    "    'TR.OrgProviderTypeCode', #Organization Provider type code.\n",
    "    'TR.CUSIPCode',\n",
    "    'TR.CinCUSIPCode', #Committee on Uniform Securities Identification Procedures Identifier for Non US & Canadian companies.\n",
    "    'TR.ExchangeCountryCode', #ISO2 country code where the instrument trades.\n",
    "    'TR.OrganizationStatusCode', #Indicates whether the Organization is active in the real world.\n",
    "    'TR.EquityLocalCode', #Local code\n",
    "    'TR.AssetIDCode', #The Refinitiv Fixed Income identifier.\n",
    "]\n",
    "# unsure about these codes and classifiers\n",
    "unsure = [\n",
    "    'TR.OrgSubtypeCode', 'TR.TRBCBusinessSectorAllCode', 'TR.ICBSectorCode',\n",
    "    'TR.NAICSSectorAllCode', 'TR.HQAddressPostalCode', 'TR.TRBCActivityAllCode',\n",
    "    'TR.ICBSupersectorCode', 'TR.NAICSInternationalIndustryAllCode',\n",
    "    'TR.TRBCEconSectorAllCode', 'TR.ICBIndustryCode', 'TR.HQCountryCode',\n",
    "    'TR.CompanyReportCurrency', 'TR.NAICSSubsectorCode', 'TR.TRBCIndustryCode',\n",
    "    'TR.NAICSInternationalIndustryCode', 'TR.TRBCActivityCode', 'TR.TRBCEconSectorCode',\n",
    "    'TR.GICSIndustryGroupCode', 'TR.TRBCIndustryGroupAllCode', 'TR.OrganizationTypeCode',\n",
    "    'TR.InstrumentListingStatusCode', 'TR.NAICSIndustryGroupAllCode',\n",
    "    'TR.NAICSIndustryGroupCode', 'TR.TRBCIndustryGroupCode', 'TR.NAICSSubsectorAllCode',\n",
    "    'TR.GICSSectorCode', 'TR.ICBSubsectorCode', 'TR.NAICSNationalIndustryAllCode',\n",
    "    'TR.TRBCIndustryAllCode', 'TR.GICSSubIndustryCode', 'TR.OrgTypeCode',\n",
    "    'TR.AssetCategoryCode', 'TR.NAICSNationalIndustryCode', 'TR.TRBCBusinessSectorCode',\n",
    "    'TR.GICSIndustryCode', 'TR.SICIndustryCode', 'TR.SICDivisionCode',\n",
    "    'TR.SICIndustryGroupCode', 'TR.SICMajorGroupCode'\n",
    "]"
   ],
   "id": "d6825c98d7e66467",
   "outputs": [],
   "execution_count": 20
  },
  {
   "metadata": {
    "ExecuteTime": {
     "end_time": "2025-10-09T15:37:20.858904Z",
     "start_time": "2025-10-09T15:37:20.780655Z"
    }
   },
   "cell_type": "code",
   "source": "second = all_static_frame.drop(columns=remove_cols)",
   "id": "78a7883bbc1e1d29",
   "outputs": [],
   "execution_count": 21
  },
  {
   "metadata": {},
   "cell_type": "code",
   "source": [
    "all_static_frame.drop(columns=remove_cols, inplace=True)\n",
    "converted: pd.DataFrame = all_static_frame.convert_dtypes()\n",
    "g = converted.columns.to_series().groupby(converted.dtypes.apply(lambda x: x.name))\n",
    "converted[g.get_group('string')] = converted[g.get_group('string')].astype('category')\n",
    "list_of_type = list(converted.select_dtypes(include=['object']).columns)\n",
    "sub_df = converted[list_of_type]"
   ],
   "id": "7d3ba2388d77fc11",
   "outputs": [],
   "execution_count": null
  },
  {
   "metadata": {},
   "cell_type": "markdown",
   "source": "### Save as csv",
   "id": "e88b80b849d8ccff"
  },
  {
   "metadata": {},
   "cell_type": "code",
   "source": [
    "converted.to_csv(config.filtered_dir / \"manually_filtered_static.csv\")\n",
    "#safe dtypes as files to make it possible to know the dtypes of the file while reading\n",
    "dlist = converted.dtypes.to_csv(config.filtered_dir / \"static_dtypes.csv\", index=False)"
   ],
   "id": "20715a6f25c41f78",
   "outputs": [],
   "execution_count": null
  },
  {
   "metadata": {},
   "cell_type": "markdown",
   "source": "# Work with filtered dataset",
   "id": "815f262125c1c15c"
  },
  {
   "metadata": {},
   "cell_type": "code",
   "source": [
    "import pandas as pd\n",
    "from core import Config\n",
    "\n",
    "config = Config()\n",
    "dlist = pd.read_csv(config.filtered_dir / \"static_dtypes.csv\")\n",
    "filtered_static_frame: pd.DataFrame = pd.read_csv(config.filtered_dir / \"manually_filtered_static.csv\", index_col=0, dtype=dlist.values)"
   ],
   "id": "97fbccf972467687",
   "outputs": [],
   "execution_count": null
  },
  {
   "metadata": {},
   "cell_type": "markdown",
   "source": "## Filter companies with many NaN values (over 10%)",
   "id": "ab71c881d44773b7"
  },
  {
   "metadata": {},
   "cell_type": "code",
   "source": [
    "nan_counts = all_static_frame.isnull().sum(axis=1).sort_values(ascending=False)\n",
    "# companies with NaN values over 10%\n",
    "companies_with_nan_values_over_10 = nan_counts[nan_counts > all_static_frame.shape[1] * 0.1]"
   ],
   "id": "73f7597d9b96a75d",
   "outputs": [],
   "execution_count": null
  },
  {
   "metadata": {},
   "cell_type": "code",
   "source": [
    "# Count NaN in the whole static frame and filter\n",
    "nan_count: pd.Series = all_static_frame.isna().sum()\n",
    "filtered_static_feature_list: list[str] = all_static_frame.columns.to_list()\n",
    "filtered_static_feature_list.sort()\n",
    "# This is a dataframe without NaN values\n",
    "filtered: pd.DataFrame = all_static_frame.filter(nan_count[nan_count == 0].index)\n",
    "not_none_filtered: pd.DataFrame = all_static_frame.filter(nan_count[nan_count != 0].index)"
   ],
   "id": "3da7687ed7ebe9a3",
   "outputs": [],
   "execution_count": null
  },
  {
   "metadata": {},
   "cell_type": "markdown",
   "source": "## Write list of features",
   "id": "92a3f23962045711"
  },
  {
   "metadata": {},
   "cell_type": "code",
   "source": [
    "with open(config.static_features_file, \"w\") as file:\n",
    "    file.write(\"\\n\".join(str(i) for i in filtered_static_feature_list))"
   ],
   "id": "1fa94d8ad89be067",
   "outputs": [],
   "execution_count": null
  }
 ],
 "metadata": {
  "kernelspec": {
   "display_name": "Python 3",
   "language": "python",
   "name": "python3"
  },
  "language_info": {
   "codemirror_mode": {
    "name": "ipython",
    "version": 2
   },
   "file_extension": ".py",
   "mimetype": "text/x-python",
   "name": "python",
   "nbconvert_exporter": "python",
   "pygments_lexer": "ipython2",
   "version": "2.7.6"
  }
 },
 "nbformat": 4,
 "nbformat_minor": 5
}
