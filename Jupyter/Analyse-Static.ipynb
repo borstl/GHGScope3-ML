{
 "cells": [
  {
   "cell_type": "code",
   "id": "initial_id",
   "metadata": {
    "collapsed": true,
    "ExecuteTime": {
     "end_time": "2025-10-11T17:10:23.040221Z",
     "start_time": "2025-10-11T17:09:40.922875Z"
    }
   },
   "source": [
    "from pyexpat import features\n",
    "\n",
    "from scipy.cluster.hierarchy import leaves_list\n",
    "\n",
    "from core import Config\n",
    "from data.cleaning import read_all_static_csv\n",
    "import pandas as pd\n",
    "\n",
    "config = Config()\n",
    "static_dictionary: dict[str, pd.DataFrame] = read_all_static_csv(config.static_dir)\n",
    "all_static_frame: pd.DataFrame = pd.concat(static_dictionary.values())"
   ],
   "outputs": [],
   "execution_count": 9
  },
  {
   "metadata": {},
   "cell_type": "markdown",
   "source": "# Explorative Data Analysis",
   "id": "8550ba6f027b2a85"
  },
  {
   "metadata": {
    "ExecuteTime": {
     "end_time": "2025-10-11T17:08:29.776809Z",
     "start_time": "2025-10-11T17:08:29.762909Z"
    }
   },
   "cell_type": "code",
   "source": "all_static_frame.info()",
   "id": "47a40e61326fdb15",
   "outputs": [
    {
     "name": "stdout",
     "output_type": "stream",
     "text": [
      "<class 'pandas.core.frame.DataFrame'>\n",
      "Index: 2865 entries, SCATC.OL to 8219.T\n",
      "Columns: 696 entries, Non audit to Audit Fees Ratio Growth to TR.CriticalCountry5\n",
      "dtypes: bool(4), float64(379), int64(21), object(292)\n",
      "memory usage: 15.2+ MB\n"
     ]
    }
   ],
   "execution_count": 2
  },
  {
   "metadata": {},
   "cell_type": "markdown",
   "source": "## Detect all features that have most companies in common",
   "id": "337b20533c463249"
  },
  {
   "metadata": {
    "ExecuteTime": {
     "end_time": "2025-10-11T17:10:37.858698Z",
     "start_time": "2025-10-11T17:10:37.578968Z"
    }
   },
   "cell_type": "code",
   "source": [
    "from collections import Counter\n",
    "\n",
    "static_counter: Counter = Counter()\n",
    "for dataframe in static_dictionary.values():\n",
    "    static_counter.update(dataframe.columns.to_list())\n",
    "static_dictionary_len = len(static_dictionary)\n",
    "del static_dictionary\n",
    "most_common_static_columns: list[tuple[str, int]] = static_counter.most_common()"
   ],
   "id": "fa01591c0b432091",
   "outputs": [],
   "execution_count": 10
  },
  {
   "metadata": {
    "ExecuteTime": {
     "end_time": "2025-10-11T17:10:39.503599Z",
     "start_time": "2025-10-11T17:10:39.494100Z"
    }
   },
   "cell_type": "code",
   "source": [
    "bar_data: pd.DataFrame = pd.DataFrame(most_common_static_columns, columns=[\"Features\", \"sameFeatureCount\"])\n",
    "bar_data[\"sameFeatureCount\"] = bar_data[\"sameFeatureCount\"].apply(lambda x: int(x / static_dictionary_len * 100))\n",
    "labels = [\"{0} - {1}\".format(i, i + 10) for i in range(0, 100, 10)]\n",
    "bar_data[\"companyCountIn%\"] = pd.cut(bar_data[\"sameFeatureCount\"], range(0, 101, 10), labels=labels)\n",
    "grouped: pd.DataFrame = bar_data.groupby(\"companyCountIn%\").count().reset_index(names=\"companyCountIn%\")\n",
    "grouped[\"companyCountIn%\"] = grouped[\"companyCountIn%\"].astype(str)"
   ],
   "id": "1a30ff934550de56",
   "outputs": [],
   "execution_count": 11
  },
  {
   "metadata": {
    "ExecuteTime": {
     "end_time": "2025-10-11T17:08:46.036667Z",
     "start_time": "2025-10-11T17:08:42.500299Z"
    }
   },
   "cell_type": "code",
   "source": [
    "import plotly.express as px\n",
    "\n",
    "fig = px.bar(\n",
    "    grouped,\n",
    "    x=\"companyCountIn%\",\n",
    "    y=\"sameFeatureCount\",\n",
    "    color=\"sameFeatureCount\",\n",
    "    color_continuous_scale=\"mint\",\n",
    "    text_auto=True,\n",
    "    labels={\n",
    "        \"sameFeatureCount\": \"Anzahl überschneidender statischer Features\",\n",
    "        \"companyCountIn%\": \"Anzahl Unternehmen in %\"\n",
    "    },\n",
    ")\n",
    "fig.update_traces(cliponaxis=False)\n",
    "fig.update_coloraxes(showscale=False)\n",
    "fig.write_image(config.data_dir / \"figures\" / \"static-same-features-count.png\")\n",
    "fig.show()"
   ],
   "id": "c05910ec1970d7cd",
   "outputs": [
    {
     "data": {
      "application/vnd.plotly.v1+json": {
       "data": [
        {
         "hovertemplate": "Anzahl Unternehmen in %=%{x}<br>Anzahl überschneidender statischer Features=%{marker.color}<extra></extra>",
         "legendgroup": "",
         "marker": {
          "color": {
           "dtype": "i2",
           "bdata": "HAAXAAMACwAMAAcACAATAAkA6wE="
          },
          "coloraxis": "coloraxis",
          "pattern": {
           "shape": ""
          }
         },
         "name": "",
         "orientation": "v",
         "showlegend": false,
         "textposition": "auto",
         "texttemplate": "%{y}",
         "x": [
          "0 - 10",
          "10 - 20",
          "20 - 30",
          "30 - 40",
          "40 - 50",
          "50 - 60",
          "60 - 70",
          "70 - 80",
          "80 - 90",
          "90 - 100"
         ],
         "xaxis": "x",
         "y": {
          "dtype": "i2",
          "bdata": "HAAXAAMACwAMAAcACAATAAkA6wE="
         },
         "yaxis": "y",
         "type": "bar",
         "cliponaxis": false
        }
       ],
       "layout": {
        "template": {
         "data": {
          "histogram2dcontour": [
           {
            "type": "histogram2dcontour",
            "colorbar": {
             "outlinewidth": 0,
             "ticks": ""
            },
            "colorscale": [
             [
              0.0,
              "#0d0887"
             ],
             [
              0.1111111111111111,
              "#46039f"
             ],
             [
              0.2222222222222222,
              "#7201a8"
             ],
             [
              0.3333333333333333,
              "#9c179e"
             ],
             [
              0.4444444444444444,
              "#bd3786"
             ],
             [
              0.5555555555555556,
              "#d8576b"
             ],
             [
              0.6666666666666666,
              "#ed7953"
             ],
             [
              0.7777777777777778,
              "#fb9f3a"
             ],
             [
              0.8888888888888888,
              "#fdca26"
             ],
             [
              1.0,
              "#f0f921"
             ]
            ]
           }
          ],
          "choropleth": [
           {
            "type": "choropleth",
            "colorbar": {
             "outlinewidth": 0,
             "ticks": ""
            }
           }
          ],
          "histogram2d": [
           {
            "type": "histogram2d",
            "colorbar": {
             "outlinewidth": 0,
             "ticks": ""
            },
            "colorscale": [
             [
              0.0,
              "#0d0887"
             ],
             [
              0.1111111111111111,
              "#46039f"
             ],
             [
              0.2222222222222222,
              "#7201a8"
             ],
             [
              0.3333333333333333,
              "#9c179e"
             ],
             [
              0.4444444444444444,
              "#bd3786"
             ],
             [
              0.5555555555555556,
              "#d8576b"
             ],
             [
              0.6666666666666666,
              "#ed7953"
             ],
             [
              0.7777777777777778,
              "#fb9f3a"
             ],
             [
              0.8888888888888888,
              "#fdca26"
             ],
             [
              1.0,
              "#f0f921"
             ]
            ]
           }
          ],
          "heatmap": [
           {
            "type": "heatmap",
            "colorbar": {
             "outlinewidth": 0,
             "ticks": ""
            },
            "colorscale": [
             [
              0.0,
              "#0d0887"
             ],
             [
              0.1111111111111111,
              "#46039f"
             ],
             [
              0.2222222222222222,
              "#7201a8"
             ],
             [
              0.3333333333333333,
              "#9c179e"
             ],
             [
              0.4444444444444444,
              "#bd3786"
             ],
             [
              0.5555555555555556,
              "#d8576b"
             ],
             [
              0.6666666666666666,
              "#ed7953"
             ],
             [
              0.7777777777777778,
              "#fb9f3a"
             ],
             [
              0.8888888888888888,
              "#fdca26"
             ],
             [
              1.0,
              "#f0f921"
             ]
            ]
           }
          ],
          "contourcarpet": [
           {
            "type": "contourcarpet",
            "colorbar": {
             "outlinewidth": 0,
             "ticks": ""
            }
           }
          ],
          "contour": [
           {
            "type": "contour",
            "colorbar": {
             "outlinewidth": 0,
             "ticks": ""
            },
            "colorscale": [
             [
              0.0,
              "#0d0887"
             ],
             [
              0.1111111111111111,
              "#46039f"
             ],
             [
              0.2222222222222222,
              "#7201a8"
             ],
             [
              0.3333333333333333,
              "#9c179e"
             ],
             [
              0.4444444444444444,
              "#bd3786"
             ],
             [
              0.5555555555555556,
              "#d8576b"
             ],
             [
              0.6666666666666666,
              "#ed7953"
             ],
             [
              0.7777777777777778,
              "#fb9f3a"
             ],
             [
              0.8888888888888888,
              "#fdca26"
             ],
             [
              1.0,
              "#f0f921"
             ]
            ]
           }
          ],
          "surface": [
           {
            "type": "surface",
            "colorbar": {
             "outlinewidth": 0,
             "ticks": ""
            },
            "colorscale": [
             [
              0.0,
              "#0d0887"
             ],
             [
              0.1111111111111111,
              "#46039f"
             ],
             [
              0.2222222222222222,
              "#7201a8"
             ],
             [
              0.3333333333333333,
              "#9c179e"
             ],
             [
              0.4444444444444444,
              "#bd3786"
             ],
             [
              0.5555555555555556,
              "#d8576b"
             ],
             [
              0.6666666666666666,
              "#ed7953"
             ],
             [
              0.7777777777777778,
              "#fb9f3a"
             ],
             [
              0.8888888888888888,
              "#fdca26"
             ],
             [
              1.0,
              "#f0f921"
             ]
            ]
           }
          ],
          "mesh3d": [
           {
            "type": "mesh3d",
            "colorbar": {
             "outlinewidth": 0,
             "ticks": ""
            }
           }
          ],
          "scatter": [
           {
            "marker": {
             "line": {
              "color": "#283442"
             }
            },
            "type": "scatter"
           }
          ],
          "parcoords": [
           {
            "type": "parcoords",
            "line": {
             "colorbar": {
              "outlinewidth": 0,
              "ticks": ""
             }
            }
           }
          ],
          "scatterpolargl": [
           {
            "type": "scatterpolargl",
            "marker": {
             "colorbar": {
              "outlinewidth": 0,
              "ticks": ""
             }
            }
           }
          ],
          "bar": [
           {
            "error_x": {
             "color": "#f2f5fa"
            },
            "error_y": {
             "color": "#f2f5fa"
            },
            "marker": {
             "line": {
              "color": "rgb(17,17,17)",
              "width": 0.5
             },
             "pattern": {
              "fillmode": "overlay",
              "size": 10,
              "solidity": 0.2
             }
            },
            "type": "bar"
           }
          ],
          "scattergeo": [
           {
            "type": "scattergeo",
            "marker": {
             "colorbar": {
              "outlinewidth": 0,
              "ticks": ""
             }
            }
           }
          ],
          "scatterpolar": [
           {
            "type": "scatterpolar",
            "marker": {
             "colorbar": {
              "outlinewidth": 0,
              "ticks": ""
             }
            }
           }
          ],
          "histogram": [
           {
            "marker": {
             "pattern": {
              "fillmode": "overlay",
              "size": 10,
              "solidity": 0.2
             }
            },
            "type": "histogram"
           }
          ],
          "scattergl": [
           {
            "marker": {
             "line": {
              "color": "#283442"
             }
            },
            "type": "scattergl"
           }
          ],
          "scatter3d": [
           {
            "type": "scatter3d",
            "line": {
             "colorbar": {
              "outlinewidth": 0,
              "ticks": ""
             }
            },
            "marker": {
             "colorbar": {
              "outlinewidth": 0,
              "ticks": ""
             }
            }
           }
          ],
          "scattermap": [
           {
            "type": "scattermap",
            "marker": {
             "colorbar": {
              "outlinewidth": 0,
              "ticks": ""
             }
            }
           }
          ],
          "scattermapbox": [
           {
            "type": "scattermapbox",
            "marker": {
             "colorbar": {
              "outlinewidth": 0,
              "ticks": ""
             }
            }
           }
          ],
          "scatterternary": [
           {
            "type": "scatterternary",
            "marker": {
             "colorbar": {
              "outlinewidth": 0,
              "ticks": ""
             }
            }
           }
          ],
          "scattercarpet": [
           {
            "type": "scattercarpet",
            "marker": {
             "colorbar": {
              "outlinewidth": 0,
              "ticks": ""
             }
            }
           }
          ],
          "carpet": [
           {
            "aaxis": {
             "endlinecolor": "#A2B1C6",
             "gridcolor": "#506784",
             "linecolor": "#506784",
             "minorgridcolor": "#506784",
             "startlinecolor": "#A2B1C6"
            },
            "baxis": {
             "endlinecolor": "#A2B1C6",
             "gridcolor": "#506784",
             "linecolor": "#506784",
             "minorgridcolor": "#506784",
             "startlinecolor": "#A2B1C6"
            },
            "type": "carpet"
           }
          ],
          "table": [
           {
            "cells": {
             "fill": {
              "color": "#506784"
             },
             "line": {
              "color": "rgb(17,17,17)"
             }
            },
            "header": {
             "fill": {
              "color": "#2a3f5f"
             },
             "line": {
              "color": "rgb(17,17,17)"
             }
            },
            "type": "table"
           }
          ],
          "barpolar": [
           {
            "marker": {
             "line": {
              "color": "rgb(17,17,17)",
              "width": 0.5
             },
             "pattern": {
              "fillmode": "overlay",
              "size": 10,
              "solidity": 0.2
             }
            },
            "type": "barpolar"
           }
          ],
          "pie": [
           {
            "automargin": true,
            "type": "pie"
           }
          ]
         },
         "layout": {
          "autotypenumbers": "strict",
          "colorway": [
           "#636efa",
           "#EF553B",
           "#00cc96",
           "#ab63fa",
           "#FFA15A",
           "#19d3f3",
           "#FF6692",
           "#B6E880",
           "#FF97FF",
           "#FECB52"
          ],
          "font": {
           "color": "#f2f5fa"
          },
          "hovermode": "closest",
          "hoverlabel": {
           "align": "left"
          },
          "paper_bgcolor": "rgb(17,17,17)",
          "plot_bgcolor": "rgb(17,17,17)",
          "polar": {
           "bgcolor": "rgb(17,17,17)",
           "angularaxis": {
            "gridcolor": "#506784",
            "linecolor": "#506784",
            "ticks": ""
           },
           "radialaxis": {
            "gridcolor": "#506784",
            "linecolor": "#506784",
            "ticks": ""
           }
          },
          "ternary": {
           "bgcolor": "rgb(17,17,17)",
           "aaxis": {
            "gridcolor": "#506784",
            "linecolor": "#506784",
            "ticks": ""
           },
           "baxis": {
            "gridcolor": "#506784",
            "linecolor": "#506784",
            "ticks": ""
           },
           "caxis": {
            "gridcolor": "#506784",
            "linecolor": "#506784",
            "ticks": ""
           }
          },
          "coloraxis": {
           "colorbar": {
            "outlinewidth": 0,
            "ticks": ""
           }
          },
          "colorscale": {
           "sequential": [
            [
             0.0,
             "#0d0887"
            ],
            [
             0.1111111111111111,
             "#46039f"
            ],
            [
             0.2222222222222222,
             "#7201a8"
            ],
            [
             0.3333333333333333,
             "#9c179e"
            ],
            [
             0.4444444444444444,
             "#bd3786"
            ],
            [
             0.5555555555555556,
             "#d8576b"
            ],
            [
             0.6666666666666666,
             "#ed7953"
            ],
            [
             0.7777777777777778,
             "#fb9f3a"
            ],
            [
             0.8888888888888888,
             "#fdca26"
            ],
            [
             1.0,
             "#f0f921"
            ]
           ],
           "sequentialminus": [
            [
             0.0,
             "#0d0887"
            ],
            [
             0.1111111111111111,
             "#46039f"
            ],
            [
             0.2222222222222222,
             "#7201a8"
            ],
            [
             0.3333333333333333,
             "#9c179e"
            ],
            [
             0.4444444444444444,
             "#bd3786"
            ],
            [
             0.5555555555555556,
             "#d8576b"
            ],
            [
             0.6666666666666666,
             "#ed7953"
            ],
            [
             0.7777777777777778,
             "#fb9f3a"
            ],
            [
             0.8888888888888888,
             "#fdca26"
            ],
            [
             1.0,
             "#f0f921"
            ]
           ],
           "diverging": [
            [
             0,
             "#8e0152"
            ],
            [
             0.1,
             "#c51b7d"
            ],
            [
             0.2,
             "#de77ae"
            ],
            [
             0.3,
             "#f1b6da"
            ],
            [
             0.4,
             "#fde0ef"
            ],
            [
             0.5,
             "#f7f7f7"
            ],
            [
             0.6,
             "#e6f5d0"
            ],
            [
             0.7,
             "#b8e186"
            ],
            [
             0.8,
             "#7fbc41"
            ],
            [
             0.9,
             "#4d9221"
            ],
            [
             1,
             "#276419"
            ]
           ]
          },
          "xaxis": {
           "gridcolor": "#283442",
           "linecolor": "#506784",
           "ticks": "",
           "title": {
            "standoff": 15
           },
           "zerolinecolor": "#283442",
           "automargin": true,
           "zerolinewidth": 2
          },
          "yaxis": {
           "gridcolor": "#283442",
           "linecolor": "#506784",
           "ticks": "",
           "title": {
            "standoff": 15
           },
           "zerolinecolor": "#283442",
           "automargin": true,
           "zerolinewidth": 2
          },
          "scene": {
           "xaxis": {
            "backgroundcolor": "rgb(17,17,17)",
            "gridcolor": "#506784",
            "linecolor": "#506784",
            "showbackground": true,
            "ticks": "",
            "zerolinecolor": "#C8D4E3",
            "gridwidth": 2
           },
           "yaxis": {
            "backgroundcolor": "rgb(17,17,17)",
            "gridcolor": "#506784",
            "linecolor": "#506784",
            "showbackground": true,
            "ticks": "",
            "zerolinecolor": "#C8D4E3",
            "gridwidth": 2
           },
           "zaxis": {
            "backgroundcolor": "rgb(17,17,17)",
            "gridcolor": "#506784",
            "linecolor": "#506784",
            "showbackground": true,
            "ticks": "",
            "zerolinecolor": "#C8D4E3",
            "gridwidth": 2
           }
          },
          "shapedefaults": {
           "line": {
            "color": "#f2f5fa"
           }
          },
          "annotationdefaults": {
           "arrowcolor": "#f2f5fa",
           "arrowhead": 0,
           "arrowwidth": 1
          },
          "geo": {
           "bgcolor": "rgb(17,17,17)",
           "landcolor": "rgb(17,17,17)",
           "subunitcolor": "#506784",
           "showland": true,
           "showlakes": true,
           "lakecolor": "rgb(17,17,17)"
          },
          "title": {
           "x": 0.05
          },
          "updatemenudefaults": {
           "bgcolor": "#506784",
           "borderwidth": 0
          },
          "sliderdefaults": {
           "bgcolor": "#C8D4E3",
           "borderwidth": 1,
           "bordercolor": "rgb(17,17,17)",
           "tickwidth": 0
          },
          "mapbox": {
           "style": "dark"
          }
         }
        },
        "xaxis": {
         "anchor": "y",
         "domain": [
          0.0,
          1.0
         ],
         "title": {
          "text": "Anzahl Unternehmen in %"
         }
        },
        "yaxis": {
         "anchor": "x",
         "domain": [
          0.0,
          1.0
         ],
         "title": {
          "text": "Anzahl überschneidender statischer Features"
         }
        },
        "coloraxis": {
         "colorbar": {
          "title": {
           "text": "Anzahl überschneidender statischer Features"
          }
         },
         "colorscale": [
          [
           0.0,
           "rgb(228, 241, 225)"
          ],
          [
           0.16666666666666666,
           "rgb(180, 217, 204)"
          ],
          [
           0.3333333333333333,
           "rgb(137, 192, 182)"
          ],
          [
           0.5,
           "rgb(99, 166, 160)"
          ],
          [
           0.6666666666666666,
           "rgb(68, 140, 138)"
          ],
          [
           0.8333333333333334,
           "rgb(40, 114, 116)"
          ],
          [
           1.0,
           "rgb(13, 88, 95)"
          ]
         ],
         "showscale": false
        },
        "legend": {
         "tracegroupgap": 0
        },
        "margin": {
         "t": 60
        },
        "barmode": "relative"
       },
       "config": {
        "plotlyServerURL": "https://plot.ly"
       }
      }
     },
     "metadata": {},
     "output_type": "display_data",
     "jetTransient": {
      "display_id": null
     }
    }
   ],
   "execution_count": 5
  },
  {
   "metadata": {},
   "cell_type": "markdown",
   "source": "90% or more samples have reported 491 of the same features",
   "id": "d8c2b22d1f4a0eae"
  },
  {
   "metadata": {},
   "cell_type": "markdown",
   "source": "### Inspect common features between 90 and 100",
   "id": "1865f4175884671c"
  },
  {
   "metadata": {
    "ExecuteTime": {
     "end_time": "2025-10-11T17:10:44.061845Z",
     "start_time": "2025-10-11T17:10:44.055873Z"
    }
   },
   "cell_type": "code",
   "source": [
    "bar_data: pd.DataFrame = pd.DataFrame(most_common_static_columns, columns=[\"Features\", \"sameFeatureCount\"])\n",
    "bar_data[\"sameFeatureCount\"] = bar_data[\"sameFeatureCount\"].apply(lambda x: int(x / static_dictionary_len * 100))\n",
    "labels = [\"{0}\".format(i) for i in range(91, 101, 1)]\n",
    "bar_data[\"companyCountIn%\"] = pd.cut(bar_data[\"sameFeatureCount\"], range(90, 101, 1), labels=labels)\n",
    "grouped: pd.DataFrame = bar_data.groupby(\"companyCountIn%\").count().reset_index(names=\"companyCountIn%\")\n",
    "grouped[\"companyCountIn%\"] = grouped[\"companyCountIn%\"].astype(str)\n",
    "mask_under_90 = bar_data.loc[bar_data[\"sameFeatureCount\"] < 90, \"Features\"]\n",
    "mask_90_97 = bar_data.loc[(bar_data[\"sameFeatureCount\"] >= 90) & (bar_data[\"sameFeatureCount\"] < 98), \"Features\"]"
   ],
   "id": "60cbabf0b23216ca",
   "outputs": [],
   "execution_count": 12
  },
  {
   "metadata": {
    "ExecuteTime": {
     "end_time": "2025-10-11T17:08:51.861782Z",
     "start_time": "2025-10-11T17:08:51.829259Z"
    }
   },
   "cell_type": "code",
   "source": [
    "fig = px.bar(\n",
    "    grouped,\n",
    "    x=\"companyCountIn%\",\n",
    "    y=\"sameFeatureCount\",\n",
    "    color=\"sameFeatureCount\",\n",
    "    color_continuous_scale=\"mint\",\n",
    "    text_auto=True,\n",
    "    labels={\n",
    "        \"sameFeatureCount\": \"Anzahl überschneidender statischer Features\",\n",
    "        \"companyCountIn%\": \"Anzahl Unternehmen in %\"\n",
    "    },\n",
    ")\n",
    "fig.update_traces(cliponaxis=False)\n",
    "fig.update_coloraxes(showscale=False)\n",
    "fig.show()"
   ],
   "id": "59e8acb7060a44ca",
   "outputs": [
    {
     "data": {
      "application/vnd.plotly.v1+json": {
       "data": [
        {
         "hovertemplate": "Anzahl Unternehmen in %=%{x}<br>Anzahl überschneidender statischer Features=%{marker.color}<extra></extra>",
         "legendgroup": "",
         "marker": {
          "color": {
           "dtype": "i2",
           "bdata": "AQAHAAEABAAEAAcABAAhAG8BPwA="
          },
          "coloraxis": "coloraxis",
          "pattern": {
           "shape": ""
          }
         },
         "name": "",
         "orientation": "v",
         "showlegend": false,
         "textposition": "auto",
         "texttemplate": "%{y}",
         "x": [
          "91",
          "92",
          "93",
          "94",
          "95",
          "96",
          "97",
          "98",
          "99",
          "100"
         ],
         "xaxis": "x",
         "y": {
          "dtype": "i2",
          "bdata": "AQAHAAEABAAEAAcABAAhAG8BPwA="
         },
         "yaxis": "y",
         "type": "bar",
         "cliponaxis": false
        }
       ],
       "layout": {
        "template": {
         "data": {
          "histogram2dcontour": [
           {
            "type": "histogram2dcontour",
            "colorbar": {
             "outlinewidth": 0,
             "ticks": ""
            },
            "colorscale": [
             [
              0.0,
              "#0d0887"
             ],
             [
              0.1111111111111111,
              "#46039f"
             ],
             [
              0.2222222222222222,
              "#7201a8"
             ],
             [
              0.3333333333333333,
              "#9c179e"
             ],
             [
              0.4444444444444444,
              "#bd3786"
             ],
             [
              0.5555555555555556,
              "#d8576b"
             ],
             [
              0.6666666666666666,
              "#ed7953"
             ],
             [
              0.7777777777777778,
              "#fb9f3a"
             ],
             [
              0.8888888888888888,
              "#fdca26"
             ],
             [
              1.0,
              "#f0f921"
             ]
            ]
           }
          ],
          "choropleth": [
           {
            "type": "choropleth",
            "colorbar": {
             "outlinewidth": 0,
             "ticks": ""
            }
           }
          ],
          "histogram2d": [
           {
            "type": "histogram2d",
            "colorbar": {
             "outlinewidth": 0,
             "ticks": ""
            },
            "colorscale": [
             [
              0.0,
              "#0d0887"
             ],
             [
              0.1111111111111111,
              "#46039f"
             ],
             [
              0.2222222222222222,
              "#7201a8"
             ],
             [
              0.3333333333333333,
              "#9c179e"
             ],
             [
              0.4444444444444444,
              "#bd3786"
             ],
             [
              0.5555555555555556,
              "#d8576b"
             ],
             [
              0.6666666666666666,
              "#ed7953"
             ],
             [
              0.7777777777777778,
              "#fb9f3a"
             ],
             [
              0.8888888888888888,
              "#fdca26"
             ],
             [
              1.0,
              "#f0f921"
             ]
            ]
           }
          ],
          "heatmap": [
           {
            "type": "heatmap",
            "colorbar": {
             "outlinewidth": 0,
             "ticks": ""
            },
            "colorscale": [
             [
              0.0,
              "#0d0887"
             ],
             [
              0.1111111111111111,
              "#46039f"
             ],
             [
              0.2222222222222222,
              "#7201a8"
             ],
             [
              0.3333333333333333,
              "#9c179e"
             ],
             [
              0.4444444444444444,
              "#bd3786"
             ],
             [
              0.5555555555555556,
              "#d8576b"
             ],
             [
              0.6666666666666666,
              "#ed7953"
             ],
             [
              0.7777777777777778,
              "#fb9f3a"
             ],
             [
              0.8888888888888888,
              "#fdca26"
             ],
             [
              1.0,
              "#f0f921"
             ]
            ]
           }
          ],
          "contourcarpet": [
           {
            "type": "contourcarpet",
            "colorbar": {
             "outlinewidth": 0,
             "ticks": ""
            }
           }
          ],
          "contour": [
           {
            "type": "contour",
            "colorbar": {
             "outlinewidth": 0,
             "ticks": ""
            },
            "colorscale": [
             [
              0.0,
              "#0d0887"
             ],
             [
              0.1111111111111111,
              "#46039f"
             ],
             [
              0.2222222222222222,
              "#7201a8"
             ],
             [
              0.3333333333333333,
              "#9c179e"
             ],
             [
              0.4444444444444444,
              "#bd3786"
             ],
             [
              0.5555555555555556,
              "#d8576b"
             ],
             [
              0.6666666666666666,
              "#ed7953"
             ],
             [
              0.7777777777777778,
              "#fb9f3a"
             ],
             [
              0.8888888888888888,
              "#fdca26"
             ],
             [
              1.0,
              "#f0f921"
             ]
            ]
           }
          ],
          "surface": [
           {
            "type": "surface",
            "colorbar": {
             "outlinewidth": 0,
             "ticks": ""
            },
            "colorscale": [
             [
              0.0,
              "#0d0887"
             ],
             [
              0.1111111111111111,
              "#46039f"
             ],
             [
              0.2222222222222222,
              "#7201a8"
             ],
             [
              0.3333333333333333,
              "#9c179e"
             ],
             [
              0.4444444444444444,
              "#bd3786"
             ],
             [
              0.5555555555555556,
              "#d8576b"
             ],
             [
              0.6666666666666666,
              "#ed7953"
             ],
             [
              0.7777777777777778,
              "#fb9f3a"
             ],
             [
              0.8888888888888888,
              "#fdca26"
             ],
             [
              1.0,
              "#f0f921"
             ]
            ]
           }
          ],
          "mesh3d": [
           {
            "type": "mesh3d",
            "colorbar": {
             "outlinewidth": 0,
             "ticks": ""
            }
           }
          ],
          "scatter": [
           {
            "marker": {
             "line": {
              "color": "#283442"
             }
            },
            "type": "scatter"
           }
          ],
          "parcoords": [
           {
            "type": "parcoords",
            "line": {
             "colorbar": {
              "outlinewidth": 0,
              "ticks": ""
             }
            }
           }
          ],
          "scatterpolargl": [
           {
            "type": "scatterpolargl",
            "marker": {
             "colorbar": {
              "outlinewidth": 0,
              "ticks": ""
             }
            }
           }
          ],
          "bar": [
           {
            "error_x": {
             "color": "#f2f5fa"
            },
            "error_y": {
             "color": "#f2f5fa"
            },
            "marker": {
             "line": {
              "color": "rgb(17,17,17)",
              "width": 0.5
             },
             "pattern": {
              "fillmode": "overlay",
              "size": 10,
              "solidity": 0.2
             }
            },
            "type": "bar"
           }
          ],
          "scattergeo": [
           {
            "type": "scattergeo",
            "marker": {
             "colorbar": {
              "outlinewidth": 0,
              "ticks": ""
             }
            }
           }
          ],
          "scatterpolar": [
           {
            "type": "scatterpolar",
            "marker": {
             "colorbar": {
              "outlinewidth": 0,
              "ticks": ""
             }
            }
           }
          ],
          "histogram": [
           {
            "marker": {
             "pattern": {
              "fillmode": "overlay",
              "size": 10,
              "solidity": 0.2
             }
            },
            "type": "histogram"
           }
          ],
          "scattergl": [
           {
            "marker": {
             "line": {
              "color": "#283442"
             }
            },
            "type": "scattergl"
           }
          ],
          "scatter3d": [
           {
            "type": "scatter3d",
            "line": {
             "colorbar": {
              "outlinewidth": 0,
              "ticks": ""
             }
            },
            "marker": {
             "colorbar": {
              "outlinewidth": 0,
              "ticks": ""
             }
            }
           }
          ],
          "scattermap": [
           {
            "type": "scattermap",
            "marker": {
             "colorbar": {
              "outlinewidth": 0,
              "ticks": ""
             }
            }
           }
          ],
          "scattermapbox": [
           {
            "type": "scattermapbox",
            "marker": {
             "colorbar": {
              "outlinewidth": 0,
              "ticks": ""
             }
            }
           }
          ],
          "scatterternary": [
           {
            "type": "scatterternary",
            "marker": {
             "colorbar": {
              "outlinewidth": 0,
              "ticks": ""
             }
            }
           }
          ],
          "scattercarpet": [
           {
            "type": "scattercarpet",
            "marker": {
             "colorbar": {
              "outlinewidth": 0,
              "ticks": ""
             }
            }
           }
          ],
          "carpet": [
           {
            "aaxis": {
             "endlinecolor": "#A2B1C6",
             "gridcolor": "#506784",
             "linecolor": "#506784",
             "minorgridcolor": "#506784",
             "startlinecolor": "#A2B1C6"
            },
            "baxis": {
             "endlinecolor": "#A2B1C6",
             "gridcolor": "#506784",
             "linecolor": "#506784",
             "minorgridcolor": "#506784",
             "startlinecolor": "#A2B1C6"
            },
            "type": "carpet"
           }
          ],
          "table": [
           {
            "cells": {
             "fill": {
              "color": "#506784"
             },
             "line": {
              "color": "rgb(17,17,17)"
             }
            },
            "header": {
             "fill": {
              "color": "#2a3f5f"
             },
             "line": {
              "color": "rgb(17,17,17)"
             }
            },
            "type": "table"
           }
          ],
          "barpolar": [
           {
            "marker": {
             "line": {
              "color": "rgb(17,17,17)",
              "width": 0.5
             },
             "pattern": {
              "fillmode": "overlay",
              "size": 10,
              "solidity": 0.2
             }
            },
            "type": "barpolar"
           }
          ],
          "pie": [
           {
            "automargin": true,
            "type": "pie"
           }
          ]
         },
         "layout": {
          "autotypenumbers": "strict",
          "colorway": [
           "#636efa",
           "#EF553B",
           "#00cc96",
           "#ab63fa",
           "#FFA15A",
           "#19d3f3",
           "#FF6692",
           "#B6E880",
           "#FF97FF",
           "#FECB52"
          ],
          "font": {
           "color": "#f2f5fa"
          },
          "hovermode": "closest",
          "hoverlabel": {
           "align": "left"
          },
          "paper_bgcolor": "rgb(17,17,17)",
          "plot_bgcolor": "rgb(17,17,17)",
          "polar": {
           "bgcolor": "rgb(17,17,17)",
           "angularaxis": {
            "gridcolor": "#506784",
            "linecolor": "#506784",
            "ticks": ""
           },
           "radialaxis": {
            "gridcolor": "#506784",
            "linecolor": "#506784",
            "ticks": ""
           }
          },
          "ternary": {
           "bgcolor": "rgb(17,17,17)",
           "aaxis": {
            "gridcolor": "#506784",
            "linecolor": "#506784",
            "ticks": ""
           },
           "baxis": {
            "gridcolor": "#506784",
            "linecolor": "#506784",
            "ticks": ""
           },
           "caxis": {
            "gridcolor": "#506784",
            "linecolor": "#506784",
            "ticks": ""
           }
          },
          "coloraxis": {
           "colorbar": {
            "outlinewidth": 0,
            "ticks": ""
           }
          },
          "colorscale": {
           "sequential": [
            [
             0.0,
             "#0d0887"
            ],
            [
             0.1111111111111111,
             "#46039f"
            ],
            [
             0.2222222222222222,
             "#7201a8"
            ],
            [
             0.3333333333333333,
             "#9c179e"
            ],
            [
             0.4444444444444444,
             "#bd3786"
            ],
            [
             0.5555555555555556,
             "#d8576b"
            ],
            [
             0.6666666666666666,
             "#ed7953"
            ],
            [
             0.7777777777777778,
             "#fb9f3a"
            ],
            [
             0.8888888888888888,
             "#fdca26"
            ],
            [
             1.0,
             "#f0f921"
            ]
           ],
           "sequentialminus": [
            [
             0.0,
             "#0d0887"
            ],
            [
             0.1111111111111111,
             "#46039f"
            ],
            [
             0.2222222222222222,
             "#7201a8"
            ],
            [
             0.3333333333333333,
             "#9c179e"
            ],
            [
             0.4444444444444444,
             "#bd3786"
            ],
            [
             0.5555555555555556,
             "#d8576b"
            ],
            [
             0.6666666666666666,
             "#ed7953"
            ],
            [
             0.7777777777777778,
             "#fb9f3a"
            ],
            [
             0.8888888888888888,
             "#fdca26"
            ],
            [
             1.0,
             "#f0f921"
            ]
           ],
           "diverging": [
            [
             0,
             "#8e0152"
            ],
            [
             0.1,
             "#c51b7d"
            ],
            [
             0.2,
             "#de77ae"
            ],
            [
             0.3,
             "#f1b6da"
            ],
            [
             0.4,
             "#fde0ef"
            ],
            [
             0.5,
             "#f7f7f7"
            ],
            [
             0.6,
             "#e6f5d0"
            ],
            [
             0.7,
             "#b8e186"
            ],
            [
             0.8,
             "#7fbc41"
            ],
            [
             0.9,
             "#4d9221"
            ],
            [
             1,
             "#276419"
            ]
           ]
          },
          "xaxis": {
           "gridcolor": "#283442",
           "linecolor": "#506784",
           "ticks": "",
           "title": {
            "standoff": 15
           },
           "zerolinecolor": "#283442",
           "automargin": true,
           "zerolinewidth": 2
          },
          "yaxis": {
           "gridcolor": "#283442",
           "linecolor": "#506784",
           "ticks": "",
           "title": {
            "standoff": 15
           },
           "zerolinecolor": "#283442",
           "automargin": true,
           "zerolinewidth": 2
          },
          "scene": {
           "xaxis": {
            "backgroundcolor": "rgb(17,17,17)",
            "gridcolor": "#506784",
            "linecolor": "#506784",
            "showbackground": true,
            "ticks": "",
            "zerolinecolor": "#C8D4E3",
            "gridwidth": 2
           },
           "yaxis": {
            "backgroundcolor": "rgb(17,17,17)",
            "gridcolor": "#506784",
            "linecolor": "#506784",
            "showbackground": true,
            "ticks": "",
            "zerolinecolor": "#C8D4E3",
            "gridwidth": 2
           },
           "zaxis": {
            "backgroundcolor": "rgb(17,17,17)",
            "gridcolor": "#506784",
            "linecolor": "#506784",
            "showbackground": true,
            "ticks": "",
            "zerolinecolor": "#C8D4E3",
            "gridwidth": 2
           }
          },
          "shapedefaults": {
           "line": {
            "color": "#f2f5fa"
           }
          },
          "annotationdefaults": {
           "arrowcolor": "#f2f5fa",
           "arrowhead": 0,
           "arrowwidth": 1
          },
          "geo": {
           "bgcolor": "rgb(17,17,17)",
           "landcolor": "rgb(17,17,17)",
           "subunitcolor": "#506784",
           "showland": true,
           "showlakes": true,
           "lakecolor": "rgb(17,17,17)"
          },
          "title": {
           "x": 0.05
          },
          "updatemenudefaults": {
           "bgcolor": "#506784",
           "borderwidth": 0
          },
          "sliderdefaults": {
           "bgcolor": "#C8D4E3",
           "borderwidth": 1,
           "bordercolor": "rgb(17,17,17)",
           "tickwidth": 0
          },
          "mapbox": {
           "style": "dark"
          }
         }
        },
        "xaxis": {
         "anchor": "y",
         "domain": [
          0.0,
          1.0
         ],
         "title": {
          "text": "Anzahl Unternehmen in %"
         }
        },
        "yaxis": {
         "anchor": "x",
         "domain": [
          0.0,
          1.0
         ],
         "title": {
          "text": "Anzahl überschneidender statischer Features"
         }
        },
        "coloraxis": {
         "colorbar": {
          "title": {
           "text": "Anzahl überschneidender statischer Features"
          }
         },
         "colorscale": [
          [
           0.0,
           "rgb(228, 241, 225)"
          ],
          [
           0.16666666666666666,
           "rgb(180, 217, 204)"
          ],
          [
           0.3333333333333333,
           "rgb(137, 192, 182)"
          ],
          [
           0.5,
           "rgb(99, 166, 160)"
          ],
          [
           0.6666666666666666,
           "rgb(68, 140, 138)"
          ],
          [
           0.8333333333333334,
           "rgb(40, 114, 116)"
          ],
          [
           1.0,
           "rgb(13, 88, 95)"
          ]
         ],
         "showscale": false
        },
        "legend": {
         "tracegroupgap": 0
        },
        "margin": {
         "t": 60
        },
        "barmode": "relative"
       },
       "config": {
        "plotlyServerURL": "https://plot.ly"
       }
      }
     },
     "metadata": {},
     "output_type": "display_data",
     "jetTransient": {
      "display_id": null
     }
    }
   ],
   "execution_count": 7
  },
  {
   "metadata": {
    "ExecuteTime": {
     "end_time": "2025-10-11T17:16:04.470661Z",
     "start_time": "2025-10-11T17:16:04.329517Z"
    }
   },
   "cell_type": "code",
   "source": "all_static_frame.drop(columns=mask_under_90, inplace=True)",
   "id": "ec7d584a64198850",
   "outputs": [],
   "execution_count": 14
  },
  {
   "metadata": {},
   "cell_type": "markdown",
   "source": [
    "We can see that even most features settle between 98% and 100%.\n",
    "\n",
    "All features below 90% will be lost because there would be too much missing data that has to be imputed.\n",
    "\n",
    "Features between 90% and 97% will be closely inspected in the domain knowledge filtering:\n",
    "\n",
    "['TR.NACEClassification', 'TR.OrgFoundedDay', 'TR.MemberIndexRic', 'TR.MemberIndexDate', 'TR.CmnLegalAddressLine1', 'TR.LegalAddressLine1',\n",
    "'TR.CompanyIncorpDate', 'TR.HeadquartersCity', 'Contact City Address', 'TR.CompanyParentType', 'TR.HQAddressCity',\n",
    "'TR.TaxAuthority', 'TR.TaxAuthorityName', 'TR.HQAddressPostalCode', 'Contact Postal Code', 'TR.RegistrationNumber', 'TR.RegistrationCity',\n",
    "'TR.LegalAddressCity', 'TR.DUNSNUMBER', 'TR.PricePctChgRelIdx5Y', 'TR.AlsoKnownAsName', 'Main Phone Number', 'TR.HeadquartersPhone',\n",
    "'TR.WertCode', 'TR.IssuerTickerCode', 'TR.PriceNetChg5Y', 'TR.PricePctChg5Y', 'TR.LegalAddressPostalCode']\n"
   ],
   "id": "88ac9568493527aa"
  },
  {
   "metadata": {},
   "cell_type": "markdown",
   "source": "## Domain Knowledge Filtering",
   "id": "86fb8537a655f65b"
  },
  {
   "metadata": {},
   "cell_type": "markdown",
   "source": "When inspecting the features 90% - 97% coverage, we can remove out all but ['TR.NACEClassification', 'TR.CompanyParentType']",
   "id": "f18354292d17c61a"
  },
  {
   "metadata": {},
   "cell_type": "markdown",
   "source": "### Manually removed features",
   "id": "ce0334d059e60ed6"
  },
  {
   "metadata": {
    "ExecuteTime": {
     "end_time": "2025-10-11T18:43:40.371745Z",
     "start_time": "2025-10-11T18:43:40.350123Z"
    }
   },
   "cell_type": "code",
   "source": [
    "representative_info: list[str] = [\n",
    "    # Contact, Legal - HQ address is more important than contact address\n",
    "    'Contact Postal Code',  #TR.CompanyCntPostalCodeAddr\n",
    "    'Contact Country Name',  #TR.CompanyCntName, TR.CompanyCntCountryAddr\n",
    "    'Contact Street Address',  #TR.CompanyCntStreetAddr\n",
    "    'Contact City Address',  #TR.CompanyCntCityAddr\n",
    "    'Contact Email Address',  #TR.CompanyCntEmail\n",
    "    'Contact Title',  #TR.CompanyCntTitle\n",
    "    'Contact Phone Number',  #TR.CompanyPhoneCnt\n",
    "    'TR.LegalAddressCity',\n",
    "    'TR.CmnLegalAddressLine1',\n",
    "    'TR.CmnLegalAddressLine2',\n",
    "    'TR.CmnLegalAddressLine3',\n",
    "    'TR.LegalAddressLine1',\n",
    "    'TR.LegalAddressLine2',\n",
    "    'TR.LegalAddressLine3',\n",
    "    'TR.LegalAddressPostalCode',\n",
    "    'TR.LegalAddressStateProvince',\n",
    "    'TR.RegistrationCountry',\n",
    "    'TR.RegistrationCity',\n",
    "]\n",
    "contact_info: list[str] = [\n",
    "    # Mail, Telephone, etc. - Unnecessary information\n",
    "    'Main Fax Number',  #TR.CompanyPhoneFax\n",
    "    'Main Phone Number',  #TR.CompanyPhoneMain\n",
    "    'TR.HeadquartersPhone',\n",
    "    'Web Link to Home Page',  #TR.CompanyLinkHome\n",
    "    'TR.CompanyEmail',\n",
    "    'TR.OrganizationWebsite',\n",
    "]\n",
    "identifier_info: list[str] = [\n",
    "    # Identifier - Redundant information, because we use the RIC (Refinitiv instrument code) as id for financial instruments\n",
    "    'TR.CommonName',\n",
    "    'Company Name',  #TR.CompanyName\n",
    "    'TR.AlsoKnownAsName',\n",
    "    'TR.FormerlyKnownAsName',\n",
    "    'TR.InstrumentName',\n",
    "    'TR.InstrumentCommonName',\n",
    "    'TR.ExchangeName',\n",
    "    'TR.ShortExchangeName',\n",
    "    'TR.OrganizationName',\n",
    "    'TR.RelatedOrgName',\n",
    "    'TR.RICCode',\n",
    "    'Primary Issue RIC',  #TR.PrimaryRIC\n",
    "    'TR.PrimaryQuote',\n",
    "    'TR.PrimaryRICCode',\n",
    "    'TR.PrimaryInstrument',\n",
    "    'TR.PrimaryIssueRICCode',\n",
    "    'Ticker Symbol',  #TR.TickerSymbol\n",
    "    'TR.TickerSymbolOld',\n",
    "    'TR.TickerSymbolCode',\n",
    "    'TR.IssuerTickerCode',\n",
    "    'TR.WertCode',\n",
    "    'TR.SEDOLCode',\n",
    "    'CUSIP (extended)',  #TR.CUSIPExtended\n",
    "    'TR.RegistrationNumber',\n",
    "    'TR.InstrumentTypeCode',\n",
    "    'TR.ISINCode',\n",
    "    'TR.SEDOLCode',\n",
    "    'TR.IssuerPICode',\n",
    "    'TR.ExchangeMarketIdCode',\n",
    "    'TR.ValorenCode',\n",
    "    'TR.LipperRICCode',\n",
    "    'TR.CommonCode',\n",
    "    'TR.DUNSNUMBER',\n",
    "    'TR.CIKNUMBER',\n",
    "    'TR.InstrumentDescription',\n",
    "    'TR.MemberIndexRic',\n",
    "    'ORG ID',\n",
    "    'TR.QuoteID',\n",
    "    'TR.InstrumentID',\n",
    "    'TR.MXID',\n",
    "    'TR.EstimateId',\n",
    "]\n",
    "summed_data: list[str] = [\n",
    "    # Data that can't be put into categorical variables\n",
    "    'Co. Business Summary',  #TR.CompanyInfoBusSummary\n",
    "    'TR.BusinessSummary',\n",
    "    'TR.CompanyInfoFinSummary',\n",
    "    # and are not time series data or only averages of the last couple of weeks - seems to be all float types\n",
    "    'TR.PricePctChgRelIdx5Y',\n",
    "    'TR.PricePctChg5Y',\n",
    "    'TR.PriceNetChg5Y',\n",
    "    'TR.PriceAvgPctDiff90D',\n",
    "    'TR.AvgMonthlyVolume13W',\n",
    "    'TR.PriceAvgNetDiff2D',\n",
    "    'TR.AvgDailyVolume80D',\n",
    "    'TR.PriceAvgPctDiff40D',\n",
    "    'TR.AvgDailyVolume3M',\n",
    "    'TR.AvgDailyVolume90D',\n",
    "    'TR.AvgDirMovIdxRating30D',\n",
    "    'TR.PriceAvgNetDiff100D',\n",
    "    'TR.AvgDailyValTraded30D',\n",
    "    'TR.PriceAvgPctDiff240D',\n",
    "    'TR.PriceAvgNetDiff50D',\n",
    "    'TR.PriceAvg20D',\n",
    "    'TR.PriceAvgPctDiff25D',\n",
    "    'TR.PriceAvgPctDiff160D',\n",
    "    'TR.AvgDailyVolume2D',\n",
    "    'TR.AvgDailyVolume120D',\n",
    "    'TR.PriceAvg10D',\n",
    "    'TR.AvgDailyVolume25D',\n",
    "    'TR.MovAvgIntersect60D200D',\n",
    "    'TR.PriceAvgNetDiff10D',\n",
    "    'TR.PriceAvgPctDiff250D',\n",
    "    'TR.PriceAvgPctDiff180D',\n",
    "    'TR.AvgDailyVolume150D',\n",
    "    'TR.AvgDailyVolume5D',\n",
    "    'TR.PriceAvgNetDiff30D',\n",
    "    'TR.PriceAvgPctDiff200D',\n",
    "    'TR.PriceAvgPctDiff20D',\n",
    "    'TR.PriceAvg160D',\n",
    "    'TR.PriceAvgPctDiff60D',\n",
    "    'TR.PriceAvg40D',\n",
    "    'TR.PriceAvg90D',\n",
    "    'TR.AvgDailyVolume30D',\n",
    "    'TR.PriceAvg25D',\n",
    "    'TR.AvgDailyVolume10Day',\n",
    "    'TR.AvgDailyVolume60D',\n",
    "    'TR.PriceAvgPctDiff30D',\n",
    "    'TR.PriceAvg180D',\n",
    "    'TR.PriceAvgNetDiff25D',\n",
    "    'TR.PriceAvgNetDiff180D',\n",
    "    'TR.AvgDailyVolume6M',\n",
    "    'TR.PriceAvgPctDiff10D',\n",
    "    'TR.AvgDailyVolume180D',\n",
    "    'TR.PriceAvg250D',\n",
    "    'TR.AvgDailyVolume200D',\n",
    "    'TR.PriceAvg6M',\n",
    "    'TR.AvgDirMovIdxRating14D',\n",
    "    'TR.AvgDailyVolume50D',\n",
    "    'TR.PriceAvg2D',\n",
    "    'TR.PriceAvgNetDiff200D',\n",
    "    'TR.AvgDailyVolume160D',\n",
    "    'TR.PriceAvgNetDiff240D',\n",
    "    'TR.PriceAvgNetDiff250D',\n",
    "    'TR.AvgDailyVolume5DPrior5D',\n",
    "    'TR.PriceAvgNetDiff40D',\n",
    "    'TR.PriceAvgNetDiff90D',\n",
    "    'TR.AvgDailyVolume20D',\n",
    "    'TR.PriceAvg100D',\n",
    "    'TR.PriceAvg80D',\n",
    "    'TR.AvgMonthlyVolume3M',\n",
    "    'TR.PriceAvgPctDiff100D',\n",
    "    'TR.PriceAvgNetDiff160D',\n",
    "    'TR.PriceAvgPctDiff50D',\n",
    "    'TR.PriceAvgNetDiff120D',\n",
    "    'TR.PriceAvg240D',\n",
    "    'TR.AvgDailyValTraded5D',\n",
    "    'TR.PriceAvgPctDiff5D',\n",
    "    'TR.AvgDailyVolume40D',\n",
    "    'TR.PriceAvgNetDiff20D',\n",
    "    'TR.MovAvgIntersect30D200D',\n",
    "    'TR.PriceAvgNetDiff5D',\n",
    "    'TR.PriceAvgNetDiff150D',\n",
    "    'TR.AvgDailyValTraded52W',\n",
    "    'TR.AvgDailyVolume250D',\n",
    "    'TR.PriceAvg120D',\n",
    "    'TR.MovAvgIntersect30D60D',\n",
    "    'TR.AvgDailyVolume100D',\n",
    "    'TR.PriceAvg3M',\n",
    "    'TR.AvgDailyValTraded20D',\n",
    "    'TR.PriceAvg30D',\n",
    "    'TR.AvgDirMovIdxRating9D',\n",
    "    'TR.AvgDailyVolume13W',\n",
    "    'TR.PriceAvgPctDiff2D',\n",
    "    'TR.AvgDailyVolume240D',\n",
    "    'TR.PriceAvg60D',\n",
    "    'TR.PriceAvgNetDiff60D',\n",
    "    'TR.PriceAvg5D',\n",
    "    'TR.PriceAvgPctDiff80D',\n",
    "    'TR.PriceAvgNetDiff80D',\n",
    "    'TR.PriceAvgPctDiff120D',\n",
    "    'TR.PriceAvgPctDiff150D',\n",
    "    'TR.MovAvgCDSignal',\n",
    "    'TR.MovAvgCDLine2',\n",
    "    'TR.MovAvgCDLine1',\n",
    "    'TR.AvgMonthlyValTraded1Year',\n",
    "    'TR.RelPricePctChg26W',\n",
    "    'TR.VolumePctChg5D30D',\n",
    "    'TR.PricePctChg90D',\n",
    "    'TR.PriceNetChg1D',\n",
    "    'TR.PricePctChg20D',\n",
    "    'TR.PricePctChg8M',\n",
    "    'TR.PricePctChg4M',\n",
    "    'TR.PricePctChg11M',\n",
    "    'TR.PriceNetChg5D',\n",
    "    'TR.PriceNetChg3M',\n",
    "    'TR.PriceNetChg30D',\n",
    "    'TR.PricePctChg9M',\n",
    "    'TR.PriceNetChg2M',\n",
    "    'TR.VolumeNetChg5D30D',\n",
    "    'TR.PricePctChg100D',\n",
    "    'TR.PricePctChgYTD',\n",
    "    'TR.RelPricePctChg1D',\n",
    "    'TR.PriceNetChg8M',\n",
    "    'TR.PriceNetChg20D',\n",
    "    'TR.PriceNetChg240D',\n",
    "    'TR.PricePctChg10M',\n",
    "    'TR.PricePctChg4W',\n",
    "    'TR.RelPricePctChg52W',\n",
    "    'TR.PricePctChg6M',\n",
    "    'TR.PricePctChg5D',\n",
    "    'TR.RelPricePctChg13W',\n",
    "    'TR.PricePctChg7M',\n",
    "    'TR.PricePctChg120D',\n",
    "    'TR.PricePctChgRelIdxYTD',\n",
    "    'TR.PricePctChg26W',\n",
    "    'TR.PriceNetChg90D',\n",
    "    'TR.PricePctChg5M',\n",
    "    'TR.PricePctChg40D',\n",
    "    'TR.PricePctChg60D',\n",
    "    'TR.PriceNetChg9M',\n",
    "    'TR.PricePctChg25D',\n",
    "    'TR.PricePctChg250D',\n",
    "    'TR.PricePctChg50D',\n",
    "    'TR.PricePctChgWTD',\n",
    "    'TR.PricePctChg2D',\n",
    "    'TR.PriceNetChg5M',\n",
    "    'TR.PricePctChgRelIdx1Y',\n",
    "    'TR.PricePctChgRelIdx5D',\n",
    "    'TR.PricePctChg52W',\n",
    "    'TR.PriceNetChg250D',\n",
    "    'TR.PriceNetChg10D',\n",
    "    'TR.PriceNetChg50D',\n",
    "    'TR.PricePctChg52WkHigh',\n",
    "    'TR.PricePctChg1D',\n",
    "    'TR.RelPricePctChg4W',\n",
    "    'TR.PricePctChg80D',\n",
    "    'TR.PriceNetChg80D',\n",
    "    'TR.PriceNetChg10M',\n",
    "    'TR.PriceNetChg100D',\n",
    "    'TR.PricePctChg1Y',\n",
    "    'TR.PricePctChgRelIdx3M',\n",
    "    'TR.PriceNetChg120D',\n",
    "    'TR.PriceNetChg1M',\n",
    "    'TR.PriceNetChg200D',\n",
    "    'TR.PriceNetChg150D',\n",
    "    'TR.PriceNetChg7M',\n",
    "    'TR.PricePctChg2M',\n",
    "    'TR.PriceNetChg4M',\n",
    "    'TR.PriceNetChg40D',\n",
    "    'TR.PricePctChgRelIdx1M',\n",
    "    'TR.PricePctChg150D',\n",
    "    'TR.PricePctChgQTD',\n",
    "    'TR.PricePctChg3M',\n",
    "    'TR.PricePctChg13W',\n",
    "    'TR.PricePctChg200D',\n",
    "    'TR.PricePctChg30D',\n",
    "    'TR.PriceNetChg1Y',\n",
    "    'TR.PriceNetChg25D',\n",
    "    'TR.PriceRelSMAPctChg200D',\n",
    "    'TR.PriceNetChg2D',\n",
    "    'TR.PriceNetChg180D',\n",
    "    'TR.PricePctChg10D',\n",
    "    'TR.PricePctChgMTD',\n",
    "    'TR.PriceNetChg11M',\n",
    "    'TR.PricePctChg180D',\n",
    "    'TR.VolumePctChg1D',\n",
    "    'TR.PricePctChg1M',\n",
    "    'TR.PricePctChg52WkLow',\n",
    "    'TR.PriceNetChg160D',\n",
    "    'TR.PricePctChg160D',\n",
    "    'TR.PriceNetChg6M',\n",
    "    'TR.RelPricePctChgYTD',\n",
    "    'TR.PricePctChg240D',\n",
    "    'TR.PriceNetChg60D',\n",
    "    'TR.AlphaMthlyUp5Y',\n",
    "    'TR.SharpeRatioWklyDown3Y',\n",
    "    'TR.BetaFiveYear',\n",
    "    'TR.BetaWklyUp3Y',\n",
    "    'TR.SharpeRatioWklyUp3Y',\n",
    "    'TR.SharpeRatioWklyDown2Y',\n",
    "    'TR.BetaWklyAdj2Y',\n",
    "    'TR.SharpeRatioWkly3Y',\n",
    "    'TR.AlphaWklyUp3Y',\n",
    "    'TR.AlphaWklyUp2Y',\n",
    "    'TR.BetaWklyUp2Y',\n",
    "    'TR.AlphaMthly5Y',\n",
    "    'TR.SharpeRatioWkly2Y',\n",
    "    'TR.AlphaWkly3Y',\n",
    "    'TR.BetaWkly3Y',\n",
    "    'TR.AlphaWklyDown3Y',\n",
    "    'TR.AlphaWklyDown2Y',\n",
    "    'TR.SharpeRatioMthlyUp5Y',\n",
    "    'TR.BetaWklyDown2Y',\n",
    "    'TR.BetaFiveYearAdj',\n",
    "    'TR.AlphaWkly2Y',\n",
    "    'TR.SharpeRatioMthly5Y',\n",
    "    'TR.SharpeRatioMthlyDown5Y',\n",
    "    'TR.BetaWklyAdj3Y',\n",
    "    'TR.SharpeRatioWklyUp2Y',\n",
    "    'TR.AlphaMthlyDown5Y',\n",
    "    'TR.BetaWkly2Y',\n",
    "    'TR.BetaWklyDown3Y',\n",
    "    'Average Daily Value Traded – 1 Week',\n",
    "    'TR.Price52WeekHigh',\n",
    "    'TR.Price52WkHighFlg5D',\n",
    "    'TR.Price52WeekLow',\n",
    "    'TR.High1W',\n",
    "    'TR.RSIWilder3D',\n",
    "    'TR.RSIWilder14D',\n",
    "    'TR.Low1W',\n",
    "    'TR.RSIWilder30D',\n",
    "    'TR.SortinoRatio156W',\n",
    "    'TR.Price52WkLowFlg1D',\n",
    "    'TR.Volume3WSum',\n",
    "    'TR.Price52WkHighFlg1D',\n",
    "    'TR.RSIWilder9D',\n",
    "    '1 Week Total Return Cross Asset',\n",
    "    'TR.Price52WkLowFlg5D',\n",
    "    'Average Daily Value Traded – 3 Months',\n",
    "    'TR.RSISimple30D',\n",
    "    'TR.VolatilityCloseToClose120D',\n",
    "    'TR.Volatility100D',\n",
    "    'TR.Price200DayAverage',\n",
    "    'TR.Price150DayAverage',\n",
    "    'TR.Volatility260D',\n",
    "    'TR.DirMovIdxDiPlus',\n",
    "    'TR.PriceDeviation',\n",
    "    'TR.Volatility120D',\n",
    "    'TR.Volatility25D',\n",
    "    'TR.Volatility80D',\n",
    "    'TR.Price50DayAverage',\n",
    "    'TR.VolumeSum10D',\n",
    "    'TR.VolumeBlockSum10D',\n",
    "    'Average Daily Value Traded – 6 Months',\n",
    "    'TR.RSIExp14D',\n",
    "    'TR.VolumeDeviation',\n",
    "    'TR.Volatility250D',\n",
    "    'TR.VolumeNonBlockSum10D',\n",
    "    'TR.Volatility150D',\n",
    "    'TR.Volatility160D',\n",
    "    'TR.RSISimple14D',\n",
    "    'TR.RSISimple9D',\n",
    "    'TR.Volatility5D',\n",
    "    'TR.Volatility2D',\n",
    "    'TR.BetaDaily180D',\n",
    "    'TR.RSIExp30D',\n",
    "    'TR.VolatilityCloseToClose90D',\n",
    "    'TR.Volatility40D',\n",
    "    'TR.Volatility200D',\n",
    "    'TR.Volatility20D',\n",
    "    'TR.OrganizationID',\n",
    "    'TR.Liquidity10DAmt',\n",
    "    'TR.Volatility180D',\n",
    "    'TR.Volatility240D',\n",
    "    'TR.RSISimple3D',\n",
    "    'TR.RSIExp9D',\n",
    "    'TR.VolatilityCloseToClose20D',\n",
    "    'TR.BetaDaily90D',\n",
    "    'TR.RSIExp3D',\n",
    "    'Average Daily Value Traded – 2 Months',\n",
    "    'TR.Volatility60D',\n",
    "    'TR.Volatility10D',\n",
    "    'TR.VolatilityCloseToClose60D',\n",
    "    'TR.Volatility50D',\n",
    "    'TR.BetaDown',\n",
    "    'TR.Volatility90D',\n",
    "    'TR.DirMovIdxDiMinus',\n",
    "    'TR.Liquidity10DVol',\n",
    "    'TR.Volatility30D',\n",
    "    'TR.SortinoRatio60M',\n",
    "    'TR.High1M',\n",
    "    'TR.Low1M',\n",
    "    '3-year Price PCT Change',\n",
    "    'TR.BollingerLowBand',\n",
    "    'TR.BollingerMidBand',\n",
    "    'TR.BollingerUpBand',\n",
    "    'TR.BetaUp',\n",
    "    'TR.MoneyFlowTotalVol',\n",
    "    'TR.MoneyFlowNonBlockVol',\n",
    "    'TR.StopAndReversalPoint',\n",
    "    'TR.SettlementPeriod',\n",
    "]\n",
    "too_precise_data: list[str] = [\n",
    "    # Data that is too specific or is too distinctive\n",
    "    'TR.CmnLegalAddressLine1',\n",
    "    'TR.CommonHQAddressLine1',\n",
    "    'TR.CommonHQAddressLine2',\n",
    "    'TR.CommonHQAddressLine3',\n",
    "    'TR.LegalAddressLine1',\n",
    "    'TR.LegalAddressLine2',\n",
    "    'TR.HQAddressLine1',\n",
    "]\n",
    "redundant_data: list[str] = [\n",
    "    # Redundant information\n",
    "    'TR.ExchangeCode',  #instead, use TR.HQCountryCode\n",
    "    'TR.RegCountryCode',  #instead, use TR.HQCountryCode\n",
    "    'TR.RegStateProvince',  #instead, use TR.HQStateProvince\n",
    "    'TR.HQAddressStateProvince',  #instead, use TR.HQStateProvince\n",
    "    'TR.ExchangeRegion',  #instead, use TR.HQCountryCode\n",
    "    'TR.HQAddressCity',  #instead, use TR.HeadquartersCity\n",
    "    'TR.HeadquartersRegion',  #instead, use TR.HQCountryCode\n",
    "    'TR.LegalAddressCountryISO',  #instead, use TR.HQCountryCode\n",
    "    'TR.HQAddressCountryISO',  #instead, use TR.HQCountryCode\n",
    "    'TR.LegalAddressPostalCode',  #instead, use TR.HQAddressPostalCode\n",
    "    'TR.ImmediateParentCountryHQ',  #instead, use TR.ImmediateParentISOCountryHQ\n",
    "    'TR.UltimateParentCountryHQ',  #instead, use TR.HQCountryCode\n",
    "    'TR.UltimateParentISOCountryHQ',  #instead, use TR.HQCountryCode\n",
    "    'TR.RelatedOrgCountry',  #instead, use TR.HQCountryCode\n",
    "    'TR.HeadquartersCountry',  #instead, use TR.HQCountryCode\n",
    "    'TR.NAICSSectorAll',  #instead, use TR.NAICSSector\n",
    "    'TR.NAICSIndustryGroupAll',  #instead, use TR.NAICSIndustryGroup\n",
    "    'TR.NAICSNationalIndustryAll',  #instead, use TR.NAICSNationalIndustry\n",
    "    'TR.NAICSIndustryGroupAllCode',  #instead, use TR.NAICSIndustryGroupCode\n",
    "    'TR.NAICSNationalIndustryAllCode',  #instead, use TR.NAICSNationalIndustryCode\n",
    "    'TR.NAICSSubsectorAll',  #instead, use TR.NAICSSubsector\n",
    "    'TR.NAICSNationalIndustry',  #instead, use TR.NAICSInternationalIndustry\n",
    "    'TR.NAICSInternationalIndustryAll',  #instead, use TR.NAICSInternationalIndustry\n",
    "    'TR.NAICSInternationalIndustry',  #instead, use TR.NAICSIndustryGroup\n",
    "    'TR.NAICSInternationalIndustryAllCode',  #instead, use TR.NAICSInternationalIndustryCode\n",
    "    'TR.NAICSSubsectorAllCode',  #instead, use TR.NAICSSubsectorCode\n",
    "    'TR.QuoteMarketCapitalization',  #instead, use TR.QuoteMarketCap\n",
    "    'TR.UltimateParentId',  #instead, use TR.UltimateParent\n",
    "    'TR.PriceMoPriceCurrency',  #instead, use Currency Code\n",
    "]\n",
    "dates: list[str] = [\n",
    "    # Dates of reporting\n",
    "    'Number Employees Date',  #TR.CompanyNumEmployDate\n",
    "    'Number of Holders Date',  #TR.CompanyShldrNumDate\n",
    "    'Shares O/S Date',  #TR.CompanySharesOutDate\n",
    "    'Fiscal Year End Date',  #TR.CompanyFYearEnd\n",
    "    'Source Filing Date',  #TR.CompanySrcFileDate\n",
    "    'TR.CompanyPublicSinceDate',\n",
    "    'TR.Price52WeekLowDate',\n",
    "    'TR.DataThroughDate',\n",
    "    'TR.FirstTradeDate',\n",
    "    'TR.MemberIndexDate',\n",
    "    'TR.CompanyIncorpDate',\n",
    "    'TR.DataThroughDateValuation',\n",
    "    'TR.IPODate',\n",
    "    'TR.LowDate1W',\n",
    "    'TR.HighDate1W',\n",
    "    'TR.LowDate1M',\n",
    "    'TR.HighDate1M',\n",
    "    'TR.RetireDate',\n",
    "    'TR.OrgFoundedDay',\n",
    "    'TR.Price52WeekHighDate',\n",
    "    'TR.SegmentRevenueProdNoteDate',\n",
    "    'TR.SegmentEBITDAEstDate',\n",
    "    'TR.SegmentEBITEstDate',\n",
    "    'TR.SegmentEBITDAProdNoteDate',\n",
    "    'TR.SegmentEBITEstConfirmDate',\n",
    "    'TR.SegmentEBITEstStopDate',\n",
    "    'TR.SegmentRevenueEstDate',\n",
    "    'TR.SegmentRevenueEstConfirmDate',\n",
    "    'TR.SegmentOpProfitEstDate',\n",
    "    'TR.SegmentOpProfitProdNoteDate',\n",
    "    'TR.SegmentEBITProdNoteDate',\n",
    "    'TR.SegmentOpProfitEstConfirmDate',\n",
    "    'TR.SegmentEBITDAEstConfirmDate',\n",
    "    'TR.SegmentOrganicSalesGrowthEstConfirmDate',\n",
    "    'TR.SegmentOrganicSalesGrowthEstDate',\n",
    "    'TR.SegmentOrganicSalesGrowthProdNoteDate',\n",
    "    'TR.SegmentNumofStoresByTotalProdNoteDate',\n",
    "    'TR.SegmentNumofStoresByTotalEstConfirmDate',\n",
    "    'TR.SegmentNumofStoresByTotalEstDate',\n",
    "    'TR.SegmentSubscribersEstConfirmDate',\n",
    "    'TR.SegmentSubscribersEstDate',\n",
    "    'TR.SegmentSubscribersProdNoteDate',\n",
    "    'TR.SegmentNetSubscriberAddsEstDate',\n",
    "    'TR.SegmentNetSubscriberAddsProdNoteDate',\n",
    "    'TR.SegmentNetSubscriberAddsEstConfirmDate',\n",
    "    'TR.SegmentDailyActiveUsersEstConfirmDate',\n",
    "    'TR.SegmentDailyActiveUsersProdNoteDate',\n",
    "    'TR.SegmentDailyActiveUsersEstDate',\n",
    "    'TR.SegmentNumofStoresOpenedByTotalProdNoteDate',\n",
    "    'TR.SegmentRevenueEstStopDate',\n",
    "    'TR.SegmentEBITDAReportedProdNoteDate',\n",
    "    'TR.SegmentNumofStoresOpenedByTotalEstDate',\n",
    "    'TR.SegmentEBITDAEstStopDate',\n",
    "    'TR.SegmentNumofStoresClosedProdNoteDate',\n",
    "    'TR.SegmentNumofStoresClosedEstDate',\n",
    "    'TR.SegmentNumofStoresOpenedByTotalEstConfirmDate',\n",
    "]\n",
    "other_data: list[str] = [\n",
    "    # Other\n",
    "    'TR.SegmentRevenueEstBrokerName',  #The name of the broker forecasting the estimate.\n",
    "    'TR.MICName',  #MIC name\n",
    "    'TR.TaxAuthorityName',  #The authority to which the respective Organization pays taxes.\n",
    "    'TR.PriceMainIndexRIC',\n",
    "    #The main Index RIC applicable to the entity in question and used as the benchmark in values like Dividend Yield Relative to Primary Index.\n",
    "    'TR.OrgProviderTypeCode',  #Organization Provider type code.\n",
    "    'TR.CUSIPCode',\n",
    "    'TR.CinCUSIPCode',\n",
    "    #Committee on Uniform Securities Identification Procedures Identifier for Non US & Canadian companies.\n",
    "    'TR.ExchangeCountry',  #Country where the instrument trades.\n",
    "    'TR.ExchangeCountryCode',  #ISO2 country code where the instrument trades.\n",
    "    'TR.OrganizationStatusCode',  #Indicates whether the Organization is active in the real world.\n",
    "    'TR.EquityLocalCode',  #Local code\n",
    "    'TR.AssetIDCode',  #The Refinitiv Fixed Income identifier.\n",
    "    'TR.TaxAuthority',  # I don't think that to know where the taxes are paid is relevant.\n",
    "    'TR.TaxAuthorityName',\n",
    "    'TR.OrganizationVerified',  # only same values\n",
    "    'TR.IsRule144aRegistered',  # only same values\n",
    "    'TR.IsCompositeQuote',  # only same values\n",
    "    'TR.IsPrimaryQuote',  # don't know what this is and only 5 are not\n",
    "    'TR.OrgFoundedMonth',\n",
    "    'TR.IsPrimaryInstrument',  # only three are not\n",
    "    'TR.PrimListFunExist',  # only same values\n",
    "    'TR.HasFundamentalCoverage',  # only same values\n",
    "    'TR.HasESGCoverage'  # only same values\n",
    "]\n",
    "# unsure about these codes and classifiers\n",
    "unsure = [\n",
    "    'TR.OrgSubtypeCode',\n",
    "    'TR.TRBCBusinessSectorAllCode',\n",
    "    'TR.ICBSectorCode',\n",
    "    'TR.TRBCActivityAllCode',\n",
    "    'TR.ICBSupersectorCode',\n",
    "    'TR.TRBCEconSectorAllCode',\n",
    "    'TR.ICBIndustryCode',\n",
    "    'TR.TRBCIndustryCode',\n",
    "    'TR.TRBCActivityCode',\n",
    "    'TR.TRBCEconSectorCode',\n",
    "    'TR.TRBCIndustryGroupAllCode',\n",
    "    'TR.InstrumentListingStatusCode',\n",
    "    'TR.TRBCIndustryGroupCode',\n",
    "    'TR.ICBSubsectorCode',\n",
    "    'TR.TRBCIndustryAllCode',\n",
    "    'TR.OrgTypeCode',\n",
    "    'TR.AssetCategoryCode',\n",
    "    'TR.TRBCBusinessSectorCode',\n",
    "    'TR.SICIndustryCode',\n",
    "    'TR.SICDivisionCode',\n",
    "    'TR.SICIndustryGroupCode',\n",
    "    'TR.SICMajorGroupCode',\n",
    "    'TR.CriticalCountry1',\n",
    "    'TR.IsCountryPrimaryQuote',\n",
    "    'TR.ImmediateParentISOCountryHQ',\n",
    "    'TR.ImmediateParent',  # has around 200 values that have another parent company / could encode company=parent to 0\n",
    "    'TR.NACEClassification',  # is the standard European industry classification system\n",
    "    'TR.IsDelistedQuote',  # flag if a quote is delisted (only 1% are)\n",
    "    'TR.QuoteMarketCap',\n",
    "    # represents the marked value - Has to be reloaded with USD as currency'TR.NAICSIndustryGroup', #focus on GICSCodes\n",
    "    'TR.NAICSInternationalIndustryCode',  #TR.NAICSSectorCode is more generalized\n",
    "    'TR.NAICSNationalIndustryCode',  #TR.NAICSSectorCode is more generalized\n",
    "    'TR.NAICSIndustryGroupCode',  #TR.NAICSSectorCode is more generalized\n",
    "    'TR.NAICSSubsectorCode',  #TR.NAICSSectorCode is more generalized\n",
    "    'TR.NAICSSectorAllCode',  #TR.NAICSSectorCode is more generalized\n",
    "    'TR.NAICSIndustryGroup',  #focus on GICSCodes\n",
    "    'TR.NAICSSectorCode',  #focus on GICSCodes\n",
    "    'TR.NAICSSector',  #focus on GICSCodes\n",
    "    'TR.TRBCBusinessSectorAll',  #focus on GICSCodes\n",
    "    'TR.TRBCIndustryGroupAll',  #focus on GICSCodes\n",
    "    'TR.TRBCBusinessSector',  #focus on GICSCodes\n",
    "    'TR.TRBCEconomicSector',  #focus on GICSCodes\n",
    "    'TR.TRBCEconSectorAll',  #focus on GICSCodes\n",
    "    'TR.TRBCIndustryGroup',  #focus on GICSCodes\n",
    "    'TR.TRBCActivityAll',  #focus on GICSCodes\n",
    "    'TR.TRBCIndustryAll',  #focus on GICSCodes\n",
    "    'TR.TRBCIndustry',  #focus on GICSCodes\n",
    "    'TR.TRBCActivity',  #focus on GICSCodes\n",
    "    'TR.ICBSupersector',  #focus on GICSCodes\n",
    "    'TR.ICBSubsector',  #focus on GICSCodes\n",
    "    'TR.ICBIndustry',  #focus on GICSCodes\n",
    "    'TR.ICBSector',  #focus on GICSCodes\n",
    "]\n",
    "remove_cols: list[str] = list(representative_info + identifier_info + contact_info +\n",
    "                              summed_data + too_precise_data + redundant_data + dates + other_data + unsure)\n",
    "already_filtered_under_90 = [\n",
    "    'Contact Email Address', 'Contact Title', 'Contact Phone Number', 'TR.CmnLegalAddressLine2',\n",
    "    'TR.CmnLegalAddressLine3', 'TR.LegalAddressLine2', 'TR.LegalAddressLine3', 'TR.LegalAddressStateProvince',\n",
    "    'Main Fax Number', 'TR.CompanyEmail', 'TR.FormerlyKnownAsName', 'TR.ShortExchangeName', 'TR.ValorenCode',\n",
    "    'TR.LipperRICCode', 'TR.CommonCode', 'TR.CIKNUMBER', 'TR.MemberIndexRicCo. Business Summary',\n",
    "    'TR.PricePctChgRelIdx5Y, TR.PricePctChg5Y, TR.PriceNetChg5YTR.CmnLegalAddressLine1', 'TR.CommonHQAddressLine2',\n",
    "    'TR.CommonHQAddressLine3', 'TR.LegalAddressLine2', 'TR.RegStateProvince', 'TR.HQAddressStateProvince',\n",
    "    'Number Employees Date', 'Number of Holders Date', 'TR.SegmentEBITDAProdNoteDate', 'TR.SegmentEBITProdNoteDate',\n",
    "    'TR.SegmentRevenueProdNoteDate', 'TR.SegmentEBITDAEstDate', 'TR.SegmentEBITEstDate', 'TR.SegmentRevenueEstDate',\n",
    "    'TR.SegmentRevenueEstConfirmDate', 'TR.SegmentOpProfitEstDate', 'TR.SegmentOpProfitProdNoteDate',\n",
    "    'TR.SegmentOpProfitEstConfirmDate', 'TR.SegmentEBITEstConfirmDate', 'TR.SegmentEBITDAEstConfirmDate',\n",
    "    'TR.SegmentOrganicSalesGrowthEstConfirmDate', 'TR.SegmentOrganicSalesGrowthEstDate',\n",
    "    'TR.SegmentOrganicSalesGrowthProdNoteDate', 'TR.SegmentEBITEstStopDate', 'TR.SegmentNumofStoresByTotalProdNoteDate',\n",
    "    'TR.SegmentNumofStoresByTotalEstConfirmDate', 'TR.SegmentNumofStoresByTotalEstDate', 'TR.RetireDate',\n",
    "    'TR.SegmentSubscribersEstConfirmDate', 'TR.SegmentSubscribersEstDate', 'TR.SegmentSubscribersProdNoteDate',\n",
    "    'TR.SegmentNetSubscriberAddsEstDate', 'TR.SegmentNetSubscriberAddsProdNoteDate',\n",
    "    'TR.SegmentNetSubscriberAddsEstConfirmDate', 'TR.SegmentDailyActiveUsersEstConfirmDate',\n",
    "    'TR.SegmentDailyActiveUsersProdNoteDate', 'TR.SegmentDailyActiveUsersEstDate',\n",
    "    'TR.SegmentNumofStoresOpenedByTotalProdNoteDate', 'TR.SegmentRevenueEstStopDate',\n",
    "    'TR.SegmentEBITDAReportedProdNoteDate', 'TR.SegmentNumofStoresOpenedByTotalEstDate', 'TR.SegmentEBITDAEstStopDate',\n",
    "    'TR.SegmentNumofStoresClosedProdNoteDate', 'TR.SegmentNumofStoresClosedEstDate',\n",
    "    'TR.SegmentNumofStoresOpenedByTotalEstConfirmDate', 'TR.SegmentRevenueEstBrokerName', 'TR.CUSIPCode',\n",
    "    'TR.CinCUSIPCode', 'TR.EquityLocalCode', 'TR.AssetIDCode', 'TR.SICIndustryCode', 'TR.SICDivisionCode',\n",
    "    'TR.SICIndustryGroupCode', 'TR.SICMajorGroupCode', 'TR.CriticalCountry1'\n",
    "]\n",
    "filter_cols = list(set(remove_cols + unsure) - set(already_filtered_under_90))\n",
    "all_static_frame = all_static_frame.drop(columns=filter_cols)"
   ],
   "id": "7272e0962e1be64d",
   "outputs": [],
   "execution_count": 27
  },
  {
   "metadata": {},
   "cell_type": "markdown",
   "source": "### Save as csv",
   "id": "e88b80b849d8ccff"
  },
  {
   "metadata": {},
   "cell_type": "code",
   "source": [
    "all_static_frame = all_static_frame.convert_dtypes()\n",
    "all_static_frame.to_csv(config.filtered_dir / \"eda_filtered_static.csv\")\n",
    "#safe dtypes as files to make it possible to know the dtypes of the file while reading\n",
    "dlist = all_static_frame.dtypes.to_csv(config.filtered_dir / \"eda_filtered_static_dtypes.csv\", index=False)"
   ],
   "id": "20715a6f25c41f78",
   "outputs": [],
   "execution_count": null
  },
  {
   "metadata": {},
   "cell_type": "markdown",
   "source": "# Work with filtered dataset",
   "id": "815f262125c1c15c"
  },
  {
   "metadata": {},
   "cell_type": "code",
   "source": [
    "import pandas as pd\n",
    "from core import Config\n",
    "\n",
    "config = Config()\n",
    "dlist = pd.read_csv(config.filtered_dir / \"eda_filtered_static_dtypes.csv\")\n",
    "filtered_static_frame: pd.DataFrame = pd.read_csv(config.filtered_dir / \"eda_filtered_static.csv\", index_col=0,\n",
    "                                                  dtype=dlist.values)"
   ],
   "id": "97fbccf972467687",
   "outputs": [],
   "execution_count": null
  },
  {
   "metadata": {},
   "cell_type": "markdown",
   "source": "## Filter companies with many NaN values (over 10%)",
   "id": "ab71c881d44773b7"
  },
  {
   "metadata": {},
   "cell_type": "code",
   "source": [
    "nan_counts = all_static_frame.isnull().sum(axis=1).sort_values(ascending=False)\n",
    "# companies with NaN values over 10%\n",
    "companies_with_nan_values_over_10 = nan_counts[nan_counts > all_static_frame.shape[1] * 0.1]"
   ],
   "id": "73f7597d9b96a75d",
   "outputs": [],
   "execution_count": null
  },
  {
   "metadata": {},
   "cell_type": "code",
   "source": [
    "# Count NaN in the whole static frame and filter\n",
    "nan_count: pd.Series = all_static_frame.isna().sum()\n",
    "filtered_static_feature_list: list[str] = all_static_frame.columns.to_list()\n",
    "filtered_static_feature_list.sort()\n",
    "# This is a dataframe without NaN values\n",
    "filtered: pd.DataFrame = all_static_frame.filter(nan_count[nan_count == 0].index)\n",
    "not_none_filtered: pd.DataFrame = all_static_frame.filter(nan_count[nan_count != 0].index)"
   ],
   "id": "3da7687ed7ebe9a3",
   "outputs": [],
   "execution_count": null
  },
  {
   "metadata": {},
   "cell_type": "markdown",
   "source": "## Write list of features",
   "id": "92a3f23962045711"
  },
  {
   "metadata": {},
   "cell_type": "code",
   "source": [
    "with open(config.static_features_file, \"w\") as file:\n",
    "    file.write(\"\\n\".join(str(i) for i in filtered_static_feature_list))"
   ],
   "id": "1fa94d8ad89be067",
   "outputs": [],
   "execution_count": null
  }
 ],
 "metadata": {
  "kernelspec": {
   "display_name": "Python 3",
   "language": "python",
   "name": "python3"
  },
  "language_info": {
   "codemirror_mode": {
    "name": "ipython",
    "version": 2
   },
   "file_extension": ".py",
   "mimetype": "text/x-python",
   "name": "python",
   "nbconvert_exporter": "python",
   "pygments_lexer": "ipython2",
   "version": "2.7.6"
  }
 },
 "nbformat": 4,
 "nbformat_minor": 5
}
