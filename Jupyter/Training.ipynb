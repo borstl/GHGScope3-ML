{
 "cells": [
  {
   "metadata": {},
   "cell_type": "markdown",
   "source": "# Writing all_data CSV",
   "id": "77729406c16340df"
  },
  {
   "metadata": {
    "collapsed": true,
    "jupyter": {
     "is_executing": true
    },
    "ExecuteTime": {
     "start_time": "2025-10-07T14:03:29.697343Z"
    }
   },
   "cell_type": "code",
   "source": [
    "import pandas as pd\n",
    "from core import Config\n",
    "\n",
    "# Read data from disk\n",
    "config = Config()\n",
    "historic_frame: pd.DataFrame = pd.read_csv(config.filtered_dir / 'filtered_historic.csv', index_col=[0, 1])\n",
    "static_dtypes: pd.DataFrame = pd.read_csv(config.filtered_dir / 'static_dtypes.csv')\n",
    "static_frame: pd.DataFrame = pd.read_csv(config.filtered_dir / 'manually_filtered_static.csv', dtype=static_dtypes.values, index_col=0)\n",
    "static_frame = static_frame.convert_dtypes()\n",
    "historic_frame = historic_frame.convert_dtypes()\n",
    "# seperate dataframes by instrument\n",
    "histordict: dict[str, pd.DataFrame] = {}\n",
    "statdict: dict[str, pd.DataFrame] = {}\n",
    "for instrument, df in historic_frame.groupby(level=0):\n",
    "    histordict.update({instrument: df})\n",
    "for instrument, df in static_frame.groupby(level=0):\n",
    "    statdict.update({instrument: df})\n",
    "# Join historic and static dataframes\n",
    "all_dataframes: dict[str, pd.DataFrame] = {}\n",
    "for instrument, historic_df in histordict.items():\n",
    "    all_dataframes[instrument] = historic_df.join(statdict[instrument])\n",
    "all_data: pd.DataFrame = pd.concat(all_dataframes.values())\n",
    "#all_data.to_csv(config.dataset_dir / 'all_data.csv')"
   ],
   "id": "d8360fb87173ef89",
   "outputs": [],
   "execution_count": null
  },
  {
   "metadata": {},
   "cell_type": "markdown",
   "source": "# Loading All Data",
   "id": "c2921c00ba41ff94"
  },
  {
   "metadata": {},
   "cell_type": "code",
   "source": "del histordict, statdict, instrument, df, all_dataframes, historic_df",
   "id": "5f16028bbdb806a",
   "outputs": [],
   "execution_count": null
  },
  {
   "metadata": {},
   "cell_type": "code",
   "source": [
    "import pandas as pd\n",
    "from core import Config\n",
    "config = Config()\n",
    "all_data: pd.DataFrame = pd.read_csv(config.dataset_dir / 'all_data.csv', index_col=[0, 1])"
   ],
   "id": "1aa732ce7902eb95",
   "outputs": [],
   "execution_count": null
  },
  {
   "metadata": {},
   "cell_type": "markdown",
   "source": "# Split Training and Validation Set",
   "id": "7e7d3440e40fbd20"
  },
  {
   "metadata": {},
   "cell_type": "code",
   "source": [
    "training_data: pd.DataFrame = all_data.reset_index()\n",
    "training_data = training_data.convert_dtypes()\n",
    "#all_data2['Date'].astype('category')\n",
    "y: pd.DataFrame = training_data['TR.UpstreamScope3PurchasedGoodsAndServices'].to_frame()\n",
    "X: pd.DataFrame = training_data.drop('TR.UpstreamScope3PurchasedGoodsAndServices', axis=1)"
   ],
   "id": "81edf05a14da4429",
   "outputs": [],
   "execution_count": null
  },
  {
   "metadata": {},
   "cell_type": "code",
   "source": [
    "group_types = X.columns.to_series().groupby(X.dtypes.apply(lambda x: x.name))\n",
    "string_columns = group_types.get_group('string')\n",
    "boolean_columns = group_types.get_group('boolean')\n",
    "float_columns = group_types.get_group('Float64')\n",
    "int_columns = group_types.get_group('Int64')\n",
    "\n",
    "X[string_columns] = X[string_columns].fillna('missing')\n",
    "X[boolean_columns] = X[boolean_columns].fillna(False)\n",
    "X[float_columns] = X[float_columns].fillna(0)\n",
    "X[int_columns] = X[int_columns].fillna(0)\n",
    "\n",
    "X[string_columns] = X[string_columns].astype('category')\n",
    "cat_features = [X.columns.get_loc(c) for c in string_columns if c in X]\n",
    "\n",
    "y = y.fillna(0)"
   ],
   "id": "3d64d769664c18ac",
   "outputs": [],
   "execution_count": null
  },
  {
   "metadata": {},
   "cell_type": "code",
   "source": [
    "del all_data, boolean_columns, float_columns, int_columns, string_columns, historic_frame, static_frame, static_dtypes, group_types, config, training_data, histordict, all_dataframes, statdict, instrument, df\n",
    "import gc\n",
    "gc.collect()"
   ],
   "id": "f98f220f0ba521ad",
   "outputs": [],
   "execution_count": null
  },
  {
   "metadata": {
    "ExecuteTime": {
     "end_time": "2025-10-03T09:58:12.219762Z",
     "start_time": "2025-10-03T09:58:10.259360Z"
    }
   },
   "cell_type": "code",
   "source": [
    "from catboost import CatBoostRegressor\n",
    "model = CatBoostRegressor(iterations=1000, nan_mode='Min')\n",
    "model.fit(X, y, cat_features=cat_features, verbose=True, plot=True)"
   ],
   "id": "8419b4ab0169af72",
   "outputs": [
    {
     "data": {
      "text/plain": [
       "MetricVisualizer(layout=Layout(align_self='stretch', height='500px'))"
      ],
      "application/vnd.jupyter.widget-view+json": {
       "version_major": 2,
       "version_minor": 0,
       "model_id": "8d923e3fe58b415bb63dfa9d13708a50"
      }
     },
     "metadata": {},
     "output_type": "display_data",
     "jetTransient": {
      "display_id": null
     }
    },
    {
     "name": "stdout",
     "output_type": "stream",
     "text": [
      "Learning rate set to 0.068271\n",
      "0:\tlearn: 4386671109.7894030\ttotal: 466ms\tremaining: 7m 45s\n"
     ]
    },
    {
     "ename": "KeyboardInterrupt",
     "evalue": "",
     "output_type": "error",
     "traceback": [
      "\u001B[31m---------------------------------------------------------------------------\u001B[39m",
      "\u001B[31mKeyboardInterrupt\u001B[39m                         Traceback (most recent call last)",
      "\u001B[36mCell\u001B[39m\u001B[36m \u001B[39m\u001B[32mIn[11]\u001B[39m\u001B[32m, line 3\u001B[39m\n\u001B[32m      1\u001B[39m \u001B[38;5;28;01mfrom\u001B[39;00m\u001B[38;5;250m \u001B[39m\u001B[34;01mcatboost\u001B[39;00m\u001B[38;5;250m \u001B[39m\u001B[38;5;28;01mimport\u001B[39;00m CatBoostRegressor\n\u001B[32m      2\u001B[39m model = CatBoostRegressor(iterations=\u001B[32m1000\u001B[39m, nan_mode=\u001B[33m'\u001B[39m\u001B[33mMin\u001B[39m\u001B[33m'\u001B[39m)\n\u001B[32m----> \u001B[39m\u001B[32m3\u001B[39m \u001B[43mmodel\u001B[49m\u001B[43m.\u001B[49m\u001B[43mfit\u001B[49m\u001B[43m(\u001B[49m\u001B[43mX\u001B[49m\u001B[43m,\u001B[49m\u001B[43m \u001B[49m\u001B[43my\u001B[49m\u001B[43m,\u001B[49m\u001B[43m \u001B[49m\u001B[43mcat_features\u001B[49m\u001B[43m=\u001B[49m\u001B[43mcat_features\u001B[49m\u001B[43m,\u001B[49m\u001B[43m \u001B[49m\u001B[43mverbose\u001B[49m\u001B[43m=\u001B[49m\u001B[38;5;28;43;01mTrue\u001B[39;49;00m\u001B[43m,\u001B[49m\u001B[43m \u001B[49m\u001B[43mplot\u001B[49m\u001B[43m=\u001B[49m\u001B[38;5;28;43;01mTrue\u001B[39;49;00m\u001B[43m)\u001B[49m\n",
      "\u001B[36mFile \u001B[39m\u001B[32m~/miniconda3/envs/ML/lib/python3.13/site-packages/catboost/core.py:5873\u001B[39m, in \u001B[36mCatBoostRegressor.fit\u001B[39m\u001B[34m(self, X, y, cat_features, text_features, embedding_features, graph, sample_weight, baseline, use_best_model, eval_set, verbose, logging_level, plot, plot_file, column_description, verbose_eval, metric_period, silent, early_stopping_rounds, save_snapshot, snapshot_file, snapshot_interval, init_model, callbacks, log_cout, log_cerr)\u001B[39m\n\u001B[32m   5871\u001B[39m \u001B[38;5;28;01mif\u001B[39;00m \u001B[33m'\u001B[39m\u001B[33mloss_function\u001B[39m\u001B[33m'\u001B[39m \u001B[38;5;129;01min\u001B[39;00m params:\n\u001B[32m   5872\u001B[39m     CatBoostRegressor._check_is_compatible_loss(params[\u001B[33m'\u001B[39m\u001B[33mloss_function\u001B[39m\u001B[33m'\u001B[39m])\n\u001B[32m-> \u001B[39m\u001B[32m5873\u001B[39m \u001B[38;5;28;01mreturn\u001B[39;00m \u001B[38;5;28;43mself\u001B[39;49m\u001B[43m.\u001B[49m\u001B[43m_fit\u001B[49m\u001B[43m(\u001B[49m\u001B[43mX\u001B[49m\u001B[43m,\u001B[49m\u001B[43m \u001B[49m\u001B[43my\u001B[49m\u001B[43m,\u001B[49m\u001B[43m \u001B[49m\u001B[43mcat_features\u001B[49m\u001B[43m,\u001B[49m\u001B[43m \u001B[49m\u001B[43mtext_features\u001B[49m\u001B[43m,\u001B[49m\u001B[43m \u001B[49m\u001B[43membedding_features\u001B[49m\u001B[43m,\u001B[49m\u001B[43m \u001B[49m\u001B[38;5;28;43;01mNone\u001B[39;49;00m\u001B[43m,\u001B[49m\u001B[43m \u001B[49m\u001B[43mgraph\u001B[49m\u001B[43m,\u001B[49m\u001B[43m \u001B[49m\u001B[43msample_weight\u001B[49m\u001B[43m,\u001B[49m\u001B[43m \u001B[49m\u001B[38;5;28;43;01mNone\u001B[39;49;00m\u001B[43m,\u001B[49m\u001B[43m \u001B[49m\u001B[38;5;28;43;01mNone\u001B[39;49;00m\u001B[43m,\u001B[49m\u001B[43m \u001B[49m\u001B[38;5;28;43;01mNone\u001B[39;49;00m\u001B[43m,\u001B[49m\u001B[43m \u001B[49m\u001B[38;5;28;43;01mNone\u001B[39;49;00m\u001B[43m,\u001B[49m\u001B[43m \u001B[49m\u001B[43mbaseline\u001B[49m\u001B[43m,\u001B[49m\n\u001B[32m   5874\u001B[39m \u001B[43m                 \u001B[49m\u001B[43muse_best_model\u001B[49m\u001B[43m,\u001B[49m\u001B[43m \u001B[49m\u001B[43meval_set\u001B[49m\u001B[43m,\u001B[49m\u001B[43m \u001B[49m\u001B[43mverbose\u001B[49m\u001B[43m,\u001B[49m\u001B[43m \u001B[49m\u001B[43mlogging_level\u001B[49m\u001B[43m,\u001B[49m\u001B[43m \u001B[49m\u001B[43mplot\u001B[49m\u001B[43m,\u001B[49m\u001B[43m \u001B[49m\u001B[43mplot_file\u001B[49m\u001B[43m,\u001B[49m\u001B[43m \u001B[49m\u001B[43mcolumn_description\u001B[49m\u001B[43m,\u001B[49m\n\u001B[32m   5875\u001B[39m \u001B[43m                 \u001B[49m\u001B[43mverbose_eval\u001B[49m\u001B[43m,\u001B[49m\u001B[43m \u001B[49m\u001B[43mmetric_period\u001B[49m\u001B[43m,\u001B[49m\u001B[43m \u001B[49m\u001B[43msilent\u001B[49m\u001B[43m,\u001B[49m\u001B[43m \u001B[49m\u001B[43mearly_stopping_rounds\u001B[49m\u001B[43m,\u001B[49m\n\u001B[32m   5876\u001B[39m \u001B[43m                 \u001B[49m\u001B[43msave_snapshot\u001B[49m\u001B[43m,\u001B[49m\u001B[43m \u001B[49m\u001B[43msnapshot_file\u001B[49m\u001B[43m,\u001B[49m\u001B[43m \u001B[49m\u001B[43msnapshot_interval\u001B[49m\u001B[43m,\u001B[49m\u001B[43m \u001B[49m\u001B[43minit_model\u001B[49m\u001B[43m,\u001B[49m\u001B[43m \u001B[49m\u001B[43mcallbacks\u001B[49m\u001B[43m,\u001B[49m\u001B[43m \u001B[49m\u001B[43mlog_cout\u001B[49m\u001B[43m,\u001B[49m\u001B[43m \u001B[49m\u001B[43mlog_cerr\u001B[49m\u001B[43m)\u001B[49m\n",
      "\u001B[36mFile \u001B[39m\u001B[32m~/miniconda3/envs/ML/lib/python3.13/site-packages/catboost/core.py:2410\u001B[39m, in \u001B[36mCatBoost._fit\u001B[39m\u001B[34m(self, X, y, cat_features, text_features, embedding_features, pairs, graph, sample_weight, group_id, group_weight, subgroup_id, pairs_weight, baseline, use_best_model, eval_set, verbose, logging_level, plot, plot_file, column_description, verbose_eval, metric_period, silent, early_stopping_rounds, save_snapshot, snapshot_file, snapshot_interval, init_model, callbacks, log_cout, log_cerr)\u001B[39m\n\u001B[32m   2407\u001B[39m allow_clear_pool = train_params[\u001B[33m\"\u001B[39m\u001B[33mallow_clear_pool\u001B[39m\u001B[33m\"\u001B[39m]\n\u001B[32m   2409\u001B[39m \u001B[38;5;28;01mwith\u001B[39;00m plot_wrapper(plot, plot_file, \u001B[33m'\u001B[39m\u001B[33mTraining plots\u001B[39m\u001B[33m'\u001B[39m, [_get_train_dir(\u001B[38;5;28mself\u001B[39m.get_params())]):\n\u001B[32m-> \u001B[39m\u001B[32m2410\u001B[39m     \u001B[38;5;28;43mself\u001B[39;49m\u001B[43m.\u001B[49m\u001B[43m_train\u001B[49m\u001B[43m(\u001B[49m\n\u001B[32m   2411\u001B[39m \u001B[43m        \u001B[49m\u001B[43mtrain_pool\u001B[49m\u001B[43m,\u001B[49m\n\u001B[32m   2412\u001B[39m \u001B[43m        \u001B[49m\u001B[43mtrain_params\u001B[49m\u001B[43m[\u001B[49m\u001B[33;43m\"\u001B[39;49m\u001B[33;43meval_sets\u001B[39;49m\u001B[33;43m\"\u001B[39;49m\u001B[43m]\u001B[49m\u001B[43m,\u001B[49m\n\u001B[32m   2413\u001B[39m \u001B[43m        \u001B[49m\u001B[43mparams\u001B[49m\u001B[43m,\u001B[49m\n\u001B[32m   2414\u001B[39m \u001B[43m        \u001B[49m\u001B[43mallow_clear_pool\u001B[49m\u001B[43m,\u001B[49m\n\u001B[32m   2415\u001B[39m \u001B[43m        \u001B[49m\u001B[43mtrain_params\u001B[49m\u001B[43m[\u001B[49m\u001B[33;43m\"\u001B[39;49m\u001B[33;43minit_model\u001B[39;49m\u001B[33;43m\"\u001B[39;49m\u001B[43m]\u001B[49m\n\u001B[32m   2416\u001B[39m \u001B[43m    \u001B[49m\u001B[43m)\u001B[49m\n\u001B[32m   2418\u001B[39m \u001B[38;5;66;03m# Have property feature_importance possibly set\u001B[39;00m\n\u001B[32m   2419\u001B[39m loss = \u001B[38;5;28mself\u001B[39m._object._get_loss_function_name()\n",
      "\u001B[36mFile \u001B[39m\u001B[32m~/miniconda3/envs/ML/lib/python3.13/site-packages/catboost/core.py:1790\u001B[39m, in \u001B[36m_CatBoostBase._train\u001B[39m\u001B[34m(self, train_pool, test_pool, params, allow_clear_pool, init_model)\u001B[39m\n\u001B[32m   1789\u001B[39m \u001B[38;5;28;01mdef\u001B[39;00m\u001B[38;5;250m \u001B[39m\u001B[34m_train\u001B[39m(\u001B[38;5;28mself\u001B[39m, train_pool, test_pool, params, allow_clear_pool, init_model):\n\u001B[32m-> \u001B[39m\u001B[32m1790\u001B[39m     \u001B[38;5;28;43mself\u001B[39;49m\u001B[43m.\u001B[49m\u001B[43m_object\u001B[49m\u001B[43m.\u001B[49m\u001B[43m_train\u001B[49m\u001B[43m(\u001B[49m\u001B[43mtrain_pool\u001B[49m\u001B[43m,\u001B[49m\u001B[43m \u001B[49m\u001B[43mtest_pool\u001B[49m\u001B[43m,\u001B[49m\u001B[43m \u001B[49m\u001B[43mparams\u001B[49m\u001B[43m,\u001B[49m\u001B[43m \u001B[49m\u001B[43mallow_clear_pool\u001B[49m\u001B[43m,\u001B[49m\u001B[43m \u001B[49m\u001B[43minit_model\u001B[49m\u001B[43m.\u001B[49m\u001B[43m_object\u001B[49m\u001B[43m \u001B[49m\u001B[38;5;28;43;01mif\u001B[39;49;00m\u001B[43m \u001B[49m\u001B[43minit_model\u001B[49m\u001B[43m \u001B[49m\u001B[38;5;28;43;01melse\u001B[39;49;00m\u001B[43m \u001B[49m\u001B[38;5;28;43;01mNone\u001B[39;49;00m\u001B[43m)\u001B[49m\n\u001B[32m   1791\u001B[39m     \u001B[38;5;28mself\u001B[39m._set_trained_model_attributes()\n",
      "\u001B[36mFile \u001B[39m\u001B[32m_catboost.pyx:5023\u001B[39m, in \u001B[36m_catboost._CatBoost._train\u001B[39m\u001B[34m()\u001B[39m\n",
      "\u001B[36mFile \u001B[39m\u001B[32m_catboost.pyx:5072\u001B[39m, in \u001B[36m_catboost._CatBoost._train\u001B[39m\u001B[34m()\u001B[39m\n",
      "\u001B[31mKeyboardInterrupt\u001B[39m: "
     ]
    }
   ],
   "execution_count": 11
  }
 ],
 "metadata": {
  "kernelspec": {
   "display_name": "Python 3",
   "language": "python",
   "name": "python3"
  },
  "language_info": {
   "codemirror_mode": {
    "name": "ipython",
    "version": 2
   },
   "file_extension": ".py",
   "mimetype": "text/x-python",
   "name": "python",
   "nbconvert_exporter": "python",
   "pygments_lexer": "ipython2",
   "version": "2.7.6"
  }
 },
 "nbformat": 4,
 "nbformat_minor": 5
}
