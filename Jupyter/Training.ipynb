{
 "cells": [
  {
   "metadata": {},
   "cell_type": "markdown",
   "source": "# Writing all_data CSV",
   "id": "77729406c16340df"
  },
  {
   "metadata": {
    "collapsed": true
   },
   "cell_type": "code",
   "source": [
    "import pandas as pd\n",
    "from core import Config\n",
    "# Read data from disk\n",
    "config = Config()\n",
    "historic_frame: pd.DataFrame = pd.read_csv(config.filtered_dir / 'filtered_historic.csv', index_col=[0, 1])\n",
    "static_dtypes: pd.DataFrame = pd.read_csv(config.filtered_dir / 'static_dtypes.csv')\n",
    "static_frame: pd.DataFrame = pd.read_csv(config.filtered_dir / 'manually_filtered_static.csv', dtype=static_dtypes.values, index_col=0)\n",
    "# seperate dataframes by instrument\n",
    "histordict: dict[str, pd.DataFrame] = {}\n",
    "statdict: dict[str, pd.DataFrame] = {}\n",
    "for instrument, df in historic_frame.groupby(level=0):\n",
    "    histordict.update({instrument: df})\n",
    "for instrument, df in static_frame.groupby(level=0):\n",
    "    statdict.update({instrument: df})\n",
    "# Join historic and static dataframes\n",
    "#all_dataframes: dict[str, pd.DataFrame] = {}\n",
    "#for instrument, historic_df in histordict.items():\n",
    "#    all_dataframes[instrument] = historic_df.join(statdict[instrument])\n",
    "#all_data: pd.DataFrame = pd.concat(all_dataframes.values())\n",
    "#all_data.to_csv(config.dataset_dir / 'all_data.csv')\n",
    "del historic_frame, static_frame, static_dtypes"
   ],
   "id": "d8360fb87173ef89",
   "outputs": [],
   "execution_count": null
  },
  {
   "metadata": {},
   "cell_type": "markdown",
   "source": "# Loading All Data",
   "id": "c2921c00ba41ff94"
  },
  {
   "metadata": {},
   "cell_type": "code",
   "source": [
    "import pandas as pd\n",
    "from core import Config\n",
    "config = Config()\n",
    "all_data: pd.DataFrame = pd.read_csv(config.dataset_dir / 'all_data.csv', index_col=[0, 1])"
   ],
   "id": "1aa732ce7902eb95",
   "outputs": [],
   "execution_count": null
  },
  {
   "metadata": {},
   "cell_type": "markdown",
   "source": "# Split Training and Validation Set",
   "id": "7e7d3440e40fbd20"
  },
  {
   "metadata": {},
   "cell_type": "code",
   "source": [
    "y: pd.DataFrame = all_data['TR.UpstreamScope3PurchasedGoodsAndServices'].to_frame()\n",
    "X: pd.DataFrame = all_data.drop('TR.UpstreamScope3PurchasedGoodsAndServices', axis=1)"
   ],
   "id": "81edf05a14da4429",
   "outputs": [],
   "execution_count": null
  },
  {
   "metadata": {},
   "cell_type": "code",
   "source": "cat_features: list[int] = list(range(0, X.shape[1]))",
   "id": "3d64d769664c18ac",
   "outputs": [],
   "execution_count": null
  },
  {
   "metadata": {},
   "cell_type": "code",
   "source": [
    "from catboost import CatBoostClassifier\n",
    "model = CatBoostClassifier(iterations=100, nan_mode='Min')\n",
    "model.fit(X, y, cat_features=cat_features, verbose=True)"
   ],
   "id": "8419b4ab0169af72",
   "outputs": [],
   "execution_count": null
  }
 ],
 "metadata": {
  "kernelspec": {
   "display_name": "Python 3",
   "language": "python",
   "name": "python3"
  },
  "language_info": {
   "codemirror_mode": {
    "name": "ipython",
    "version": 2
   },
   "file_extension": ".py",
   "mimetype": "text/x-python",
   "name": "python",
   "nbconvert_exporter": "python",
   "pygments_lexer": "ipython2",
   "version": "2.7.6"
  }
 },
 "nbformat": 4,
 "nbformat_minor": 5
}
