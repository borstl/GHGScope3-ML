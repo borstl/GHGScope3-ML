{
 "cells": [
  {
   "metadata": {},
   "cell_type": "markdown",
   "source": "# Writing all_data CSV",
   "id": "77729406c16340df"
  },
  {
   "metadata": {
    "collapsed": true
   },
   "cell_type": "code",
   "source": [
    "import pandas as pd\n",
    "from core import Config\n",
    "\n",
    "# Read data from the disk\n",
    "config = Config()\n",
    "historic_frame: pd.DataFrame = pd.read_csv(config.filtered_dir / 'filtered_historic.csv', index_col=[0, 1])\n",
    "static_dtypes: pd.DataFrame = pd.read_csv(config.filtered_dir / 'eda_filtered_static_dtypes.csv')\n",
    "static_frame: pd.DataFrame = pd.read_csv(config.filtered_dir / 'eda_filtered_static.csv', dtype=static_dtypes.values, index_col=0)\n",
    "static_frame = static_frame.convert_dtypes()\n",
    "historic_frame = historic_frame.convert_dtypes()\n",
    "# seperate dataframes by instrument\n",
    "histordict: dict[str, pd.DataFrame] = {}\n",
    "statdict: dict[str, pd.DataFrame] = {}\n",
    "for instrument, df in historic_frame.groupby(level=0):\n",
    "    histordict.update({instrument: df})\n",
    "for instrument, df in static_frame.groupby(level=0):\n",
    "    statdict.update({instrument: df})\n",
    "# Join historic and static dataframes\n",
    "all_dataframes: dict[str, pd.DataFrame] = {}\n",
    "for instrument, historic_df in histordict.items():\n",
    "    all_dataframes[instrument] = historic_df.join(statdict[instrument])\n",
    "all_data: pd.DataFrame = pd.concat(all_dataframes.values())\n",
    "all_data.to_csv(config.dataset_dir / 'all_data.csv')"
   ],
   "id": "d8360fb87173ef89",
   "outputs": [],
   "execution_count": null
  },
  {
   "metadata": {},
   "cell_type": "code",
   "source": [
    "del histordict, statdict, instrument, df, all_dataframes, historic_df\n",
    "import gc\n",
    "gc.collect()"
   ],
   "id": "5f16028bbdb806a",
   "outputs": [],
   "execution_count": null
  },
  {
   "metadata": {},
   "cell_type": "markdown",
   "source": "# Loading All Data",
   "id": "eb436741cc069b77"
  },
  {
   "metadata": {},
   "cell_type": "code",
   "source": [
    "import pandas as pd\n",
    "from core import Config\n",
    "config = Config()\n",
    "all_data: pd.DataFrame = pd.read_csv(config.dataset_dir / 'all_data.csv', index_col=[0, 1])"
   ],
   "id": "1aa732ce7902eb95",
   "outputs": [],
   "execution_count": null
  },
  {
   "metadata": {},
   "cell_type": "markdown",
   "source": "# Split Training and Validation Set",
   "id": "7e7d3440e40fbd20"
  },
  {
   "metadata": {},
   "cell_type": "code",
   "source": [
    "training_data: pd.DataFrame = all_data.reset_index()\n",
    "training_data = training_data.convert_dtypes()\n",
    "#all_data2['Date'].astype('category')\n",
    "y: pd.DataFrame = training_data['TR.UpstreamScope3PurchasedGoodsAndServices'].to_frame()\n",
    "X: pd.DataFrame = training_data.drop('TR.UpstreamScope3PurchasedGoodsAndServices', axis=1)"
   ],
   "id": "81edf05a14da4429",
   "outputs": [],
   "execution_count": null
  },
  {
   "metadata": {},
   "cell_type": "code",
   "source": [
    "group_types = X.columns.to_series().groupby(X.dtypes.apply(lambda x: x.name))\n",
    "string_columns = group_types.get_group('string')\n",
    "boolean_columns = group_types.get_group('boolean')\n",
    "float_columns = group_types.get_group('Float64')\n",
    "int_columns = group_types.get_group('Int64')\n",
    "\n",
    "X[string_columns] = X[string_columns].fillna('missing')\n",
    "X[boolean_columns] = X[boolean_columns].fillna(False)\n",
    "X[float_columns] = X[float_columns].fillna(0)\n",
    "X[int_columns] = X[int_columns].fillna(0)\n",
    "\n",
    "X[string_columns] = X[string_columns].astype('category')\n",
    "cat_features = [X.columns.get_loc(c) for c in string_columns if c in X]\n",
    "\n",
    "y = y.fillna(0)"
   ],
   "id": "3d64d769664c18ac",
   "outputs": [],
   "execution_count": null
  },
  {
   "metadata": {},
   "cell_type": "code",
   "source": [
    "from catboost import Pool\n",
    "from sklearn.model_selection import train_test_split\n",
    "\n",
    "data = train_test_split(X, y, test_size=0.2, random_state=42)\n",
    "X_train, X_validation, y_train, y_validation = data\n",
    "train_pool = Pool(\n",
    "    data=X_train,\n",
    "    label=y_train,\n",
    "    cat_features=cat_features\n",
    ")\n",
    "validation_pool = Pool(\n",
    "    data=X_validation,\n",
    "    label=y_validation,\n",
    "    cat_features=cat_features\n",
    ")"
   ],
   "id": "6275d10e543a2d1",
   "outputs": [],
   "execution_count": null
  },
  {
   "metadata": {},
   "cell_type": "code",
   "source": [
    "del all_data, boolean_columns, float_columns, int_columns, string_columns, historic_frame, static_frame, static_dtypes, group_types, config, training_data\n",
    "import gc\n",
    "gc.collect()"
   ],
   "id": "f98f220f0ba521ad",
   "outputs": [],
   "execution_count": null
  },
  {
   "metadata": {},
   "cell_type": "code",
   "source": [
    "from catboost import CatBoostRegressor\n",
    "model = CatBoostRegressor(iterations=1000, nan_mode='Min')\n",
    "model.fit(train_pool, eval_set=validation_pool, verbose=True, plot=True)"
   ],
   "id": "8419b4ab0169af72",
   "outputs": [],
   "execution_count": null
  }
 ],
 "metadata": {
  "kernelspec": {
   "display_name": "Python 3",
   "language": "python",
   "name": "python3"
  },
  "language_info": {
   "codemirror_mode": {
    "name": "ipython",
    "version": 2
   },
   "file_extension": ".py",
   "mimetype": "text/x-python",
   "name": "python",
   "nbconvert_exporter": "python",
   "pygments_lexer": "ipython2",
   "version": "2.7.6"
  }
 },
 "nbformat": 4,
 "nbformat_minor": 5
}
