{
 "cells": [
  {
   "metadata": {
    "ExecuteTime": {
     "end_time": "2025-08-18T16:57:46.280323Z",
     "start_time": "2025-08-18T16:57:45.979836Z"
    }
   },
   "cell_type": "code",
   "source": [
    "import logging\n",
    "from core.config import Config\n",
    "from data.download import LSEGDataDownloader\n",
    "\n",
    "import pandas as pd\n",
    "\n",
    "config = Config()\n",
    "logging.basicConfig(\n",
    "        filename=config.log_file,\n",
    "        encoding=\"utf-8\",\n",
    "        level=config.log_level,\n",
    "        format='%(asctime)s %(levelname)-8s %(message)s',\n",
    "        datefmt = '%Y-%m-%d %H:%M:%S'\n",
    "    )\n",
    "logger = logging.getLogger()"
   ],
   "id": "e74ca2369a377986",
   "outputs": [],
   "execution_count": 1
  },
  {
   "metadata": {
    "collapsed": true,
    "ExecuteTime": {
     "end_time": "2025-08-18T16:57:49.470268Z",
     "start_time": "2025-08-18T16:57:46.283003Z"
    }
   },
   "cell_type": "code",
   "source": [
    "df: dict[str, pd.DataFrame] = {}\n",
    "with LSEGDataDownloader(config) as downloader:\n",
    "    df = downloader.download_all_historic_chunks(config.companies)"
   ],
   "id": "6c6bfc9ebee6fa9e",
   "outputs": [
    {
     "name": "stdout",
     "output_type": "stream",
     "text": [
      "History download: AAPL.OQ - 307950.KS: Chunk 2:3\n",
      "History download: AAPL.OQ - 307950.KS: Chunk 3:3\n"
     ]
    }
   ],
   "execution_count": 2
  }
 ],
 "metadata": {
  "kernelspec": {
   "display_name": "Python 3",
   "language": "python",
   "name": "python3"
  },
  "language_info": {
   "codemirror_mode": {
    "name": "ipython",
    "version": 2
   },
   "file_extension": ".py",
   "mimetype": "text/x-python",
   "name": "python",
   "nbconvert_exporter": "python",
   "pygments_lexer": "ipython2",
   "version": "2.7.6"
  }
 },
 "nbformat": 4,
 "nbformat_minor": 5
}
