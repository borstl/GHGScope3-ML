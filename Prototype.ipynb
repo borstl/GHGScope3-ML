{
 "cells": [
  {
   "metadata": {},
   "cell_type": "markdown",
   "source": [
    "### Setup\n",
    "Configuration, Logger and Downloader"
   ],
   "id": "b2f2a0d6e7bd322b"
  },
  {
   "metadata": {},
   "cell_type": "code",
   "source": [
    "import os\n",
    "import logging\n",
    "import time\n",
    "\n",
    "import pandas as pd\n",
    "from core.config import Config\n",
    "from data.cleaning import read_all_csv\n",
    "from data.download import LSEGDataDownloader\n",
    "os.environ[\"RD_LIB_CONFIG_PATH\"] = \"/Configuration\"\n",
    "\n",
    "config = Config()\n",
    "logging.basicConfig(\n",
    "        filename=config.log_file,\n",
    "        encoding=\"utf-8\",\n",
    "        level=config.log_level,\n",
    "        format='%(asctime)s %(levelname)-8s %(message)s',\n",
    "        datefmt = '%Y-%m-%d %H:%M:%S'\n",
    "    )\n",
    "logger = logging.getLogger()"
   ],
   "id": "e74ca2369a377986",
   "outputs": [],
   "execution_count": null
  },
  {
   "metadata": {},
   "cell_type": "markdown",
   "source": [
    "### Downloading time series Data\n",
    "Beginning from 8766.T"
   ],
   "id": "d595c661a33d1b36"
  },
  {
   "metadata": {},
   "cell_type": "code",
   "source": [
    "with (LSEGDataDownloader(config) as downloader):\n",
    "    logger.info(\"Downloading historic frames from LSEG database beginning from 8766.T\")\n",
    "    historic: dict[str, pd.DataFrame] = {}\n",
    "    for chunk in config.companies_historic_chunks:\n",
    "        historic_result: dict[str, pd.DataFrame] = (\n",
    "            downloader.download_all_historic_chunks(chunk)\n",
    "        )\n",
    "        historic.update(historic_result)"
   ],
   "id": "8ea3a8e6266ce6f9",
   "outputs": [],
   "execution_count": null
  },
  {
   "metadata": {},
   "cell_type": "markdown",
   "source": "### Downloading static Data",
   "id": "9391c4d8701b8b7e"
  },
  {
   "metadata": {},
   "cell_type": "code",
   "source": [
    "with LSEGDataDownloader(config) as downloader:\n",
    "    for companies in config.companies_static_chunks[34:]:\n",
    "        statdict: dict[str, pd.DataFrame] = downloader.download_static_from(companies, config.static_features)\n",
    "        for name, frame in statdict.items():\n",
    "            frame.to_csv(config.static_dir / f\"company-{name}.csv\")\n",
    "        time.sleep(60)"
   ],
   "id": "d62ed0fc0148aba",
   "outputs": [],
   "execution_count": null
  },
  {
   "metadata": {},
   "cell_type": "markdown",
   "source": "### Building holy Frame",
   "id": "b73841eeb5c5753c"
  },
  {
   "metadata": {},
   "cell_type": "code",
   "source": "dictionary = read_all_csv(config.historic_dir)",
   "id": "7b1b63d6f7badd63",
   "outputs": [],
   "execution_count": null
  },
  {
   "metadata": {},
   "cell_type": "code",
   "source": "holy_frame: pd.DataFrame = pd.concat(dictionary.values())",
   "id": "539221132ab296a0",
   "outputs": [],
   "execution_count": null
  },
  {
   "metadata": {},
   "cell_type": "code",
   "source": [
    "dup_names = holy_frame.columns[holy_frame.columns.duplicated()].unique().tolist()\n",
    "print(dup_names)"
   ],
   "id": "3554ebaadb3f7acf",
   "outputs": [],
   "execution_count": null
  }
 ],
 "metadata": {
  "kernelspec": {
   "display_name": "Python 3",
   "language": "python",
   "name": "python3"
  },
  "language_info": {
   "codemirror_mode": {
    "name": "ipython",
    "version": 2
   },
   "file_extension": ".py",
   "mimetype": "text/x-python",
   "name": "python",
   "nbconvert_exporter": "python",
   "pygments_lexer": "ipython2",
   "version": "2.7.6"
  }
 },
 "nbformat": 4,
 "nbformat_minor": 5
}
