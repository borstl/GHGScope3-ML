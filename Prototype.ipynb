{
 "cells": [
  {
   "metadata": {
    "ExecuteTime": {
     "end_time": "2025-08-20T19:10:01.316869Z",
     "start_time": "2025-08-20T19:10:01.010843Z"
    }
   },
   "cell_type": "code",
   "source": [
    "import logging\n",
    "from core.config import Config\n",
    "from data.download import LSEGDataDownloader\n",
    "\n",
    "import pandas as pd\n",
    "\n",
    "config = Config()\n",
    "logging.basicConfig(\n",
    "        filename=config.log_file,\n",
    "        encoding=\"utf-8\",\n",
    "        level=config.log_level,\n",
    "        format='%(asctime)s %(levelname)-8s %(message)s',\n",
    "        datefmt = '%Y-%m-%d %H:%M:%S'\n",
    "    )\n",
    "logger = logging.getLogger()"
   ],
   "id": "e74ca2369a377986",
   "outputs": [],
   "execution_count": 1
  },
  {
   "metadata": {
    "collapsed": true,
    "ExecuteTime": {
     "end_time": "2025-08-20T19:11:19.882496Z",
     "start_time": "2025-08-20T19:10:03.235462Z"
    }
   },
   "cell_type": "code",
   "source": [
    "with LSEGDataDownloader(config) as downloader:\n",
    "    downloader.download_all_frames()"
   ],
   "id": "6c6bfc9ebee6fa9e",
   "outputs": [
    {
     "name": "stdout",
     "output_type": "stream",
     "text": [
      "Static download: AAPL.OQ-FM.TO: Chunk2:3\n",
      "Static download: AAPL.OQ-FM.TO: Chunk3:3\n",
      "Static download: 307950.KS-MOS.N: Chunk2:3\n",
      "Static download: 307950.KS-MOS.N: Chunk3:3\n",
      "History download: AAPL.OQ - FM.TO: Chunk 2:3\n",
      "History download: AAPL.OQ - FM.TO: Chunk 3:3\n",
      "History download: 307950.KS - MOS.N: Chunk 2:3\n",
      "History download: 307950.KS - MOS.N: Chunk 3:3\n"
     ]
    }
   ],
   "execution_count": 2
  },
  {
   "metadata": {},
   "cell_type": "code",
   "source": "",
   "id": "cedf05863506fed6",
   "outputs": [],
   "execution_count": null
  }
 ],
 "metadata": {
  "kernelspec": {
   "display_name": "Python 3",
   "language": "python",
   "name": "python3"
  },
  "language_info": {
   "codemirror_mode": {
    "name": "ipython",
    "version": 2
   },
   "file_extension": ".py",
   "mimetype": "text/x-python",
   "name": "python",
   "nbconvert_exporter": "python",
   "pygments_lexer": "ipython2",
   "version": "2.7.6"
  }
 },
 "nbformat": 4,
 "nbformat_minor": 5
}
