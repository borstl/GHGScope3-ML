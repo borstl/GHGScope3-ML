{
 "cells": [
  {
   "metadata": {
    "ExecuteTime": {
     "end_time": "2025-08-19T12:50:34.474968Z",
     "start_time": "2025-08-19T12:50:34.168859Z"
    }
   },
   "cell_type": "code",
   "source": [
    "import logging\n",
    "from core.config import Config\n",
    "from data.download import LSEGDataDownloader\n",
    "\n",
    "import pandas as pd\n",
    "\n",
    "config = Config()\n",
    "logging.basicConfig(\n",
    "        filename=config.log_file,\n",
    "        encoding=\"utf-8\",\n",
    "        level=config.log_level,\n",
    "        format='%(asctime)s %(levelname)-8s %(message)s',\n",
    "        datefmt = '%Y-%m-%d %H:%M:%S'\n",
    "    )\n",
    "logger = logging.getLogger()"
   ],
   "id": "e74ca2369a377986",
   "outputs": [],
   "execution_count": 1
  },
  {
   "metadata": {
    "collapsed": true,
    "ExecuteTime": {
     "end_time": "2025-08-19T12:50:46.236543Z",
     "start_time": "2025-08-19T12:50:34.482444Z"
    }
   },
   "cell_type": "code",
   "source": [
    "with LSEGDataDownloader(config) as downloader:\n",
    "    downloader.download_all_frames()"
   ],
   "id": "6c6bfc9ebee6fa9e",
   "outputs": [
    {
     "name": "stdout",
     "output_type": "stream",
     "text": [
      "Static download: AAPL.OQ-FM.TO: Chunk2:3\n",
      "Static download: AAPL.OQ-FM.TO: Chunk3:3\n",
      "Static download: 307950.KS-MOS.N: Chunk2:3\n",
      "Static download: 307950.KS-MOS.N: Chunk3:3\n",
      "History download: AAPL.OQ - FM.TO: Chunk 2:3\n",
      "History download: AAPL.OQ - FM.TO: Chunk 3:3\n",
      "History download: 307950.KS - MOS.N: Chunk 2:3\n",
      "History download: 307950.KS - MOS.N: Chunk 3:3\n"
     ]
    },
    {
     "ename": "ValueError",
     "evalue": "columns overlap but no suffix specified: Index(['TR.ANALYTICBOARDFUNCTIONSPOLICYSCORE',\n       'TR.LTCAT1UPSTREAMPURCHASEDGOODSANDSERVICESSET2',\n       'TR.ENVPARTNERSHIPSSCORE',\n       'TR.FUTURECAPEXALIGNMENTMETHODOLOGYDISCLOSURE',\n       'TR.TRANSITIONPLANTIMEHORIZONCOVERAGE', 'TR.ANALYTICCONSUMERCOMPLAINTS',\n       'TR.EMISSIONSTRADINGSCORE', 'TR.SOCIALSUPPLYPOLICYINTEGRATION',\n       'TR.NOISEREDUCTIONSCORE',\n       'TR.LTCAT5UPSTREAMWASTEGENERATEDINOPERATIONSSET1',\n       'TR.STGHGEMISSIONNETZEROTARGETSET1', 'TR.AUDITCOMM',\n       'TR.LTCAT12DOWNSTREAMENDOFLIFETREATMENTOFSOLDPRODUCTSSET4',\n       'TR.ANALYTICVOCORPMREDUCTION', 'TR.TOBACCOPRODUCER',\n       'TR.BIODIVERSITYIMPACTREDUCTION', 'TR.MITIGATIONHUMANRIGHTSISSUES',\n       'TR.BLACKORAFRICANAMERICANMINORITIESBOARDPERCENTAGE'],\n      dtype='object')",
     "output_type": "error",
     "traceback": [
      "\u001B[31m---------------------------------------------------------------------------\u001B[39m",
      "\u001B[31mValueError\u001B[39m                                Traceback (most recent call last)",
      "\u001B[36mCell\u001B[39m\u001B[36m \u001B[39m\u001B[32mIn[2]\u001B[39m\u001B[32m, line 2\u001B[39m\n\u001B[32m      1\u001B[39m \u001B[38;5;28;01mwith\u001B[39;00m LSEGDataDownloader(config) \u001B[38;5;28;01mas\u001B[39;00m downloader:\n\u001B[32m----> \u001B[39m\u001B[32m2\u001B[39m     \u001B[43mdownloader\u001B[49m\u001B[43m.\u001B[49m\u001B[43mdownload_all_frames\u001B[49m\u001B[43m(\u001B[49m\u001B[43m)\u001B[49m\n",
      "\u001B[36mFile \u001B[39m\u001B[32m~/PycharmProjects/ML/src/data/download.py:100\u001B[39m, in \u001B[36mLSEGDataDownloader.download_all_frames\u001B[39m\u001B[34m(self)\u001B[39m\n\u001B[32m     98\u001B[39m     \u001B[38;5;28;01mfor\u001B[39;00m dictionary \u001B[38;5;129;01min\u001B[39;00m historic_results:\n\u001B[32m     99\u001B[39m         historic.update(dictionary)\n\u001B[32m--> \u001B[39m\u001B[32m100\u001B[39m \u001B[38;5;28;43mself\u001B[39;49m\u001B[43m.\u001B[49m\u001B[43mmerge_static_and_historic\u001B[49m\u001B[43m(\u001B[49m\u001B[43mstatic\u001B[49m\u001B[43m,\u001B[49m\u001B[43m \u001B[49m\u001B[43mhistoric\u001B[49m\u001B[43m)\u001B[49m\n",
      "\u001B[36mFile \u001B[39m\u001B[32m~/PycharmProjects/ML/src/data/download.py:110\u001B[39m, in \u001B[36mLSEGDataDownloader.merge_static_and_historic\u001B[39m\u001B[34m(self, statdict, histordict)\u001B[39m\n\u001B[32m    108\u001B[39m dataframes: \u001B[38;5;28mdict\u001B[39m[\u001B[38;5;28mstr\u001B[39m, pd.DataFrame] = {}\n\u001B[32m    109\u001B[39m \u001B[38;5;28;01mfor\u001B[39;00m instrument, historic_df \u001B[38;5;129;01min\u001B[39;00m histordict.items():\n\u001B[32m--> \u001B[39m\u001B[32m110\u001B[39m     dataframes[instrument] = \u001B[43mhistoric_df\u001B[49m\u001B[43m.\u001B[49m\u001B[43mjoin\u001B[49m\u001B[43m(\u001B[49m\u001B[43mstatdict\u001B[49m\u001B[43m[\u001B[49m\u001B[43minstrument\u001B[49m\u001B[43m]\u001B[49m\u001B[43m)\u001B[49m\n\u001B[32m    111\u001B[39m static: pd.DataFrame = pd.concat(statdict.values())\n\u001B[32m    112\u001B[39m static.to_csv(\u001B[38;5;28mself\u001B[39m.config.data_dir / \u001B[33m\"\u001B[39m\u001B[33mdatasets\u001B[39m\u001B[33m\"\u001B[39m / \u001B[33m\"\u001B[39m\u001B[33mstatic\u001B[39m\u001B[33m\"\u001B[39m / \u001B[33m\"\u001B[39m\u001B[33mstatic.csv\u001B[39m\u001B[33m\"\u001B[39m)\n",
      "\u001B[36mFile \u001B[39m\u001B[32m~/.pyenv/versions/LSEG-Download/lib/python3.13/site-packages/pandas/core/frame.py:10757\u001B[39m, in \u001B[36mDataFrame.join\u001B[39m\u001B[34m(self, other, on, how, lsuffix, rsuffix, sort, validate)\u001B[39m\n\u001B[32m  10747\u001B[39m     \u001B[38;5;28;01mif\u001B[39;00m how == \u001B[33m\"\u001B[39m\u001B[33mcross\u001B[39m\u001B[33m\"\u001B[39m:\n\u001B[32m  10748\u001B[39m         \u001B[38;5;28;01mreturn\u001B[39;00m merge(\n\u001B[32m  10749\u001B[39m             \u001B[38;5;28mself\u001B[39m,\n\u001B[32m  10750\u001B[39m             other,\n\u001B[32m   (...)\u001B[39m\u001B[32m  10755\u001B[39m             validate=validate,\n\u001B[32m  10756\u001B[39m         )\n\u001B[32m> \u001B[39m\u001B[32m10757\u001B[39m     \u001B[38;5;28;01mreturn\u001B[39;00m \u001B[43mmerge\u001B[49m\u001B[43m(\u001B[49m\n\u001B[32m  10758\u001B[39m \u001B[43m        \u001B[49m\u001B[38;5;28;43mself\u001B[39;49m\u001B[43m,\u001B[49m\n\u001B[32m  10759\u001B[39m \u001B[43m        \u001B[49m\u001B[43mother\u001B[49m\u001B[43m,\u001B[49m\n\u001B[32m  10760\u001B[39m \u001B[43m        \u001B[49m\u001B[43mleft_on\u001B[49m\u001B[43m=\u001B[49m\u001B[43mon\u001B[49m\u001B[43m,\u001B[49m\n\u001B[32m  10761\u001B[39m \u001B[43m        \u001B[49m\u001B[43mhow\u001B[49m\u001B[43m=\u001B[49m\u001B[43mhow\u001B[49m\u001B[43m,\u001B[49m\n\u001B[32m  10762\u001B[39m \u001B[43m        \u001B[49m\u001B[43mleft_index\u001B[49m\u001B[43m=\u001B[49m\u001B[43mon\u001B[49m\u001B[43m \u001B[49m\u001B[38;5;129;43;01mis\u001B[39;49;00m\u001B[43m \u001B[49m\u001B[38;5;28;43;01mNone\u001B[39;49;00m\u001B[43m,\u001B[49m\n\u001B[32m  10763\u001B[39m \u001B[43m        \u001B[49m\u001B[43mright_index\u001B[49m\u001B[43m=\u001B[49m\u001B[38;5;28;43;01mTrue\u001B[39;49;00m\u001B[43m,\u001B[49m\n\u001B[32m  10764\u001B[39m \u001B[43m        \u001B[49m\u001B[43msuffixes\u001B[49m\u001B[43m=\u001B[49m\u001B[43m(\u001B[49m\u001B[43mlsuffix\u001B[49m\u001B[43m,\u001B[49m\u001B[43m \u001B[49m\u001B[43mrsuffix\u001B[49m\u001B[43m)\u001B[49m\u001B[43m,\u001B[49m\n\u001B[32m  10765\u001B[39m \u001B[43m        \u001B[49m\u001B[43msort\u001B[49m\u001B[43m=\u001B[49m\u001B[43msort\u001B[49m\u001B[43m,\u001B[49m\n\u001B[32m  10766\u001B[39m \u001B[43m        \u001B[49m\u001B[43mvalidate\u001B[49m\u001B[43m=\u001B[49m\u001B[43mvalidate\u001B[49m\u001B[43m,\u001B[49m\n\u001B[32m  10767\u001B[39m \u001B[43m    \u001B[49m\u001B[43m)\u001B[49m\n\u001B[32m  10768\u001B[39m \u001B[38;5;28;01melse\u001B[39;00m:\n\u001B[32m  10769\u001B[39m     \u001B[38;5;28;01mif\u001B[39;00m on \u001B[38;5;129;01mis\u001B[39;00m \u001B[38;5;129;01mnot\u001B[39;00m \u001B[38;5;28;01mNone\u001B[39;00m:\n",
      "\u001B[36mFile \u001B[39m\u001B[32m~/.pyenv/versions/LSEG-Download/lib/python3.13/site-packages/pandas/core/reshape/merge.py:184\u001B[39m, in \u001B[36mmerge\u001B[39m\u001B[34m(left, right, how, on, left_on, right_on, left_index, right_index, sort, suffixes, copy, indicator, validate)\u001B[39m\n\u001B[32m    169\u001B[39m \u001B[38;5;28;01melse\u001B[39;00m:\n\u001B[32m    170\u001B[39m     op = _MergeOperation(\n\u001B[32m    171\u001B[39m         left_df,\n\u001B[32m    172\u001B[39m         right_df,\n\u001B[32m   (...)\u001B[39m\u001B[32m    182\u001B[39m         validate=validate,\n\u001B[32m    183\u001B[39m     )\n\u001B[32m--> \u001B[39m\u001B[32m184\u001B[39m     \u001B[38;5;28;01mreturn\u001B[39;00m \u001B[43mop\u001B[49m\u001B[43m.\u001B[49m\u001B[43mget_result\u001B[49m\u001B[43m(\u001B[49m\u001B[43mcopy\u001B[49m\u001B[43m=\u001B[49m\u001B[43mcopy\u001B[49m\u001B[43m)\u001B[49m\n",
      "\u001B[36mFile \u001B[39m\u001B[32m~/.pyenv/versions/LSEG-Download/lib/python3.13/site-packages/pandas/core/reshape/merge.py:888\u001B[39m, in \u001B[36m_MergeOperation.get_result\u001B[39m\u001B[34m(self, copy)\u001B[39m\n\u001B[32m    884\u001B[39m     \u001B[38;5;28mself\u001B[39m.left, \u001B[38;5;28mself\u001B[39m.right = \u001B[38;5;28mself\u001B[39m._indicator_pre_merge(\u001B[38;5;28mself\u001B[39m.left, \u001B[38;5;28mself\u001B[39m.right)\n\u001B[32m    886\u001B[39m join_index, left_indexer, right_indexer = \u001B[38;5;28mself\u001B[39m._get_join_info()\n\u001B[32m--> \u001B[39m\u001B[32m888\u001B[39m result = \u001B[38;5;28;43mself\u001B[39;49m\u001B[43m.\u001B[49m\u001B[43m_reindex_and_concat\u001B[49m\u001B[43m(\u001B[49m\n\u001B[32m    889\u001B[39m \u001B[43m    \u001B[49m\u001B[43mjoin_index\u001B[49m\u001B[43m,\u001B[49m\u001B[43m \u001B[49m\u001B[43mleft_indexer\u001B[49m\u001B[43m,\u001B[49m\u001B[43m \u001B[49m\u001B[43mright_indexer\u001B[49m\u001B[43m,\u001B[49m\u001B[43m \u001B[49m\u001B[43mcopy\u001B[49m\u001B[43m=\u001B[49m\u001B[43mcopy\u001B[49m\n\u001B[32m    890\u001B[39m \u001B[43m\u001B[49m\u001B[43m)\u001B[49m\n\u001B[32m    891\u001B[39m result = result.__finalize__(\u001B[38;5;28mself\u001B[39m, method=\u001B[38;5;28mself\u001B[39m._merge_type)\n\u001B[32m    893\u001B[39m \u001B[38;5;28;01mif\u001B[39;00m \u001B[38;5;28mself\u001B[39m.indicator:\n",
      "\u001B[36mFile \u001B[39m\u001B[32m~/.pyenv/versions/LSEG-Download/lib/python3.13/site-packages/pandas/core/reshape/merge.py:840\u001B[39m, in \u001B[36m_MergeOperation._reindex_and_concat\u001B[39m\u001B[34m(self, join_index, left_indexer, right_indexer, copy)\u001B[39m\n\u001B[32m    837\u001B[39m left = \u001B[38;5;28mself\u001B[39m.left[:]\n\u001B[32m    838\u001B[39m right = \u001B[38;5;28mself\u001B[39m.right[:]\n\u001B[32m--> \u001B[39m\u001B[32m840\u001B[39m llabels, rlabels = \u001B[43m_items_overlap_with_suffix\u001B[49m\u001B[43m(\u001B[49m\n\u001B[32m    841\u001B[39m \u001B[43m    \u001B[49m\u001B[38;5;28;43mself\u001B[39;49m\u001B[43m.\u001B[49m\u001B[43mleft\u001B[49m\u001B[43m.\u001B[49m\u001B[43m_info_axis\u001B[49m\u001B[43m,\u001B[49m\u001B[43m \u001B[49m\u001B[38;5;28;43mself\u001B[39;49m\u001B[43m.\u001B[49m\u001B[43mright\u001B[49m\u001B[43m.\u001B[49m\u001B[43m_info_axis\u001B[49m\u001B[43m,\u001B[49m\u001B[43m \u001B[49m\u001B[38;5;28;43mself\u001B[39;49m\u001B[43m.\u001B[49m\u001B[43msuffixes\u001B[49m\n\u001B[32m    842\u001B[39m \u001B[43m\u001B[49m\u001B[43m)\u001B[49m\n\u001B[32m    844\u001B[39m \u001B[38;5;28;01mif\u001B[39;00m left_indexer \u001B[38;5;129;01mis\u001B[39;00m \u001B[38;5;129;01mnot\u001B[39;00m \u001B[38;5;28;01mNone\u001B[39;00m \u001B[38;5;129;01mand\u001B[39;00m \u001B[38;5;129;01mnot\u001B[39;00m is_range_indexer(left_indexer, \u001B[38;5;28mlen\u001B[39m(left)):\n\u001B[32m    845\u001B[39m     \u001B[38;5;66;03m# Pinning the index here (and in the right code just below) is not\u001B[39;00m\n\u001B[32m    846\u001B[39m     \u001B[38;5;66;03m#  necessary, but makes the `.take` more performant if we have e.g.\u001B[39;00m\n\u001B[32m    847\u001B[39m     \u001B[38;5;66;03m#  a MultiIndex for left.index.\u001B[39;00m\n\u001B[32m    848\u001B[39m     lmgr = left._mgr.reindex_indexer(\n\u001B[32m    849\u001B[39m         join_index,\n\u001B[32m    850\u001B[39m         left_indexer,\n\u001B[32m   (...)\u001B[39m\u001B[32m    855\u001B[39m         use_na_proxy=\u001B[38;5;28;01mTrue\u001B[39;00m,\n\u001B[32m    856\u001B[39m     )\n",
      "\u001B[36mFile \u001B[39m\u001B[32m~/.pyenv/versions/LSEG-Download/lib/python3.13/site-packages/pandas/core/reshape/merge.py:2721\u001B[39m, in \u001B[36m_items_overlap_with_suffix\u001B[39m\u001B[34m(left, right, suffixes)\u001B[39m\n\u001B[32m   2718\u001B[39m lsuffix, rsuffix = suffixes\n\u001B[32m   2720\u001B[39m \u001B[38;5;28;01mif\u001B[39;00m \u001B[38;5;129;01mnot\u001B[39;00m lsuffix \u001B[38;5;129;01mand\u001B[39;00m \u001B[38;5;129;01mnot\u001B[39;00m rsuffix:\n\u001B[32m-> \u001B[39m\u001B[32m2721\u001B[39m     \u001B[38;5;28;01mraise\u001B[39;00m \u001B[38;5;167;01mValueError\u001B[39;00m(\u001B[33mf\u001B[39m\u001B[33m\"\u001B[39m\u001B[33mcolumns overlap but no suffix specified: \u001B[39m\u001B[38;5;132;01m{\u001B[39;00mto_rename\u001B[38;5;132;01m}\u001B[39;00m\u001B[33m\"\u001B[39m)\n\u001B[32m   2723\u001B[39m \u001B[38;5;28;01mdef\u001B[39;00m\u001B[38;5;250m \u001B[39m\u001B[34mrenamer\u001B[39m(x, suffix: \u001B[38;5;28mstr\u001B[39m | \u001B[38;5;28;01mNone\u001B[39;00m):\n\u001B[32m   2724\u001B[39m \u001B[38;5;250m    \u001B[39m\u001B[33;03m\"\"\"\u001B[39;00m\n\u001B[32m   2725\u001B[39m \u001B[33;03m    Rename the left and right indices.\u001B[39;00m\n\u001B[32m   2726\u001B[39m \n\u001B[32m   (...)\u001B[39m\u001B[32m   2737\u001B[39m \u001B[33;03m    x : renamed column name\u001B[39;00m\n\u001B[32m   2738\u001B[39m \u001B[33;03m    \"\"\"\u001B[39;00m\n",
      "\u001B[31mValueError\u001B[39m: columns overlap but no suffix specified: Index(['TR.ANALYTICBOARDFUNCTIONSPOLICYSCORE',\n       'TR.LTCAT1UPSTREAMPURCHASEDGOODSANDSERVICESSET2',\n       'TR.ENVPARTNERSHIPSSCORE',\n       'TR.FUTURECAPEXALIGNMENTMETHODOLOGYDISCLOSURE',\n       'TR.TRANSITIONPLANTIMEHORIZONCOVERAGE', 'TR.ANALYTICCONSUMERCOMPLAINTS',\n       'TR.EMISSIONSTRADINGSCORE', 'TR.SOCIALSUPPLYPOLICYINTEGRATION',\n       'TR.NOISEREDUCTIONSCORE',\n       'TR.LTCAT5UPSTREAMWASTEGENERATEDINOPERATIONSSET1',\n       'TR.STGHGEMISSIONNETZEROTARGETSET1', 'TR.AUDITCOMM',\n       'TR.LTCAT12DOWNSTREAMENDOFLIFETREATMENTOFSOLDPRODUCTSSET4',\n       'TR.ANALYTICVOCORPMREDUCTION', 'TR.TOBACCOPRODUCER',\n       'TR.BIODIVERSITYIMPACTREDUCTION', 'TR.MITIGATIONHUMANRIGHTSISSUES',\n       'TR.BLACKORAFRICANAMERICANMINORITIESBOARDPERCENTAGE'],\n      dtype='object')"
     ]
    }
   ],
   "execution_count": 2
  },
  {
   "metadata": {},
   "cell_type": "code",
   "source": "",
   "id": "cedf05863506fed6",
   "outputs": [],
   "execution_count": null
  }
 ],
 "metadata": {
  "kernelspec": {
   "display_name": "Python 3",
   "language": "python",
   "name": "python3"
  },
  "language_info": {
   "codemirror_mode": {
    "name": "ipython",
    "version": 2
   },
   "file_extension": ".py",
   "mimetype": "text/x-python",
   "name": "python",
   "nbconvert_exporter": "python",
   "pygments_lexer": "ipython2",
   "version": "2.7.6"
  }
 },
 "nbformat": 4,
 "nbformat_minor": 5
}
